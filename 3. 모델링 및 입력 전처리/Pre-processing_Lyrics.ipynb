{
 "cells": [
  {
   "cell_type": "code",
   "execution_count": 1,
   "metadata": {},
   "outputs": [
    {
     "data": {
      "text/plain": [
       "'C:\\\\Users\\\\administrator'"
      ]
     },
     "execution_count": 1,
     "metadata": {},
     "output_type": "execute_result"
    }
   ],
   "source": [
    "import os\n",
    "\n",
    "os.getcwd()"
   ]
  },
  {
   "cell_type": "markdown",
   "metadata": {
    "id": "o83GH1tx2sel"
   },
   "source": [
    "# 1.파일 읽기"
   ]
  },
  {
   "cell_type": "code",
   "execution_count": 2,
   "metadata": {
    "id": "pObtOdakyHJe"
   },
   "outputs": [],
   "source": [
    "from tqdm import tqdm"
   ]
  },
  {
   "cell_type": "code",
   "execution_count": 3,
   "metadata": {
    "colab": {
     "base_uri": "https://localhost:8080/",
     "height": 973
    },
    "executionInfo": {
     "elapsed": 12562,
     "status": "ok",
     "timestamp": 1700802287294,
     "user": {
      "displayName": "강동률",
      "userId": "17439952535664404139"
     },
     "user_tz": -540
    },
    "id": "XX-V9y3L2p6w",
    "outputId": "0ee3158c-dabe-4110-ac3a-d872fab84616",
    "scrolled": true
   },
   "outputs": [],
   "source": [
    "import pandas as pd\n",
    "import numpy as np\n",
    "\n",
    "# file_path = path + 'songs_data_final_2180.csv'\n",
    "data = pd.read_csv('merged_playlists_90000.csv')"
   ]
  },
  {
   "cell_type": "code",
   "execution_count": 4,
   "metadata": {
    "scrolled": true
   },
   "outputs": [
    {
     "data": {
      "text/html": [
       "<div>\n",
       "<style scoped>\n",
       "    .dataframe tbody tr th:only-of-type {\n",
       "        vertical-align: middle;\n",
       "    }\n",
       "\n",
       "    .dataframe tbody tr th {\n",
       "        vertical-align: top;\n",
       "    }\n",
       "\n",
       "    .dataframe thead th {\n",
       "        text-align: right;\n",
       "    }\n",
       "</style>\n",
       "<table border=\"1\" class=\"dataframe\">\n",
       "  <thead>\n",
       "    <tr style=\"text-align: right;\">\n",
       "      <th></th>\n",
       "      <th>song_name</th>\n",
       "      <th>artist</th>\n",
       "      <th>release_date</th>\n",
       "      <th>album</th>\n",
       "      <th>genre</th>\n",
       "      <th>lyric</th>\n",
       "      <th>playlist_name</th>\n",
       "    </tr>\n",
       "  </thead>\n",
       "  <tbody>\n",
       "    <tr>\n",
       "      <th>0</th>\n",
       "      <td>사랑이 너무 헤퍼</td>\n",
       "      <td>이강승</td>\n",
       "      <td>21.03.11</td>\n",
       "      <td>Korean Dream</td>\n",
       "      <td>인디음악</td>\n",
       "      <td>사랑이 너무 헤퍼서 그 말을 못 했네 말라붙은 입에 잘못은 아니고 스쳐진 옷깃에 우...</td>\n",
       "      <td>내 손을 꼭 쥐고 들려주는 인디 노래</td>\n",
       "    </tr>\n",
       "    <tr>\n",
       "      <th>1</th>\n",
       "      <td>가을밤에 든 생각</td>\n",
       "      <td>잔나비</td>\n",
       "      <td>20.11.06</td>\n",
       "      <td>잔나비 소곡집 l</td>\n",
       "      <td>록/메탈</td>\n",
       "      <td>머나먼 별빛 저 별에서도 노랠 부르는 사랑 살겠지 밤이면 오손도손 그리운 것들 모아...</td>\n",
       "      <td>내 손을 꼭 쥐고 들려주는 인디 노래</td>\n",
       "    </tr>\n",
       "    <tr>\n",
       "      <th>2</th>\n",
       "      <td>Something To Love</td>\n",
       "      <td>전기장판</td>\n",
       "      <td>19.09.09</td>\n",
       "      <td>Something To Love</td>\n",
       "      <td>인디음악</td>\n",
       "      <td>Something to love Something to love 모난 모서리가 아프...</td>\n",
       "      <td>내 손을 꼭 쥐고 들려주는 인디 노래</td>\n",
       "    </tr>\n",
       "    <tr>\n",
       "      <th>3</th>\n",
       "      <td>아침</td>\n",
       "      <td>이예린</td>\n",
       "      <td>21.01.19</td>\n",
       "      <td>먼 마음 2/2</td>\n",
       "      <td>포크/블루스</td>\n",
       "      <td>솔직하게 말할게요 자신이 없어요 잘하고 싶어도 잘 안됐어요 좋게 생각하려 해도 금세...</td>\n",
       "      <td>내 손을 꼭 쥐고 들려주는 인디 노래</td>\n",
       "    </tr>\n",
       "    <tr>\n",
       "      <th>4</th>\n",
       "      <td>아마도 우린</td>\n",
       "      <td>우효</td>\n",
       "      <td>15.10.07</td>\n",
       "      <td>어드벤처</td>\n",
       "      <td>일렉트로니카</td>\n",
       "      <td>아마도 우린 아마도 여기까진가 봐 아무리 아닌 척 해봐도 이렇게 우린 서로에게 아픈...</td>\n",
       "      <td>내 손을 꼭 쥐고 들려주는 인디 노래</td>\n",
       "    </tr>\n",
       "  </tbody>\n",
       "</table>\n",
       "</div>"
      ],
      "text/plain": [
       "           song_name artist release_date              album   genre  \\\n",
       "0          사랑이 너무 헤퍼    이강승     21.03.11       Korean Dream    인디음악   \n",
       "1          가을밤에 든 생각    잔나비     20.11.06          잔나비 소곡집 l    록/메탈   \n",
       "2  Something To Love   전기장판     19.09.09  Something To Love    인디음악   \n",
       "3                 아침    이예린     21.01.19           먼 마음 2/2  포크/블루스   \n",
       "4             아마도 우린     우효     15.10.07               어드벤처  일렉트로니카   \n",
       "\n",
       "                                               lyric         playlist_name  \n",
       "0  사랑이 너무 헤퍼서 그 말을 못 했네 말라붙은 입에 잘못은 아니고 스쳐진 옷깃에 우...  내 손을 꼭 쥐고 들려주는 인디 노래  \n",
       "1  머나먼 별빛 저 별에서도 노랠 부르는 사랑 살겠지 밤이면 오손도손 그리운 것들 모아...  내 손을 꼭 쥐고 들려주는 인디 노래  \n",
       "2  Something to love Something to love 모난 모서리가 아프...  내 손을 꼭 쥐고 들려주는 인디 노래  \n",
       "3  솔직하게 말할게요 자신이 없어요 잘하고 싶어도 잘 안됐어요 좋게 생각하려 해도 금세...  내 손을 꼭 쥐고 들려주는 인디 노래  \n",
       "4  아마도 우린 아마도 여기까진가 봐 아무리 아닌 척 해봐도 이렇게 우린 서로에게 아픈...  내 손을 꼭 쥐고 들려주는 인디 노래  "
      ]
     },
     "execution_count": 4,
     "metadata": {},
     "output_type": "execute_result"
    }
   ],
   "source": [
    "data.head()"
   ]
  },
  {
   "cell_type": "code",
   "execution_count": 5,
   "metadata": {},
   "outputs": [],
   "source": [
    "data.dropna(inplace= True)"
   ]
  },
  {
   "cell_type": "code",
   "execution_count": 6,
   "metadata": {
    "scrolled": true
   },
   "outputs": [
    {
     "data": {
      "text/plain": [
       "song_name        0\n",
       "artist           0\n",
       "release_date     0\n",
       "album            0\n",
       "genre            0\n",
       "lyric            0\n",
       "playlist_name    0\n",
       "dtype: int64"
      ]
     },
     "execution_count": 6,
     "metadata": {},
     "output_type": "execute_result"
    }
   ],
   "source": [
    "data.isnull().sum()"
   ]
  },
  {
   "cell_type": "code",
   "execution_count": 7,
   "metadata": {},
   "outputs": [
    {
     "data": {
      "text/plain": [
       "4937142"
      ]
     },
     "execution_count": 7,
     "metadata": {},
     "output_type": "execute_result"
    }
   ],
   "source": [
    "len(data)"
   ]
  },
  {
   "cell_type": "markdown",
   "metadata": {
    "id": "aBc9HMNNtvPj"
   },
   "source": [
    "## 1.5 저장경로 재설정"
   ]
  },
  {
   "cell_type": "code",
   "execution_count": 8,
   "metadata": {},
   "outputs": [
    {
     "data": {
      "text/plain": [
       "'C:\\\\Users\\\\administrator'"
      ]
     },
     "execution_count": 8,
     "metadata": {},
     "output_type": "execute_result"
    }
   ],
   "source": [
    "import os\n",
    "\n",
    "os.getcwd()"
   ]
  },
  {
   "cell_type": "code",
   "execution_count": 9,
   "metadata": {},
   "outputs": [
    {
     "name": "stdout",
     "output_type": "stream",
     "text": [
      "C:\\Users\\administrator\\전처리데이터\n"
     ]
    },
    {
     "data": {
      "text/plain": [
       "'C:\\\\Users\\\\administrator\\\\전처리데이터'"
      ]
     },
     "execution_count": 9,
     "metadata": {},
     "output_type": "execute_result"
    }
   ],
   "source": [
    "%cd C:\\\\Users\\\\administrator\\\\전처리데이터\n",
    "\n",
    "os.getcwd()"
   ]
  },
  {
   "cell_type": "markdown",
   "metadata": {
    "id": "zJlpLyxhLoKd"
   },
   "source": [
    "# 2.파라미터 설정"
   ]
  },
  {
   "cell_type": "code",
   "execution_count": 10,
   "metadata": {
    "id": "kLQh1UWxLnON"
   },
   "outputs": [],
   "source": [
    "max_songs = 42\n",
    "playlist_length = 25\n",
    "lyrics_length = 150"
   ]
  },
  {
   "cell_type": "code",
   "execution_count": null,
   "metadata": {
    "id": "GldCI7zKLnQd"
   },
   "outputs": [],
   "source": []
  },
  {
   "cell_type": "markdown",
   "metadata": {
    "id": "mUmkgUiO3Ls-"
   },
   "source": [
    "# 4.토크나이저 생성, 토큰화 진행"
   ]
  },
  {
   "cell_type": "markdown",
   "metadata": {
    "id": "OfhAN3zJ3OM2"
   },
   "source": [
    "## 1) Bert : encoder_input(playlist_title), lyric"
   ]
  },
  {
   "cell_type": "code",
   "execution_count": 11,
   "metadata": {
    "id": "ZVGAlDOP3CXT"
   },
   "outputs": [
    {
     "name": "stdout",
     "output_type": "stream",
     "text": [
      "WARNING:tensorflow:From C:\\Users\\administrator\\anaconda3\\Lib\\site-packages\\keras\\src\\losses.py:2976: The name tf.losses.sparse_softmax_cross_entropy is deprecated. Please use tf.compat.v1.losses.sparse_softmax_cross_entropy instead.\n",
      "\n"
     ]
    }
   ],
   "source": [
    "# 필요한 라이브러리 임포트\n",
    "from tensorflow.keras.preprocessing.text import Tokenizer\n",
    "\n",
    "# BERT 토크나이저(encoder_playlist, decoder_lyrics) import\n",
    "from transformers import BertTokenizer"
   ]
  },
  {
   "cell_type": "code",
   "execution_count": 12,
   "metadata": {
    "id": "ToFt590P_Ws4"
   },
   "outputs": [],
   "source": [
    "# BERT_playlist 토크나이저 생성\n",
    "# playlist_title_tokenizer = BertTokenizer.from_pretrained('bert-base-multilingual-cased')\n",
    "lyric_tokenizer = BertTokenizer.from_pretrained('bert-base-multilingual-cased')"
   ]
  },
  {
   "cell_type": "markdown",
   "metadata": {
    "id": "spJuJn-dfiPS"
   },
   "source": [
    "# 5.데이터 GruopBy 및 Shuffle"
   ]
  },
  {
   "cell_type": "code",
   "execution_count": 13,
   "metadata": {
    "id": "A5ydBuHF_8RH"
   },
   "outputs": [],
   "source": [
    "# 데이터셋 로드\n",
    "\n",
    "# 플레이리스트별로 그룹화\n",
    "grouped = data.groupby('playlist_name')\n",
    "\n",
    "shuffled_grouped = grouped"
   ]
  },
  {
   "cell_type": "code",
   "execution_count": 14,
   "metadata": {
    "scrolled": true
   },
   "outputs": [
    {
     "data": {
      "text/html": [
       "<div>\n",
       "<style scoped>\n",
       "    .dataframe tbody tr th:only-of-type {\n",
       "        vertical-align: middle;\n",
       "    }\n",
       "\n",
       "    .dataframe tbody tr th {\n",
       "        vertical-align: top;\n",
       "    }\n",
       "\n",
       "    .dataframe thead th {\n",
       "        text-align: right;\n",
       "    }\n",
       "</style>\n",
       "<table border=\"1\" class=\"dataframe\">\n",
       "  <thead>\n",
       "    <tr style=\"text-align: right;\">\n",
       "      <th></th>\n",
       "      <th>song_name</th>\n",
       "      <th>artist</th>\n",
       "      <th>release_date</th>\n",
       "      <th>album</th>\n",
       "      <th>genre</th>\n",
       "      <th>lyric</th>\n",
       "      <th>playlist_name</th>\n",
       "    </tr>\n",
       "  </thead>\n",
       "  <tbody>\n",
       "    <tr>\n",
       "      <th>0</th>\n",
       "      <td>사랑이 너무 헤퍼</td>\n",
       "      <td>이강승</td>\n",
       "      <td>21.03.11</td>\n",
       "      <td>Korean Dream</td>\n",
       "      <td>인디음악</td>\n",
       "      <td>사랑이 너무 헤퍼서 그 말을 못 했네 말라붙은 입에 잘못은 아니고 스쳐진 옷깃에 우...</td>\n",
       "      <td>내 손을 꼭 쥐고 들려주는 인디 노래</td>\n",
       "    </tr>\n",
       "    <tr>\n",
       "      <th>1</th>\n",
       "      <td>가을밤에 든 생각</td>\n",
       "      <td>잔나비</td>\n",
       "      <td>20.11.06</td>\n",
       "      <td>잔나비 소곡집 l</td>\n",
       "      <td>록/메탈</td>\n",
       "      <td>머나먼 별빛 저 별에서도 노랠 부르는 사랑 살겠지 밤이면 오손도손 그리운 것들 모아...</td>\n",
       "      <td>내 손을 꼭 쥐고 들려주는 인디 노래</td>\n",
       "    </tr>\n",
       "    <tr>\n",
       "      <th>2</th>\n",
       "      <td>Something To Love</td>\n",
       "      <td>전기장판</td>\n",
       "      <td>19.09.09</td>\n",
       "      <td>Something To Love</td>\n",
       "      <td>인디음악</td>\n",
       "      <td>Something to love Something to love 모난 모서리가 아프...</td>\n",
       "      <td>내 손을 꼭 쥐고 들려주는 인디 노래</td>\n",
       "    </tr>\n",
       "    <tr>\n",
       "      <th>3</th>\n",
       "      <td>아침</td>\n",
       "      <td>이예린</td>\n",
       "      <td>21.01.19</td>\n",
       "      <td>먼 마음 2/2</td>\n",
       "      <td>포크/블루스</td>\n",
       "      <td>솔직하게 말할게요 자신이 없어요 잘하고 싶어도 잘 안됐어요 좋게 생각하려 해도 금세...</td>\n",
       "      <td>내 손을 꼭 쥐고 들려주는 인디 노래</td>\n",
       "    </tr>\n",
       "    <tr>\n",
       "      <th>4</th>\n",
       "      <td>아마도 우린</td>\n",
       "      <td>우효</td>\n",
       "      <td>15.10.07</td>\n",
       "      <td>어드벤처</td>\n",
       "      <td>일렉트로니카</td>\n",
       "      <td>아마도 우린 아마도 여기까진가 봐 아무리 아닌 척 해봐도 이렇게 우린 서로에게 아픈...</td>\n",
       "      <td>내 손을 꼭 쥐고 들려주는 인디 노래</td>\n",
       "    </tr>\n",
       "    <tr>\n",
       "      <th>...</th>\n",
       "      <td>...</td>\n",
       "      <td>...</td>\n",
       "      <td>...</td>\n",
       "      <td>...</td>\n",
       "      <td>...</td>\n",
       "      <td>...</td>\n",
       "      <td>...</td>\n",
       "    </tr>\n",
       "    <tr>\n",
       "      <th>4937039</th>\n",
       "      <td>Liszt : Paganini Etude No.3 In G Sharp Minor S...</td>\n",
       "      <td>클래식시네마</td>\n",
       "      <td>18.12.19</td>\n",
       "      <td>드라마 영화 OST 속 클래식피아노 연주곡 모음집</td>\n",
       "      <td>독주곡</td>\n",
       "      <td>아직 가사가 등록되지 않았습니다.</td>\n",
       "      <td>가을에 어울리는 센치한 감성의 노래</td>\n",
       "    </tr>\n",
       "    <tr>\n",
       "      <th>4937040</th>\n",
       "      <td>Martini : Plaisir D'amour (마르티니 : 사랑의 기쁨) (For...</td>\n",
       "      <td>클래식시네마</td>\n",
       "      <td>18.12.19</td>\n",
       "      <td>드라마 영화 OST 속 클래식피아노 연주곡 모음집</td>\n",
       "      <td>독주곡</td>\n",
       "      <td>아직 가사가 등록되지 않았습니다.</td>\n",
       "      <td>가을에 어울리는 센치한 감성의 노래</td>\n",
       "    </tr>\n",
       "    <tr>\n",
       "      <th>4937041</th>\n",
       "      <td>Chopin : Waltz No.9 In A Flat Major Op.69 'L'A...</td>\n",
       "      <td>클래식시네마</td>\n",
       "      <td>18.12.19</td>\n",
       "      <td>드라마 영화 OST 속 클래식피아노 연주곡 모음집</td>\n",
       "      <td>독주곡</td>\n",
       "      <td>아직 가사가 등록되지 않았습니다.</td>\n",
       "      <td>가을에 어울리는 센치한 감성의 노래</td>\n",
       "    </tr>\n",
       "    <tr>\n",
       "      <th>4937042</th>\n",
       "      <td>Satie : Gymnopedies No.1 - Lent Et Douloureux ...</td>\n",
       "      <td>클래식시네마</td>\n",
       "      <td>18.12.19</td>\n",
       "      <td>드라마 영화 OST 속 클래식피아노 연주곡 모음집</td>\n",
       "      <td>독주곡</td>\n",
       "      <td>아직 가사가 등록되지 않았습니다.</td>\n",
       "      <td>가을에 어울리는 센치한 감성의 노래</td>\n",
       "    </tr>\n",
       "    <tr>\n",
       "      <th>4937043</th>\n",
       "      <td>Grieg : Peer Gynt Suite No.1 Op.46 - I. Mornin...</td>\n",
       "      <td>클래식시네마</td>\n",
       "      <td>18.12.19</td>\n",
       "      <td>드라마 영화 OST 속 클래식피아노 연주곡 모음집</td>\n",
       "      <td>독주곡</td>\n",
       "      <td>아직 가사가 등록되지 않았습니다.</td>\n",
       "      <td>가을에 어울리는 센치한 감성의 노래</td>\n",
       "    </tr>\n",
       "  </tbody>\n",
       "</table>\n",
       "<p>465282 rows × 7 columns</p>\n",
       "</div>"
      ],
      "text/plain": [
       "                                                 song_name  artist  \\\n",
       "0                                                사랑이 너무 헤퍼     이강승   \n",
       "1                                                가을밤에 든 생각     잔나비   \n",
       "2                                        Something To Love    전기장판   \n",
       "3                                                       아침     이예린   \n",
       "4                                                   아마도 우린      우효   \n",
       "...                                                    ...     ...   \n",
       "4937039  Liszt : Paganini Etude No.3 In G Sharp Minor S...  클래식시네마   \n",
       "4937040  Martini : Plaisir D'amour (마르티니 : 사랑의 기쁨) (For...  클래식시네마   \n",
       "4937041  Chopin : Waltz No.9 In A Flat Major Op.69 'L'A...  클래식시네마   \n",
       "4937042  Satie : Gymnopedies No.1 - Lent Et Douloureux ...  클래식시네마   \n",
       "4937043  Grieg : Peer Gynt Suite No.1 Op.46 - I. Mornin...  클래식시네마   \n",
       "\n",
       "        release_date                        album   genre  \\\n",
       "0           21.03.11                 Korean Dream    인디음악   \n",
       "1           20.11.06                    잔나비 소곡집 l    록/메탈   \n",
       "2           19.09.09            Something To Love    인디음악   \n",
       "3           21.01.19                     먼 마음 2/2  포크/블루스   \n",
       "4           15.10.07                         어드벤처  일렉트로니카   \n",
       "...              ...                          ...     ...   \n",
       "4937039     18.12.19  드라마 영화 OST 속 클래식피아노 연주곡 모음집     독주곡   \n",
       "4937040     18.12.19  드라마 영화 OST 속 클래식피아노 연주곡 모음집     독주곡   \n",
       "4937041     18.12.19  드라마 영화 OST 속 클래식피아노 연주곡 모음집     독주곡   \n",
       "4937042     18.12.19  드라마 영화 OST 속 클래식피아노 연주곡 모음집     독주곡   \n",
       "4937043     18.12.19  드라마 영화 OST 속 클래식피아노 연주곡 모음집     독주곡   \n",
       "\n",
       "                                                     lyric  \\\n",
       "0        사랑이 너무 헤퍼서 그 말을 못 했네 말라붙은 입에 잘못은 아니고 스쳐진 옷깃에 우...   \n",
       "1        머나먼 별빛 저 별에서도 노랠 부르는 사랑 살겠지 밤이면 오손도손 그리운 것들 모아...   \n",
       "2        Something to love Something to love 모난 모서리가 아프...   \n",
       "3        솔직하게 말할게요 자신이 없어요 잘하고 싶어도 잘 안됐어요 좋게 생각하려 해도 금세...   \n",
       "4        아마도 우린 아마도 여기까진가 봐 아무리 아닌 척 해봐도 이렇게 우린 서로에게 아픈...   \n",
       "...                                                    ...   \n",
       "4937039                                 아직 가사가 등록되지 않았습니다.   \n",
       "4937040                                 아직 가사가 등록되지 않았습니다.   \n",
       "4937041                                 아직 가사가 등록되지 않았습니다.   \n",
       "4937042                                 아직 가사가 등록되지 않았습니다.   \n",
       "4937043                                 아직 가사가 등록되지 않았습니다.   \n",
       "\n",
       "                playlist_name  \n",
       "0        내 손을 꼭 쥐고 들려주는 인디 노래  \n",
       "1        내 손을 꼭 쥐고 들려주는 인디 노래  \n",
       "2        내 손을 꼭 쥐고 들려주는 인디 노래  \n",
       "3        내 손을 꼭 쥐고 들려주는 인디 노래  \n",
       "4        내 손을 꼭 쥐고 들려주는 인디 노래  \n",
       "...                       ...  \n",
       "4937039   가을에 어울리는 센치한 감성의 노래  \n",
       "4937040   가을에 어울리는 센치한 감성의 노래  \n",
       "4937041   가을에 어울리는 센치한 감성의 노래  \n",
       "4937042   가을에 어울리는 센치한 감성의 노래  \n",
       "4937043   가을에 어울리는 센치한 감성의 노래  \n",
       "\n",
       "[465282 rows x 7 columns]"
      ]
     },
     "execution_count": 14,
     "metadata": {},
     "output_type": "execute_result"
    }
   ],
   "source": [
    "shuffled_grouped.head()"
   ]
  },
  {
   "cell_type": "code",
   "execution_count": 15,
   "metadata": {},
   "outputs": [
    {
     "name": "stdout",
     "output_type": "stream",
     "text": [
      "! HOT TRENDY ! 놓쳐선 안될 '감성힙합' [매주 업데이트]\n",
      "! 노래만 들어도 여름 향기 물씬 아이돌 노래 플레이리스트 !\n"
     ]
    }
   ],
   "source": [
    "count = 0\n",
    "for name, _ in grouped :\n",
    "    if count < 2 :\n",
    "        print(name)\n",
    "        \n",
    "    else :\n",
    "        break\n",
    "\n",
    "    count += 1 "
   ]
  },
  {
   "cell_type": "markdown",
   "metadata": {
    "id": "EHoPb135W9cq"
   },
   "source": [
    "# 8.가사 데이터 전처리"
   ]
  },
  {
   "cell_type": "code",
   "execution_count": 16,
   "metadata": {},
   "outputs": [
    {
     "name": "stderr",
     "output_type": "stream",
     "text": [
      "100%|██████████████████████████████████████████████████████████████████████████| 93111/93111 [3:17:37<00:00,  7.85it/s]\n"
     ]
    }
   ],
   "source": [
    "lyrics_sequences = []\n",
    "\n",
    "# 시작(SOS) 및 종료(EOS) 시퀀스 추가\n",
    "sos_sequence = [0] * lyrics_length  # SOS 시퀀스\n",
    "eos_sequence = [0] * lyrics_length  # EOS 시퀀스\n",
    "count = 0\n",
    "\n",
    "for _, group in tqdm(shuffled_grouped):\n",
    "    count += 1\n",
    "\n",
    "    # 각 플레이리스트의 가사 데이터 토큰화\n",
    "    playlist_lyrics = group['lyric'].tolist()\n",
    "\n",
    "    # 토큰화 및 패딩 추가\n",
    "    playlist_lyrics_tokenized_padded = []\n",
    "    for lyric in playlist_lyrics:\n",
    "        tokenized_lyric = lyric_tokenizer.encode(lyric, add_special_tokens= False,\n",
    "                                                 max_length=lyrics_length, truncation=True)\n",
    "        # 필요한 경우 패딩 추가\n",
    "        padded_lyric = tokenized_lyric + [0] * (lyrics_length - len(tokenized_lyric))\n",
    "        playlist_lyrics_tokenized_padded.append(padded_lyric)\n",
    "\n",
    "    # 노래 수에 따른 처리\n",
    "    if len(playlist_lyrics_tokenized_padded) <= max_songs - 2:\n",
    "        # 부족한 부분은 0으로 채워진 시퀀스로 패딩\n",
    "        padding = [[0] * lyrics_length] * (max_songs - 2 - len(playlist_lyrics_tokenized_padded))\n",
    "        playlist_lyrics_sequence = [sos_sequence] + playlist_lyrics_tokenized_padded + padding + [eos_sequence]\n",
    "    else:\n",
    "        # 초과하는 노래들을 잘라냄\n",
    "        playlist_lyrics_sequence = [sos_sequence] + playlist_lyrics_tokenized_padded[:max_songs - 2] + [eos_sequence]\n",
    "        \n",
    "    lyrics_sequences.append(playlist_lyrics_sequence)\n",
    "    \n",
    "# len(lyrics_sequences[0]), len(lyrics_sequences[0][0])"
   ]
  },
  {
   "cell_type": "code",
   "execution_count": null,
   "metadata": {},
   "outputs": [],
   "source": []
  },
  {
   "cell_type": "markdown",
   "metadata": {
    "id": "sfnXX6JWc5si"
   },
   "source": [
    "# 10.데이터저장하기"
   ]
  },
  {
   "cell_type": "code",
   "execution_count": 17,
   "metadata": {
    "colab": {
     "base_uri": "https://localhost:8080/"
    },
    "executionInfo": {
     "elapsed": 346,
     "status": "ok",
     "timestamp": 1700794934689,
     "user": {
      "displayName": "강동률",
      "userId": "17439952535664404139"
     },
     "user_tz": -540
    },
    "id": "dpeTo5W667-1",
    "outputId": "f5faf9bf-4a49-490a-c559-d5ce8d494741"
   },
   "outputs": [
    {
     "name": "stdout",
     "output_type": "stream",
     "text": [
      "<class 'list'>\n"
     ]
    }
   ],
   "source": [
    "print(type(lyrics_sequences))\n",
    "#print(type(target_targets))\n",
    "# print(type(audio_feature_sequences))"
   ]
  },
  {
   "cell_type": "code",
   "execution_count": 18,
   "metadata": {},
   "outputs": [
    {
     "name": "stdout",
     "output_type": "stream",
     "text": [
      "lyrics_tokenizer : 119547\n"
     ]
    }
   ],
   "source": [
    "# 고유 식별자를 사용하여 토크나이저 피팅\n",
    "print('lyrics_tokenizer :', lyric_tokenizer.vocab_size)"
   ]
  },
  {
   "cell_type": "code",
   "execution_count": 19,
   "metadata": {
    "colab": {
     "base_uri": "https://localhost:8080/"
    },
    "executionInfo": {
     "elapsed": 360,
     "status": "ok",
     "timestamp": 1700804622333,
     "user": {
      "displayName": "강동률",
      "userId": "17439952535664404139"
     },
     "user_tz": -540
    },
    "id": "SpGI2pz_2NOo",
    "outputId": "097881cf-083a-4565-a872-3c0092724b13"
   },
   "outputs": [],
   "source": [
    "lyrics_sequences_np = np.array(lyrics_sequences)\n",
    "# audio_feature_sequences_np = np.array(audio_feature_sequences)"
   ]
  },
  {
   "cell_type": "code",
   "execution_count": 20,
   "metadata": {},
   "outputs": [
    {
     "data": {
      "text/plain": [
       "(93111, 42, 150)"
      ]
     },
     "execution_count": 20,
     "metadata": {},
     "output_type": "execute_result"
    }
   ],
   "source": [
    "lyrics_sequences_np.shape"
   ]
  },
  {
   "cell_type": "code",
   "execution_count": 21,
   "metadata": {},
   "outputs": [],
   "source": [
    "# lyrics_sequences 저장\n",
    "np.save('lyrics_input_9.npy', lyrics_sequences_np)\n",
    "\n",
    "# target_targets 저장\n",
    "# # audio_feature_sequences 저장\n",
    "# np.save('audio_features_input.npy', audio_feature_sequences_np)"
   ]
  },
  {
   "cell_type": "markdown",
   "metadata": {
    "id": "CQqCAYl_cxfk"
   },
   "source": [
    "# 11.하이퍼파라미터 설정"
   ]
  },
  {
   "cell_type": "code",
   "execution_count": 22,
   "metadata": {
    "id": "1s_nhppCV2UR"
   },
   "outputs": [],
   "source": [
    "lyric_vocab = lyric_tokenizer.vocab_size + 1"
   ]
  },
  {
   "cell_type": "code",
   "execution_count": 23,
   "metadata": {
    "colab": {
     "base_uri": "https://localhost:8080/"
    },
    "executionInfo": {
     "elapsed": 416,
     "status": "ok",
     "timestamp": 1700804148738,
     "user": {
      "displayName": "강동률",
      "userId": "17439952535664404139"
     },
     "user_tz": -540
    },
    "id": "Kv1pUI-gblTq",
    "outputId": "324b83c0-26bb-42e1-e747-0579987bca4c",
    "scrolled": true
   },
   "outputs": [
    {
     "name": "stdout",
     "output_type": "stream",
     "text": [
      "lyric_vocab : 119548\n"
     ]
    }
   ],
   "source": [
    "print('lyric_vocab :', lyric_vocab)"
   ]
  },
  {
   "cell_type": "code",
   "execution_count": 24,
   "metadata": {},
   "outputs": [
    {
     "data": {
      "text/plain": [
       "array([[     0,      0,      0, ...,      0,      0,      0],\n",
       "       [  9798,  97146,   9604, ...,  48549,   9405,  62200],\n",
       "       [  8924,   9032,  11287, ...,  12965,   8996,  11287],\n",
       "       ...,\n",
       "       [  9450,  10622,   9656, ...,  10892,   9405,  61250],\n",
       "       [  9580, 118762,  17655, ...,  14153,   9645,  12508],\n",
       "       [     0,      0,      0, ...,      0,      0,      0]])"
      ]
     },
     "execution_count": 24,
     "metadata": {},
     "output_type": "execute_result"
    }
   ],
   "source": [
    "lyrics_sequences_np[0]"
   ]
  },
  {
   "cell_type": "code",
   "execution_count": null,
   "metadata": {},
   "outputs": [],
   "source": []
  }
 ],
 "metadata": {
  "colab": {
   "authorship_tag": "ABX9TyOLqDwQflzLuqsJ15xW0HAe",
   "provenance": []
  },
  "kernelspec": {
   "display_name": "Python 3 (ipykernel)",
   "language": "python",
   "name": "python3"
  },
  "language_info": {
   "codemirror_mode": {
    "name": "ipython",
    "version": 3
   },
   "file_extension": ".py",
   "mimetype": "text/x-python",
   "name": "python",
   "nbconvert_exporter": "python",
   "pygments_lexer": "ipython3",
   "version": "3.11.5"
  }
 },
 "nbformat": 4,
 "nbformat_minor": 1
}
