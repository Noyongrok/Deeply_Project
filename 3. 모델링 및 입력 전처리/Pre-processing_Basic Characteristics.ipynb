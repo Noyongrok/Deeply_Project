{
 "cells": [
  {
   "cell_type": "code",
   "execution_count": 1,
   "metadata": {},
   "outputs": [
    {
     "data": {
      "text/plain": [
       "'C:\\\\Users\\\\administrator'"
      ]
     },
     "execution_count": 1,
     "metadata": {},
     "output_type": "execute_result"
    }
   ],
   "source": [
    "import os\n",
    "\n",
    "os.getcwd()"
   ]
  },
  {
   "cell_type": "markdown",
   "metadata": {
    "id": "o83GH1tx2sel"
   },
   "source": [
    "# 1.파일 읽기"
   ]
  },
  {
   "cell_type": "code",
   "execution_count": 2,
   "metadata": {
    "id": "pObtOdakyHJe"
   },
   "outputs": [],
   "source": [
    "from tqdm import tqdm"
   ]
  },
  {
   "cell_type": "code",
   "execution_count": 3,
   "metadata": {
    "colab": {
     "base_uri": "https://localhost:8080/",
     "height": 973
    },
    "executionInfo": {
     "elapsed": 12562,
     "status": "ok",
     "timestamp": 1700802287294,
     "user": {
      "displayName": "강동률",
      "userId": "17439952535664404139"
     },
     "user_tz": -540
    },
    "id": "XX-V9y3L2p6w",
    "outputId": "0ee3158c-dabe-4110-ac3a-d872fab84616",
    "scrolled": true
   },
   "outputs": [
    {
     "data": {
      "text/html": [
       "<div>\n",
       "<style scoped>\n",
       "    .dataframe tbody tr th:only-of-type {\n",
       "        vertical-align: middle;\n",
       "    }\n",
       "\n",
       "    .dataframe tbody tr th {\n",
       "        vertical-align: top;\n",
       "    }\n",
       "\n",
       "    .dataframe thead th {\n",
       "        text-align: right;\n",
       "    }\n",
       "</style>\n",
       "<table border=\"1\" class=\"dataframe\">\n",
       "  <thead>\n",
       "    <tr style=\"text-align: right;\">\n",
       "      <th></th>\n",
       "      <th>song_name</th>\n",
       "      <th>artist</th>\n",
       "      <th>release_date</th>\n",
       "      <th>album</th>\n",
       "      <th>genre</th>\n",
       "      <th>lyric</th>\n",
       "      <th>playlist_name</th>\n",
       "    </tr>\n",
       "  </thead>\n",
       "  <tbody>\n",
       "    <tr>\n",
       "      <th>0</th>\n",
       "      <td>사랑이 너무 헤퍼</td>\n",
       "      <td>이강승</td>\n",
       "      <td>21.03.11</td>\n",
       "      <td>Korean Dream</td>\n",
       "      <td>인디음악</td>\n",
       "      <td>사랑이 너무 헤퍼서 그 말을 못 했네 말라붙은 입에 잘못은 아니고 스쳐진 옷깃에 우...</td>\n",
       "      <td>내 손을 꼭 쥐고 들려주는 인디 노래</td>\n",
       "    </tr>\n",
       "    <tr>\n",
       "      <th>1</th>\n",
       "      <td>가을밤에 든 생각</td>\n",
       "      <td>잔나비</td>\n",
       "      <td>20.11.06</td>\n",
       "      <td>잔나비 소곡집 l</td>\n",
       "      <td>록/메탈</td>\n",
       "      <td>머나먼 별빛 저 별에서도 노랠 부르는 사랑 살겠지 밤이면 오손도손 그리운 것들 모아...</td>\n",
       "      <td>내 손을 꼭 쥐고 들려주는 인디 노래</td>\n",
       "    </tr>\n",
       "    <tr>\n",
       "      <th>2</th>\n",
       "      <td>Something To Love</td>\n",
       "      <td>전기장판</td>\n",
       "      <td>19.09.09</td>\n",
       "      <td>Something To Love</td>\n",
       "      <td>인디음악</td>\n",
       "      <td>Something to love Something to love 모난 모서리가 아프...</td>\n",
       "      <td>내 손을 꼭 쥐고 들려주는 인디 노래</td>\n",
       "    </tr>\n",
       "    <tr>\n",
       "      <th>3</th>\n",
       "      <td>아침</td>\n",
       "      <td>이예린</td>\n",
       "      <td>21.01.19</td>\n",
       "      <td>먼 마음 2/2</td>\n",
       "      <td>포크/블루스</td>\n",
       "      <td>솔직하게 말할게요 자신이 없어요 잘하고 싶어도 잘 안됐어요 좋게 생각하려 해도 금세...</td>\n",
       "      <td>내 손을 꼭 쥐고 들려주는 인디 노래</td>\n",
       "    </tr>\n",
       "    <tr>\n",
       "      <th>4</th>\n",
       "      <td>아마도 우린</td>\n",
       "      <td>우효</td>\n",
       "      <td>15.10.07</td>\n",
       "      <td>어드벤처</td>\n",
       "      <td>일렉트로니카</td>\n",
       "      <td>아마도 우린 아마도 여기까진가 봐 아무리 아닌 척 해봐도 이렇게 우린 서로에게 아픈...</td>\n",
       "      <td>내 손을 꼭 쥐고 들려주는 인디 노래</td>\n",
       "    </tr>\n",
       "  </tbody>\n",
       "</table>\n",
       "</div>"
      ],
      "text/plain": [
       "           song_name artist release_date              album   genre  \\\n",
       "0          사랑이 너무 헤퍼    이강승     21.03.11       Korean Dream    인디음악   \n",
       "1          가을밤에 든 생각    잔나비     20.11.06          잔나비 소곡집 l    록/메탈   \n",
       "2  Something To Love   전기장판     19.09.09  Something To Love    인디음악   \n",
       "3                 아침    이예린     21.01.19           먼 마음 2/2  포크/블루스   \n",
       "4             아마도 우린     우효     15.10.07               어드벤처  일렉트로니카   \n",
       "\n",
       "                                               lyric         playlist_name  \n",
       "0  사랑이 너무 헤퍼서 그 말을 못 했네 말라붙은 입에 잘못은 아니고 스쳐진 옷깃에 우...  내 손을 꼭 쥐고 들려주는 인디 노래  \n",
       "1  머나먼 별빛 저 별에서도 노랠 부르는 사랑 살겠지 밤이면 오손도손 그리운 것들 모아...  내 손을 꼭 쥐고 들려주는 인디 노래  \n",
       "2  Something to love Something to love 모난 모서리가 아프...  내 손을 꼭 쥐고 들려주는 인디 노래  \n",
       "3  솔직하게 말할게요 자신이 없어요 잘하고 싶어도 잘 안됐어요 좋게 생각하려 해도 금세...  내 손을 꼭 쥐고 들려주는 인디 노래  \n",
       "4  아마도 우린 아마도 여기까진가 봐 아무리 아닌 척 해봐도 이렇게 우린 서로에게 아픈...  내 손을 꼭 쥐고 들려주는 인디 노래  "
      ]
     },
     "execution_count": 3,
     "metadata": {},
     "output_type": "execute_result"
    }
   ],
   "source": [
    "import pandas as pd\n",
    "import numpy as np\n",
    "\n",
    "# file_path = path + 'songs_data_final_2180.csv'\n",
    "data1 = pd.read_csv('merged_playlists_90000.csv')\n",
    "\n",
    "data1.head()"
   ]
  },
  {
   "cell_type": "code",
   "execution_count": 4,
   "metadata": {},
   "outputs": [
    {
     "data": {
      "text/plain": [
       "4937142"
      ]
     },
     "execution_count": 4,
     "metadata": {},
     "output_type": "execute_result"
    }
   ],
   "source": [
    "len(data1)"
   ]
  },
  {
   "cell_type": "code",
   "execution_count": 5,
   "metadata": {},
   "outputs": [],
   "source": [
    "data1.dropna(inplace= True)"
   ]
  },
  {
   "cell_type": "code",
   "execution_count": null,
   "metadata": {},
   "outputs": [],
   "source": []
  },
  {
   "cell_type": "code",
   "execution_count": 4,
   "metadata": {},
   "outputs": [],
   "source": []
  },
  {
   "cell_type": "code",
   "execution_count": 7,
   "metadata": {},
   "outputs": [],
   "source": [
    "# 고유한 플레이리스트 이름 추출\n",
    "unique_playlists = data1['playlist_name'].unique()\n",
    "\n",
    "# 무작위로 5만 개의 플레이리스트 이름 선택\n",
    "selected_playlists = np.random.choice(unique_playlists, size= 30000, replace= False)\n",
    "\n",
    "# 선택된 플레이리스트에 해당하는 데이터만 필터링\n",
    "data = data1[data1['playlist_name'].isin(selected_playlists)]"
   ]
  },
  {
   "cell_type": "code",
   "execution_count": 3,
   "metadata": {},
   "outputs": [
    {
     "ename": "NameError",
     "evalue": "name 'data' is not defined",
     "output_type": "error",
     "traceback": [
      "\u001b[1;31m---------------------------------------------------------------------------\u001b[0m",
      "\u001b[1;31mNameError\u001b[0m                                 Traceback (most recent call last)",
      "Cell \u001b[1;32mIn[3], line 1\u001b[0m\n\u001b[1;32m----> 1\u001b[0m data\u001b[38;5;241m.\u001b[39mto_csv(\u001b[38;5;124m'\u001b[39m\u001b[38;5;124mdata_30000.csv\u001b[39m\u001b[38;5;124m'\u001b[39m, index\u001b[38;5;241m=\u001b[39m\u001b[38;5;28;01mFalse\u001b[39;00m)\n",
      "\u001b[1;31mNameError\u001b[0m: name 'data' is not defined"
     ]
    }
   ],
   "source": [
    "# data.to_csv('data_30000.csv', index=False)"
   ]
  },
  {
   "cell_type": "code",
   "execution_count": 4,
   "metadata": {},
   "outputs": [],
   "source": [
    "import pandas as pd\n",
    "import numpy as np\n",
    "\n",
    "data = pd.read_csv('data_30000.csv')"
   ]
  },
  {
   "cell_type": "code",
   "execution_count": 6,
   "metadata": {},
   "outputs": [
    {
     "data": {
      "text/plain": [
       "1591283"
      ]
     },
     "execution_count": 6,
     "metadata": {},
     "output_type": "execute_result"
    }
   ],
   "source": [
    "len(data)"
   ]
  },
  {
   "cell_type": "code",
   "execution_count": 7,
   "metadata": {
    "scrolled": true
   },
   "outputs": [
    {
     "data": {
      "text/plain": [
       "0          13\n",
       "1          21\n",
       "2          17\n",
       "3          04\n",
       "4          18\n",
       "           ..\n",
       "1591278    20\n",
       "1591279    18\n",
       "1591280    19\n",
       "1591281    17\n",
       "1591282    17\n",
       "Name: release_date, Length: 1591283, dtype: object"
      ]
     },
     "execution_count": 7,
     "metadata": {},
     "output_type": "execute_result"
    }
   ],
   "source": [
    "data['release_date'] = data['release_date'].str.extract(r'(\\d{2})').astype(str)\n",
    "data['release_date']"
   ]
  },
  {
   "cell_type": "code",
   "execution_count": null,
   "metadata": {},
   "outputs": [],
   "source": []
  },
  {
   "cell_type": "code",
   "execution_count": 8,
   "metadata": {},
   "outputs": [
    {
     "data": {
      "text/plain": [
       "1591283"
      ]
     },
     "execution_count": 8,
     "metadata": {},
     "output_type": "execute_result"
    }
   ],
   "source": [
    "len(data)"
   ]
  },
  {
   "cell_type": "code",
   "execution_count": 9,
   "metadata": {
    "scrolled": true
   },
   "outputs": [
    {
     "ename": "NameError",
     "evalue": "name 'data1' is not defined",
     "output_type": "error",
     "traceback": [
      "\u001b[1;31m---------------------------------------------------------------------------\u001b[0m",
      "\u001b[1;31mNameError\u001b[0m                                 Traceback (most recent call last)",
      "Cell \u001b[1;32mIn[9], line 1\u001b[0m\n\u001b[1;32m----> 1\u001b[0m data1\u001b[38;5;241m.\u001b[39mhead()\n",
      "\u001b[1;31mNameError\u001b[0m: name 'data1' is not defined"
     ]
    }
   ],
   "source": [
    "data1.head()"
   ]
  },
  {
   "cell_type": "code",
   "execution_count": 10,
   "metadata": {
    "scrolled": false
   },
   "outputs": [
    {
     "data": {
      "text/plain": [
       "song_name        0\n",
       "artist           0\n",
       "release_date     0\n",
       "album            0\n",
       "genre            0\n",
       "lyric            0\n",
       "playlist_name    0\n",
       "dtype: int64"
      ]
     },
     "execution_count": 10,
     "metadata": {},
     "output_type": "execute_result"
    }
   ],
   "source": [
    "data.isnull().sum()"
   ]
  },
  {
   "cell_type": "code",
   "execution_count": 11,
   "metadata": {},
   "outputs": [
    {
     "data": {
      "text/plain": [
       "1591283"
      ]
     },
     "execution_count": 11,
     "metadata": {},
     "output_type": "execute_result"
    }
   ],
   "source": [
    "len(data)"
   ]
  },
  {
   "cell_type": "markdown",
   "metadata": {
    "id": "aBc9HMNNtvPj"
   },
   "source": [
    "## 1.5 저장경로 재설정"
   ]
  },
  {
   "cell_type": "code",
   "execution_count": 12,
   "metadata": {},
   "outputs": [
    {
     "data": {
      "text/plain": [
       "'C:\\\\Users\\\\administrator'"
      ]
     },
     "execution_count": 12,
     "metadata": {},
     "output_type": "execute_result"
    }
   ],
   "source": [
    "import os\n",
    "\n",
    "os.getcwd()"
   ]
  },
  {
   "cell_type": "code",
   "execution_count": 13,
   "metadata": {},
   "outputs": [
    {
     "name": "stdout",
     "output_type": "stream",
     "text": [
      "C:\\Users\\administrator\\전처리데이터\n"
     ]
    },
    {
     "data": {
      "text/plain": [
       "'C:\\\\Users\\\\administrator\\\\전처리데이터'"
      ]
     },
     "execution_count": 13,
     "metadata": {},
     "output_type": "execute_result"
    }
   ],
   "source": [
    "%cd C:\\\\Users\\\\administrator\\\\전처리데이터\n",
    "\n",
    "os.getcwd()"
   ]
  },
  {
   "cell_type": "markdown",
   "metadata": {
    "id": "zJlpLyxhLoKd"
   },
   "source": [
    "# 2.파라미터 설정"
   ]
  },
  {
   "cell_type": "code",
   "execution_count": 14,
   "metadata": {
    "id": "kLQh1UWxLnON"
   },
   "outputs": [],
   "source": [
    "max_songs = 10\n",
    "playlist_length = 25\n",
    "lyrics_length = 150"
   ]
  },
  {
   "cell_type": "code",
   "execution_count": null,
   "metadata": {
    "id": "GldCI7zKLnQd"
   },
   "outputs": [],
   "source": []
  },
  {
   "cell_type": "markdown",
   "metadata": {
    "id": "OcSJeNmNtvph"
   },
   "source": [
    "# 3.토큰 식별 사전 생성 함수\n",
    "  토크나이저는 어절 단위로 자동적으로 분리함. 이를 위해 별개의 딕셔너리를 형성하고, 별도의 매핑을 진행함."
   ]
  },
  {
   "cell_type": "code",
   "execution_count": 15,
   "metadata": {
    "id": "WjPOuJiVTT1j"
   },
   "outputs": [],
   "source": [
    "def create_identifiers(data, column_name):\n",
    "    \"\"\"\n",
    "    Create a dictionary that maps each unique value in the specified column of the dataframe\n",
    "    to a unique identifier.\n",
    "\n",
    "    :param data: pandas DataFrame containing the data.\n",
    "    :param column_name: Name of the column for which to create identifiers.\n",
    "    :return: Dictionary mapping each unique value in the column to a unique identifier.\n",
    "    \"\"\"\n",
    "    identifiers = {value: f'{column_name}_{idx}' for idx, value in enumerate(data[column_name].unique(), start=1)}\n",
    "    identifiers['<sos>'] = '<sos>'\n",
    "    identifiers['<eos>'] = '<eos>'\n",
    "    return identifiers\n",
    "\n",
    "song_identifiers = create_identifiers(data, 'song_name')            # decoder_input : 노래 이름\n",
    "artist_identifiers = create_identifiers(data,'artist')              # concate_input\n",
    "album_identifiers = create_identifiers(data,'album')\n",
    "genre_identifiers = create_identifiers(data,'genre')\n",
    "release_date_identifiers = create_identifiers(data,'release_date')"
   ]
  },
  {
   "cell_type": "code",
   "execution_count": 16,
   "metadata": {
    "colab": {
     "base_uri": "https://localhost:8080/",
     "height": 36
    },
    "executionInfo": {
     "elapsed": 391,
     "status": "ok",
     "timestamp": 1700802341959,
     "user": {
      "displayName": "강동률",
      "userId": "17439952535664404139"
     },
     "user_tz": -540
    },
    "id": "Iy-EtqkOn5Yb",
    "outputId": "0e60d7d2-344f-4a2f-a3e6-2b8e1fa9c348"
   },
   "outputs": [
    {
     "data": {
      "text/plain": [
       "'<sos>'"
      ]
     },
     "execution_count": 16,
     "metadata": {},
     "output_type": "execute_result"
    }
   ],
   "source": [
    "# 스페셜 토큰을 확인\n",
    "release_date_identifiers['<sos>']"
   ]
  },
  {
   "cell_type": "code",
   "execution_count": 17,
   "metadata": {
    "id": "ikEhv6FCuGe2",
    "scrolled": true
   },
   "outputs": [
    {
     "data": {
      "text/plain": [
       "{'Rainy Day': 'song_name_1',\n",
       " 'When This Rain Stops': 'song_name_2',\n",
       " '밤편지': 'song_name_3',\n",
       " '우산 (Feat. 윤하)': 'song_name_4',\n",
       " '장마 (Rainy Season)': 'song_name_5',\n",
       " '비와 당신': 'song_name_6',\n",
       " '사랑이 이별이 돼 가는 모습이': 'song_name_7',\n",
       " '비가 오는 날엔': 'song_name_8',\n",
       " 'Rainy day (Feat. ASH ISLAND, Skinny Brown)': 'song_name_9',\n",
       " '비오는 날 뭐해': 'song_name_10',\n",
       " 'To Die For': 'song_name_11',\n",
       " 'Sober': 'song_name_12',\n",
       " 'Rain Drop': 'song_name_13',\n",
       " '비오는 날 듣고 싶은 노래': 'song_name_14',\n",
       " 'Bambi': 'song_name_15',\n",
       " '우산 (Love Song)': 'song_name_16',\n",
       " '비가오면 비가오죠': 'song_name_17',\n",
       " 'Umbrella (Feat. Ashley Alisha, prettyhappy)': 'song_name_18',\n",
       " 'Paris in the Rain': 'song_name_19',\n",
       " '비가 오는 날엔 (2021)': 'song_name_20',\n",
       " '장마 (Feat. 영준 of Brown Eyed Soul)': 'song_name_21',\n",
       " 'Rain': 'song_name_22',\n",
       " '비 오는 날 듣기 좋은 노래 (Feat. Colde)': 'song_name_23',\n",
       " 'Kiss The Rain': 'song_name_24',\n",
       " '비도 오고 그래서 (Feat. 신용재)': 'song_name_25',\n",
       " '비': 'song_name_26',\n",
       " '나의 바람 (Wind And Wish)': 'song_name_27',\n",
       " '슬픈 다짐': 'song_name_28',\n",
       " 'One More Time': 'song_name_29',\n",
       " '내꺼야': 'song_name_30',\n",
       " 'Love': 'song_name_31',\n",
       " '바보': 'song_name_32',\n",
       " '달빛소년': 'song_name_33',\n",
       " 'Sk8er Boi (Live)': 'song_name_34',\n",
       " '유혹의 소나타': 'song_name_35',\n",
       " '미안해요 (Feat. T.O.P)': 'song_name_36',\n",
       " 'HOLD THE LINE (Feat. 조PD)': 'song_name_37',\n",
       " '오아시스 (Feat. 이재훈)': 'song_name_38',\n",
       " 'Happy Happy': 'song_name_39',\n",
       " 'Party 2 Night': 'song_name_40',\n",
       " 'V.I.P (Volume Instead Pause)': 'song_name_41',\n",
       " '사랑 느낌': 'song_name_42',\n",
       " \"Hold It Don't Drop It\": 'song_name_43',\n",
       " 'JUMP!! JUMP!!': 'song_name_44',\n",
       " \"Tell me (Sampling From 'Two Of Hearts')\": 'song_name_45',\n",
       " '우리끼리 얘기지만': 'song_name_46',\n",
       " '별의 자리': 'song_name_47',\n",
       " '선잠 (나 그대의 사랑이 되리)': 'song_name_48',\n",
       " 'Good Girl (Piano & Bass RMX)': 'song_name_49',\n",
       " 'Love Sky': 'song_name_50',\n",
       " '심쿵주의보': 'song_name_51',\n",
       " 'love (Feat. Syd)': 'song_name_52',\n",
       " \"Can't Stop\": 'song_name_53',\n",
       " \"내사랑 내곁에 (영화 '내사랑 내곁에' OST)\": 'song_name_54',\n",
       " '너의 마음을 내게 준다면': 'song_name_55',\n",
       " '내 사랑아': 'song_name_56',\n",
       " '냄새': 'song_name_57',\n",
       " '니 얼굴 떠올라 (Feat. 스윙스)': 'song_name_58',\n",
       " '니가 아니면 안될것 같은데..(미녀와 야수)': 'song_name_59',\n",
       " '다시 내게로 돌아와 (Feat. 개리)': 'song_name_60',\n",
       " '다시 사랑한다면': 'song_name_61',\n",
       " '단 하루': 'song_name_62',\n",
       " '들리니': 'song_name_63',\n",
       " '면도 (5 Vibes Ver.)': 'song_name_64',\n",
       " '못잊어 (Feat. 이지혜) (Sampling Mendelssohn 봄의 노래)': 'song_name_65',\n",
       " '못된 영화 (Feat. Ivy)': 'song_name_66',\n",
       " '보통날': 'song_name_67',\n",
       " '사랑보다 깊은 상처': 'song_name_68',\n",
       " '사랑은 사랑이...': 'song_name_69',\n",
       " '사랑은 언제나 목마르다': 'song_name_70',\n",
       " '사랑은...향기를 남기고': 'song_name_71',\n",
       " '사랑이 다른 사랑으로 잊혀지네': 'song_name_72',\n",
       " '사랑하는 사람이 없었으면 좋겠어 (Feat. 소울크라이)': 'song_name_73',\n",
       " '사랑..그 놈': 'song_name_74',\n",
       " '사랑한다 할 수 있기에': 'song_name_75',\n",
       " '서쪽 하늘': 'song_name_76',\n",
       " '슬픈 인연 (응답하라 1994 삽입곡)': 'song_name_77',\n",
       " '아름다운 이별': 'song_name_78',\n",
       " '어때 (Feat. 하림)': 'song_name_79',\n",
       " '어김없이': 'song_name_80',\n",
       " '그때 우리': 'song_name_81',\n",
       " '어떡하죠': 'song_name_82',\n",
       " '오늘따라 (Feat. 가인)': 'song_name_83',\n",
       " '와줘..': 'song_name_84',\n",
       " '응급실': 'song_name_85',\n",
       " '이 노래를 들으면 (Feat. 수호)': 'song_name_86',\n",
       " 'ㅂㄱㅅㅇ (Feat. 원써겐)': 'song_name_87',\n",
       " '이 노랠 빌려서 (Feat. 이로울 & 아이린)': 'song_name_88',\n",
       " '이밤을 다시 한 번': 'song_name_89',\n",
       " '이별식탁 (Feat. 산체스 Of 팬텀)': 'song_name_90',\n",
       " '이별공식': 'song_name_91',\n",
       " '이별택시': 'song_name_92',\n",
       " '몇 년 후에': 'song_name_93',\n",
       " '이제 날 안아요': 'song_name_94',\n",
       " '이젠 잊기로 해요': 'song_name_95',\n",
       " '작년, 오늘': 'song_name_96',\n",
       " '잠도 못자 (Feat. Roydo)': 'song_name_97',\n",
       " '첫 이별 그날 밤': 'song_name_98',\n",
       " '해줄 수 없는 일': 'song_name_99',\n",
       " '준비없는 이별 (Feat. 영지)': 'song_name_100',\n",
       " '통화 연결음': 'song_name_101',\n",
       " '하고 싶은 말': 'song_name_102',\n",
       " '하던 대로 해': 'song_name_103',\n",
       " '하루 종일 비가 내렸어': 'song_name_104',\n",
       " '후회 없는 사랑': 'song_name_105',\n",
       " '해요': 'song_name_106',\n",
       " '효도합시다': 'song_name_107',\n",
       " '당신': 'song_name_108',\n",
       " '애낳고 30년': 'song_name_109',\n",
       " '효도합시다 (MR)': 'song_name_110',\n",
       " '당신 (MR)': 'song_name_111',\n",
       " '애낳고 30년 (MR)': 'song_name_112',\n",
       " '흥얼흥얼': 'song_name_113',\n",
       " '흥얼흥얼 (MR)': 'song_name_114',\n",
       " '잊어야 한다는 마음으로': 'song_name_115',\n",
       " '잊어야 한다는 마음으로 (MR)': 'song_name_116',\n",
       " '내 마음 별과 같이': 'song_name_117',\n",
       " '내 마음 별과 같이 (MR)': 'song_name_118',\n",
       " '사랑바보': 'song_name_119',\n",
       " '애모': 'song_name_120',\n",
       " '죽는 시늉': 'song_name_121',\n",
       " '사랑 바보 (MR)': 'song_name_122',\n",
       " '애모 (MR)': 'song_name_123',\n",
       " '죽는 시늉 (MR)': 'song_name_124',\n",
       " '자랑': 'song_name_125',\n",
       " '자랑 (MR)': 'song_name_126',\n",
       " '밀어 밀어': 'song_name_127',\n",
       " '나에게로 떠나는 여행': 'song_name_128',\n",
       " '바보같지만': 'song_name_129',\n",
       " '밀어 밀어 (MR)': 'song_name_130',\n",
       " '나에게로 떠나는 여행 (MR)': 'song_name_131',\n",
       " '바보같지만 (MR)': 'song_name_132',\n",
       " '목로주점': 'song_name_133',\n",
       " '여백': 'song_name_134',\n",
       " '목로주점 (MR)': 'song_name_135',\n",
       " '여백 (MR)': 'song_name_136',\n",
       " 'Q': 'song_name_137',\n",
       " 'Q (MR)': 'song_name_138',\n",
       " '그대와 영원히': 'song_name_139',\n",
       " '그대와 영원히 (MR)': 'song_name_140',\n",
       " '자기야': 'song_name_141',\n",
       " '봄봄봄': 'song_name_142',\n",
       " '자기야 (MR)': 'song_name_143',\n",
       " '봄봄봄 (MR)': 'song_name_144',\n",
       " '둥지': 'song_name_145',\n",
       " '진또배기': 'song_name_146',\n",
       " '둥지 (MR)': 'song_name_147',\n",
       " '진또배기 (MR)': 'song_name_148',\n",
       " '그대여 변치마오': 'song_name_149',\n",
       " '남행열차': 'song_name_150',\n",
       " '곤드레 만드레': 'song_name_151',\n",
       " '청춘을 돌려다오': 'song_name_152',\n",
       " '그대여 변치마오 (MR)': 'song_name_153',\n",
       " '남행열차 (MR)': 'song_name_154',\n",
       " '곤드레 만드레 (MR)': 'song_name_155',\n",
       " '청춘을 돌려다오 (MR)': 'song_name_156',\n",
       " '야인': 'song_name_157',\n",
       " '야인 (MR)': 'song_name_158',\n",
       " '별빛 같은 나의 사랑아': 'song_name_159',\n",
       " '이브의 경고 (MR)': 'song_name_160',\n",
       " '진달래꽃 (MR)': 'song_name_161',\n",
       " '잘못된 만남 (MR)': 'song_name_162',\n",
       " '바꿔 (MR)': 'song_name_163',\n",
       " 'RUN To YOU (MR)': 'song_name_164',\n",
       " '환희 (MR)': 'song_name_165',\n",
       " '땡벌 (MR)': 'song_name_166',\n",
       " '삼각관계 (MR)': 'song_name_167',\n",
       " '보고싶다': 'song_name_168',\n",
       " '사람이 꽃보다 아름다워': 'song_name_169',\n",
       " '보고싶다 (MR)': 'song_name_170',\n",
       " '사람이 꽃보다 아름다워 (MR)': 'song_name_171',\n",
       " 'Bad Case of Loving you': 'song_name_172',\n",
       " 'Shape of my Heart': 'song_name_173',\n",
       " 'My Heart Will Go On': 'song_name_174',\n",
       " '이별': 'song_name_175',\n",
       " '미워도 다시 한번': 'song_name_176',\n",
       " '너에게 난 나에게 넌': 'song_name_177',\n",
       " 'Bad Case of Loving you (MR)': 'song_name_178',\n",
       " 'Shape of my Heart (MR)': 'song_name_179',\n",
       " 'My Heart Will Go On (MR)': 'song_name_180',\n",
       " '이별 (MR)': 'song_name_181',\n",
       " '미워도 다시 한번 (MR)': 'song_name_182',\n",
       " '너에게 난 나에게 넌 (MR)': 'song_name_183',\n",
       " '애가 타': 'song_name_184',\n",
       " '난 괜찮아': 'song_name_185',\n",
       " '동행': 'song_name_186',\n",
       " '너는 내남자': 'song_name_187',\n",
       " '어머나': 'song_name_188',\n",
       " '애가 타 (MR)': 'song_name_189',\n",
       " '난 괜찮아 (MR)': 'song_name_190',\n",
       " '동행 (MR)': 'song_name_191',\n",
       " '너는 내남자 (MR)': 'song_name_192',\n",
       " '어머나 (MR)': 'song_name_193',\n",
       " '이제 나만 믿어요 (Piano by 조영수)': 'song_name_194',\n",
       " '이제 나만 믿어요 (Piano by 조영수) (Inst.)': 'song_name_195',\n",
       " '무시로': 'song_name_196',\n",
       " '0시의 이별': 'song_name_197',\n",
       " '무시로 (MR)': 'song_name_198',\n",
       " '0시의 이별 (MR)': 'song_name_199',\n",
       " '진정인가요': 'song_name_200',\n",
       " '갈무리': 'song_name_201',\n",
       " '불티': 'song_name_202',\n",
       " '걱정말아요 그대': 'song_name_203',\n",
       " '진정인가요 (MR)': 'song_name_204',\n",
       " '갈무리 (MR)': 'song_name_205',\n",
       " '불티 (MR)': 'song_name_206',\n",
       " '걱정말아요 그대 (MR)': 'song_name_207',\n",
       " '시계바늘': 'song_name_208',\n",
       " '남쪽 끝섬': 'song_name_209',\n",
       " '시계바늘 (MR)': 'song_name_210',\n",
       " '남쪽 끝섬 (MR)': 'song_name_211',\n",
       " '소풍 같은 인생': 'song_name_212',\n",
       " '사랑의 트위스트 (MR)': 'song_name_213',\n",
       " '무조건': 'song_name_214',\n",
       " '가지마': 'song_name_215',\n",
       " '운명 같은 여인': 'song_name_216',\n",
       " '무조건 (MR)': 'song_name_217',\n",
       " '가지마 (MR)': 'song_name_218',\n",
       " '운명 같은 여인 (MR)': 'song_name_219',\n",
       " '빵빵': 'song_name_220',\n",
       " '안동역에서': 'song_name_221',\n",
       " '세월 베고 길게 누운 구름 한 조각': 'song_name_222',\n",
       " '옛사랑': 'song_name_223',\n",
       " '빵빵 (MR)': 'song_name_224',\n",
       " '안동역에서 (MR)': 'song_name_225',\n",
       " '세월 베고 길게 누운 구름 한 조각 (MR)': 'song_name_226',\n",
       " '옛사랑 (MR)': 'song_name_227',\n",
       " '사랑사랑사랑': 'song_name_228',\n",
       " '그대안의 블루': 'song_name_229',\n",
       " '사랑의 미로': 'song_name_230',\n",
       " '천생연분': 'song_name_231',\n",
       " '사랑사랑사랑 (MR)': 'song_name_232',\n",
       " '그대안의 블루 (MR)': 'song_name_233',\n",
       " '사랑의 미로 (MR)': 'song_name_234',\n",
       " '천생연분 (MR)': 'song_name_235',\n",
       " 'SUNNY': 'song_name_236',\n",
       " '그리움만 쌓이네': 'song_name_237',\n",
       " '항구의남자': 'song_name_238',\n",
       " 'SUNNY (MR)': 'song_name_239',\n",
       " '그리움만 쌓이네 (MR)': 'song_name_240',\n",
       " '항구의 남자 (MR)': 'song_name_241',\n",
       " '영일만 친구': 'song_name_242',\n",
       " 'Despacito': 'song_name_243',\n",
       " '상사화': 'song_name_244',\n",
       " '질풍가도': 'song_name_245',\n",
       " '영일만 친구 (MR)': 'song_name_246',\n",
       " 'Despacito (MR)': 'song_name_247',\n",
       " '상사화 (MR)': 'song_name_248',\n",
       " '질풍가도 (MR)': 'song_name_249',\n",
       " '제비처럼': 'song_name_250',\n",
       " '일소일소 일노일노': 'song_name_251',\n",
       " '제비처럼 (MR)': 'song_name_252',\n",
       " '일소일소 일노일노 (MR)': 'song_name_253',\n",
       " '날보러와요': 'song_name_254',\n",
       " '미워요': 'song_name_255',\n",
       " '그 겨울의 찻집': 'song_name_256',\n",
       " '나무꾼': 'song_name_257',\n",
       " '날보러와요 (MR)': 'song_name_258',\n",
       " '미워요 (MR)': 'song_name_259',\n",
       " '그 겨울의 찻집 (MR)': 'song_name_260',\n",
       " '나무꾼 (MR)': 'song_name_261',\n",
       " '이제 나만 믿어요': 'song_name_262',\n",
       " '이제 나만 믿어요 (Inst.)': 'song_name_263',\n",
       " '어느 60대 노부부이야기 (MR)': 'song_name_264',\n",
       " 'Viva La Vida': 'song_name_265',\n",
       " \"I'm Yours\": 'song_name_266',\n",
       " 'Oh My God': 'song_name_267',\n",
       " 'Keeping Your Head Up': 'song_name_268',\n",
       " 'Take You To Hell': 'song_name_269',\n",
       " 'A Thousand Years': 'song_name_270',\n",
       " 'This Town': 'song_name_271',\n",
       " 'This City': 'song_name_272',\n",
       " 'Love The Way You Lie (Part II) (Pt. 2) (Feat. Eminem) (Edited Ver.)': 'song_name_273',\n",
       " 'One More Night': 'song_name_274',\n",
       " 'Home': 'song_name_275',\n",
       " \"I'm the One (Feat. Justin Bieber, Quavo, Chance the Rapper, Lil Wayne)\": 'song_name_276',\n",
       " 'Treasure': 'song_name_277',\n",
       " 'Dive': 'song_name_278',\n",
       " 'Happy Ending': 'song_name_279',\n",
       " 'Way Back Into Love': 'song_name_280',\n",
       " 'distance': 'song_name_281',\n",
       " 'Take Me Home': 'song_name_282',\n",
       " 'IDGAF': 'song_name_283',\n",
       " 'Back To You (From 13 Reasons Why – Season 2 Soundtrack)': 'song_name_284',\n",
       " 'Talk': 'song_name_285',\n",
       " 'Physical': 'song_name_286',\n",
       " 'If the World Was Ending (Feat. Julia Michaels)': 'song_name_287',\n",
       " 'right here': 'song_name_288',\n",
       " 'positions': 'song_name_289',\n",
       " 'as long as you care': 'song_name_290',\n",
       " 'A Sky Full of Stars': 'song_name_291',\n",
       " 'Is It Just Me? (Feat. Charlie Puth)': 'song_name_292',\n",
       " 'Juice': 'song_name_293',\n",
       " 'FRIENDS': 'song_name_294',\n",
       " 'Wish I Was Right For You (Feat. YOUHA)': 'song_name_295',\n",
       " 'Wish I Was Right For You': 'song_name_296',\n",
       " 'Teach Me How To Love': 'song_name_297',\n",
       " 'Wonder': 'song_name_298',\n",
       " 'Jam & Butterfly (Feat. Crush, eaJ)': 'song_name_299',\n",
       " 'idontwannabeyouanymore': 'song_name_300',\n",
       " 'Six Feet Under': 'song_name_301',\n",
       " \"when the party's over\": 'song_name_302',\n",
       " 'Therefore I Am': 'song_name_303',\n",
       " 'wish you were gay': 'song_name_304',\n",
       " 'Outlaws Of Love': 'song_name_305',\n",
       " 'you broke me first': 'song_name_306',\n",
       " 'Look What You Made Me Do': 'song_name_307',\n",
       " \"please don't let me go\": 'song_name_308',\n",
       " \"Say You Won't Let Go\": 'song_name_309',\n",
       " 'Afterglow': 'song_name_310',\n",
       " 'I Love Me': 'song_name_311',\n",
       " 'No Time For Tears': 'song_name_312',\n",
       " 'Malibu Nights': 'song_name_313',\n",
       " 'Symphony (Feat. Zara Larsson)': 'song_name_314',\n",
       " 'Secrets': 'song_name_315',\n",
       " 'Please Don’t Touch': 'song_name_316',\n",
       " 'drunk': 'song_name_317',\n",
       " '잠이 들어야 (Feat. 헤이즈)': 'song_name_318',\n",
       " '도쿄 (Feat. 유라 (youra))': 'song_name_319',\n",
       " '문득': 'song_name_320',\n",
       " '텅 (Feat.김하온 (HAON))': 'song_name_321',\n",
       " '빈차 (Feat. 오혁)': 'song_name_322',\n",
       " 'Life Goes On': 'song_name_323',\n",
       " 'Downtown Baby': 'song_name_324',\n",
       " 'COUNTIN MY GUAP': 'song_name_325',\n",
       " 'Winter Blossom (Feat. SAAY) (Prod. by 0channel)': 'song_name_326',\n",
       " \"니가 모르게 (You Don't Know)\": 'song_name_327',\n",
       " '호불호 (Feat. 기리보이) (Prod. By GRAY)': 'song_name_328',\n",
       " 'ROSE (Feat. Skinny Brown, Homeboy)': 'song_name_329',\n",
       " '야망 (Feat. ASH ISLAND, 김효은, Hash Swan, CHANGMO) (Prod. TOIL)': 'song_name_330',\n",
       " '제설': 'song_name_331',\n",
       " 'I Always': 'song_name_332',\n",
       " 'Stay With Me': 'song_name_333',\n",
       " '이대로만 (Feat. 죠지)': 'song_name_334',\n",
       " '불면 (不眠)': 'song_name_335',\n",
       " '행성 (This Night) (Feat. Blue.D, Jhnovr)': 'song_name_336',\n",
       " '우리 (Feat. 미노이)': 'song_name_337',\n",
       " '또 하루 (Feat. 개코)': 'song_name_338',\n",
       " '당신의 밤 (Feat. 오혁)': 'song_name_339',\n",
       " 'Butterfly': 'song_name_340',\n",
       " '악몽': 'song_name_341',\n",
       " '너의 모든 순간 (Piano Ver.)': 'song_name_342',\n",
       " '집 (Prod. by 남혜승)': 'song_name_343',\n",
       " '소리': 'song_name_344',\n",
       " '행복했으면 좋겠어': 'song_name_345',\n",
       " '내일은 고백할게': 'song_name_346',\n",
       " 'Rain or Shine': 'song_name_347',\n",
       " '인사': 'song_name_348',\n",
       " '정인 (情人)': 'song_name_349',\n",
       " 'Error': 'song_name_350',\n",
       " '바람': 'song_name_351',\n",
       " '첫사랑': 'song_name_352',\n",
       " '바람꽃 (E.S)': 'song_name_353',\n",
       " '나의 대답 (OST Remastered Ver.)': 'song_name_354',\n",
       " '내가 사랑할 사람 (Piano Ver.)': 'song_name_355',\n",
       " 'A Day (Piano Ver.)': 'song_name_356',\n",
       " '아무 사이 아니니까': 'song_name_357',\n",
       " 'Just Stay': 'song_name_358',\n",
       " '위로': 'song_name_359',\n",
       " '마음 다해 사랑하는 일': 'song_name_360',\n",
       " 'Let Me Know': 'song_name_361',\n",
       " '묘해, 너와': 'song_name_362',\n",
       " '그대라는 시': 'song_name_363',\n",
       " '잠이 오지 않는 밤에': 'song_name_364',\n",
       " 'Inside Of Me': 'song_name_365',\n",
       " '한번의 사랑': 'song_name_366',\n",
       " 'Happy End (English Ver.)': 'song_name_367',\n",
       " '어디에 (Piano Ver.)': 'song_name_368',\n",
       " '너에게': 'song_name_369',\n",
       " '행복한 사람 (Piano Ver.)': 'song_name_370',\n",
       " '한사람': 'song_name_371',\n",
       " 'Somebody': 'song_name_372',\n",
       " 'How To Love': 'song_name_373',\n",
       " '고마워 추억이 되어줘서': 'song_name_374',\n",
       " '꿈의 대화': 'song_name_375',\n",
       " '그녀 (Feat. 손승연)': 'song_name_376',\n",
       " '부는 바람에도 사랑이 있을까': 'song_name_377',\n",
       " '13월': 'song_name_378',\n",
       " '한 순간 꽃과 같이': 'song_name_379',\n",
       " '그대 그린 그자리': 'song_name_380',\n",
       " '그날에 우리는 그렇게 사랑했어': 'song_name_381',\n",
       " '사랑을 잃은 이에게': 'song_name_382',\n",
       " '우리의 멈춰버린 시간': 'song_name_383',\n",
       " '한철보다 빠른 사랑 이야기': 'song_name_384',\n",
       " '그러는 너, 이러는 나': 'song_name_385',\n",
       " '말다툼': 'song_name_386',\n",
       " '눈물을 간직한 이야기': 'song_name_387',\n",
       " '당신은 구름이었나요': 'song_name_388',\n",
       " '그대가 그대여서 아프다': 'song_name_389',\n",
       " '들려도 들리지 않는': 'song_name_390',\n",
       " 'Beautiful Days': 'song_name_391',\n",
       " '햇살 한입 사랑 두입': 'song_name_392',\n",
       " '힘드세요? 잠시 어깨 빌려드릴까요?': 'song_name_393',\n",
       " '반가워': 'song_name_394',\n",
       " 'Paradise And Memorise': 'song_name_395',\n",
       " 'We All Want Love': 'song_name_396',\n",
       " 'A Solitary Street': 'song_name_397',\n",
       " '끝내지 못한 이야기': 'song_name_398',\n",
       " '사랑이 만든 작은 선물 (Happy Birthday To You)': 'song_name_399',\n",
       " '바람이 들려준 사랑 노래': 'song_name_400',\n",
       " '겨울에 끝에선 마음': 'song_name_401',\n",
       " '지워도 지워지지 않아': 'song_name_402',\n",
       " '봄을 사랑한 소녀': 'song_name_403',\n",
       " '아프고 아픈 이름': 'song_name_404',\n",
       " '아침 인사': 'song_name_405',\n",
       " '널 잃고 살아야 하는 시간': 'song_name_406',\n",
       " '그댄 다시 바람이 되어': 'song_name_407',\n",
       " '그리움이 만든 이야기': 'song_name_408',\n",
       " '세상에서 가장 슬픈 이별': 'song_name_409',\n",
       " '너를 찾아 떠난 여행': 'song_name_410',\n",
       " '창밖 풍경 이야기': 'song_name_411',\n",
       " '사랑이 만든 작은 선물': 'song_name_412',\n",
       " 'Tunnel Vision': 'song_name_413',\n",
       " '19금 Bank Account': 'song_name_414',\n",
       " 'Lil Pump': 'song_name_415',\n",
       " '19금 T-Shirt': 'song_name_416',\n",
       " '19금 MotorSport': 'song_name_417',\n",
       " '19금 Slippery (Feat. Gucci Mane)': 'song_name_418',\n",
       " 'Xo Tour Llif3': 'song_name_419',\n",
       " 'STARGAZING': 'song_name_420',\n",
       " 'REEL IT IN': 'song_name_421',\n",
       " 'Campfire (Feat. Injury Reserve)': 'song_name_422',\n",
       " 'Drowning (Feat. Kodak Black)': 'song_name_423',\n",
       " '19금 HUMBLE.': 'song_name_424',\n",
       " 'Spice Girl': 'song_name_425',\n",
       " 'REDMERCEDES': 'song_name_426',\n",
       " 'Yellow (Feat. Nelly)': 'song_name_427',\n",
       " '19금 Boss': 'song_name_428',\n",
       " '19금 Molly': 'song_name_429',\n",
       " '19금 Bad and Boujee (Feat. Lil Uzi Vert)': 'song_name_430',\n",
       " '있잖아': 'song_name_431',\n",
       " '치즈 고등어 삼색이': 'song_name_432',\n",
       " 'Perhaps Love (사랑인가요)': 'song_name_433',\n",
       " 'Starry Rally': 'song_name_434',\n",
       " 'BUMP BUMP': 'song_name_435',\n",
       " '추억의 온도': 'song_name_436',\n",
       " '진가를 몰라': 'song_name_437',\n",
       " 'Flower Garden': 'song_name_438',\n",
       " '나와 동행하다': 'song_name_439',\n",
       " 'Kiss Me': 'song_name_440',\n",
       " '우리 결혼해요': 'song_name_441',\n",
       " 'Starting New': 'song_name_442',\n",
       " '봄인가 봐 (Spring Love)': 'song_name_443',\n",
       " 'Time': 'song_name_444',\n",
       " '봄 타나봐 (BOMTANABA)': 'song_name_445',\n",
       " 'She': 'song_name_446',\n",
       " '죽겠네 (Album Ver.)': 'song_name_447',\n",
       " 'Melody': 'song_name_448',\n",
       " 'Loveholic': 'song_name_449',\n",
       " '타이스의 명상곡 (Rain Ver.)': 'song_name_450',\n",
       " '꿈을 꾸는 아이 (Sea Ver.)': 'song_name_451',\n",
       " '명상음악 (마음의 눈을 뜨면) (Forest Ver.)': 'song_name_452',\n",
       " '뉴에이지 힐링의 시간, 밤하늘 저편 (바다소리)': 'song_name_453',\n",
       " 'Rain (Sea Ver.)': 'song_name_454',\n",
       " '명상음악 (호수에 잠긴 달) (Forest Ver.)': 'song_name_455',\n",
       " '오후의 정원 (바다소리)': 'song_name_456',\n",
       " '잠 못 드는 밤에 (파도소리)': 'song_name_457',\n",
       " '거리에서 (Sea Ver.)': 'song_name_458',\n",
       " 'Tchaikovsky : The Seasons Op.37a - VI. June. Barcarolle (차이콥스키 : 사계 작품번호 37a - 6월. 뱃노래) (Rain Ver.)': 'song_name_459',\n",
       " \"Beethoven : Piano Sonata No.14 In C Sharp Minor Op.27-2 'Moonlight ' - I. Adagio Sostenuto (베토벤 : 피아노 소나타 14번 올림 다단조 작품번호 27-2 '월광' - 1악장)\": 'song_name_460',\n",
       " \"Beethoven : Piano Sonata No.8 In C Minor Op.13 'Pathetique' - III. Rondo. Allegro (베토벤 : 피아노 소나타 8번 다단조 작품번호 13 '비창' - 3악장) (빗소리)\": 'song_name_461',\n",
       " \"Liszt : Paganini Etude No.3 In G Sharp Minor S.141 'La Campanella' (리스트 : 파가니니 연습곡 3번 올림 사단조 '라 캄파넬라') (Forest Ver.)\": 'song_name_462',\n",
       " 'Morning Breeze (Sea Ver.)': 'song_name_463',\n",
       " 'Sunset (Forest Ver.)': 'song_name_464',\n",
       " '토닥토닥 괜찮아 (Sea Ver.)': 'song_name_465',\n",
       " '달빛에 반짝이는 (Sea Ver.)': 'song_name_466',\n",
       " '피아노 (Rain Ver.)': 'song_name_467',\n",
       " '니가 내게로 (바다소리)': 'song_name_468',\n",
       " 'Another Year (바다소리)': 'song_name_469',\n",
       " 'Moments (파도소리)': 'song_name_470',\n",
       " 'Winter Forest (Sea Ver.)': 'song_name_471',\n",
       " '창문 너머 바람을 타고 (Sea Ver.)': 'song_name_472',\n",
       " 'The Calm (Forest Ver.)': 'song_name_473',\n",
       " '내 마음의 호수 (Sea Ver.)': 'song_name_474',\n",
       " 'Debussy : Suite Bergamasque L.75 - III. Clair De Lune (드뷔시 : 베르가마스크 모음곡 - 3번. 달빛) (바다소리)': 'song_name_475',\n",
       " '조금씩 천천히 (Rain Ver.)': 'song_name_476',\n",
       " '계절이 돌아오면 (바다소리)': 'song_name_477',\n",
       " '언제나 빛나는 (바다소리)': 'song_name_478',\n",
       " 'Debussy : Suite Bergamasque L.75 - III. Clair De Lune (드뷔시 : 베르가마스크 모음곡 - 3번. 달빛) (빗소리)': 'song_name_479',\n",
       " '마음의 고요 (Forest Ver.)': 'song_name_480',\n",
       " 'Peaceful (Sea Ver.)': 'song_name_481',\n",
       " '저무는 길 (Rain Ver.)': 'song_name_482',\n",
       " 'Good Bye (파도소리)': 'song_name_483',\n",
       " \"Chopin : Waltz No.9 In A Flat Major Op.69 'L'Adieu' (쇼팽 : 왈츠 9번 내림 가장조 작품번호 69 '이별의 왈츠') (빗소리)\": 'song_name_484',\n",
       " '명상음악 (마음의 산책) (Forest Ver.)': 'song_name_485',\n",
       " '소년과 바다 (바다소리)': 'song_name_486',\n",
       " 'Beethoven : Romance No.2 In F Major Op.50 (베토벤 : 로망스 2번 바장조 작품번호 50) (빗소리)': 'song_name_487',\n",
       " '휴식 (고요한 순간) (Forest Ver.)': 'song_name_488',\n",
       " '즐거움과 기쁨 (Mudita) (숲속의 새소리)': 'song_name_489',\n",
       " '뉴에이지 힐링의 시간, 달빛의 위로 (바다소리)': 'song_name_490',\n",
       " 'Chopin : Nocturne No.10 In A Flat Major Op.32-2 (쇼팽 : 야상곡 10번 내림 가장조 작품번호 32-2) (빗소리)': 'song_name_491',\n",
       " 'The Ocean (Sea Ver.)': 'song_name_492',\n",
       " 'Satie : Je Te Veux (사티 : 난 그대를 원해요) (바다소리)': 'song_name_493',\n",
       " 'Chopin : Nocturne No.2 In E Flat Major Op.9-2 (쇼팽 : 야상곡 2번 내림 마장조 작품번호 9-2) (Rain Ver.)': 'song_name_494',\n",
       " 'Mozart : Piano Sonata No.16 In C Major K.545 - II. Andante (모차르트 : 피아노 소나타 16번 다장조 - 2악장) (바다소리)': 'song_name_495',\n",
       " 'Debussy : Preludes Book I. L.117 - VIII. La Fille Aux Cheveux De Lin (드뷔시 : 전주곡 1권 - 8번. 아마빛 머리의 소녀) (바다소리)': 'song_name_496',\n",
       " 'Winter Forest (Forest Ver.)': 'song_name_497',\n",
       " 'Liszt : Annees De Pelerinage 2nd Year, Italy - VI. Sonnet 123 By Petrarch (리스트 : 순례의 해 제 2년, 이탈리아 - 6번. 페트라르카의 소네트 123) (Rain Ver.)': 'song_name_498',\n",
       " 'Bach : Clavierbuchlein For Anna Magdalena Bach Book II. Minuet In G Major BWV.Anh.114 (바하 : 안나 막달레나를 위한 클라비어 소곡집 1번 미뉴에트) (바다소리)': 'song_name_499',\n",
       " 'Brahms : Waltz No.15 In A Flat Major Op.39 (브람스 : 왈츠 15번 내림 가장조 작품번호 39) (바다소리)': 'song_name_500',\n",
       " 'Debussy : Suite Bergamasque L.75 - III. Clair De Lune (드뷔시 : 베르가마스크 모음곡 - 3번. 달빛) (Rain Ver.)': 'song_name_501',\n",
       " 'Bach : Suite For Solo Cello No.1 In G Major BWV.1007 - I. Prelude (바흐 : 무반주 첼로 모음곡 1번 사장조 - 1번. 전주곡) (Rain Ver.)': 'song_name_502',\n",
       " '힐링 (Sea Ver.)': 'song_name_503',\n",
       " '뉴에이지 힐링의 시간, 별과 구름 (바다소리)': 'song_name_504',\n",
       " '쉼, (Forest Ver.)': 'song_name_505',\n",
       " \"Elgar : Salut D'amour In E Major Op.12 (엘가 : 사랑의 인사 마장조 작품번호 12) (Sea Ver.)\": 'song_name_506',\n",
       " '푸른 밤하늘 너머 (Sea Ver.)': 'song_name_507',\n",
       " 'Schubert : Schwanengesang D.957 - IV. Standchen (슈베르트 : 백조의 노래 - 4번. 세레나데) (Sea Ver.)': 'song_name_508',\n",
       " 'Mendelssohn : Auf Flugeln Des Gesanges Op.34-2 (멘델스존 : 노래의 날개 위에 작품번호 34-2) (Sea Ver.)': 'song_name_509',\n",
       " 'Satie : Gymnopedie No.1 - Lent Et Douloureux (사티 : 짐노페디 1번) (바다소리)': 'song_name_510',\n",
       " 'Morning Breeze (Forest Ver.)': 'song_name_511',\n",
       " 'Satie : Gymnopedie No.2 - Lent Et Triste (사티 : 짐노페디 2번) (Sea Ver.)': 'song_name_512',\n",
       " 'The Calm (Sea Ver.)': 'song_name_513',\n",
       " 'Rain (Forest Ver.)': 'song_name_514',\n",
       " '뉴에이지 힐링의 시간, Love (바다소리)': 'song_name_515',\n",
       " 'Liszt : Ave Maria (리스트 : 아베마리아) (바다소리)': 'song_name_516',\n",
       " 'Tchaikovsky : The Seasons Op.37a - I. January. At The Fireside (차이콥스키 : 사계 작품번호 37a - 1월. 화롯가에서) (빗소리)': 'song_name_517',\n",
       " 'Ravel : Pavane For A Dead Princess (라벨 : 죽은 왕녀를 위한 파반느) (Sea Ver.)': 'song_name_518',\n",
       " '바다, 그리고 기억 (Sea Ver.)': 'song_name_519',\n",
       " 'Chopin : Nocturne No.8 In D Flat Major Op.27-2 (쇼팽 : 야상곡 8번 내림 라장조 작품번호 27-2) (Sea Ver.)': 'song_name_520',\n",
       " '물결처럼 고요한 (Forest Ver.)': 'song_name_521',\n",
       " '생각 위를 걷는 밤 (바다소리)': 'song_name_522',\n",
       " '마음의 평안 (Sea Ver.)': 'song_name_523',\n",
       " '달빛에 반짝이는 (Forest Ver.)': 'song_name_524',\n",
       " '오래된 일기장 (Sea Ver.)': 'song_name_525',\n",
       " 'Bach : The Well-Tempered Clavier Book I. Prelude No.1 In C Major BWV.846 (바흐 : 평균율 클라비어곡집 1권 전주곡 1번 다장조) (Rain Ver.)': 'song_name_526',\n",
       " 'Schumann : Kinderszenen Op.15 - I. Von Fremden Landern Und Menschen (슈만 : 어린이의 정경 - 1번. 미지의 나라들) (바다소리)': 'song_name_527',\n",
       " 'Bach : Suite For Solo Cello No.1 In G Major BWV.1007 - I. Prelude (Piano Ver.) (바흐 : 무반주 첼로 모음곡 1번 사장조 - 1번. 전주곡) (Sea Ver.)': 'song_name_528',\n",
       " '마음의 고요 (Sea Ver.)': 'song_name_529',\n",
       " 'Chopin : Nocturne No.5 In F Sharp Major Op.15-2 (쇼팽 : 야상곡 5번 올림 바장조 작품번호 15-2) (바다소리)': 'song_name_530',\n",
       " '겨울밤 (Forest Ver.)': 'song_name_531',\n",
       " \"Grieg : Peer Gynt Suite No.2 Op.55 - IV. Solveig's Song (그리그 : 페르귄트 모음곡 2번 작품번호 55 - 4번. 솔베이지의 노래) (Rain Ver.)\": 'song_name_532',\n",
       " \"Beethoven : Piano Sonata No.8 In C Minor Op.13 'Pathetique' - II. Adagio Cantabile (베토벤 : 피아노 소나타 8번 다단조 작품번호 13 '비창' - 2악장) (Rain Ver.)\": 'song_name_533',\n",
       " 'Moonlight Shadow (Sea Ver.)': 'song_name_534',\n",
       " 'Tchaikovsky/Rachmaninov : The Sleeping Beauty - Waltz (차이콥스키/라흐마니노프 : 잠자는 숲 속의 미녀 - 왈츠) (Forest Ver.)': 'song_name_535',\n",
       " \"Beethoven : Piano Sonata No.8 In C Minor Op.13 'Pathetique' - III. Rondo. Allegro (베토벤 : 피아노 소나타 8번 다단조 작품번호 13 '비창' - 3악장)\": 'song_name_536',\n",
       " '언제가는 (Sea Ver.)': 'song_name_537',\n",
       " '명상음악 (깊고 푸른 밤) (Forest Ver.)': 'song_name_538',\n",
       " '순수 (Purity) (Sea Ver.)': 'song_name_539',\n",
       " '자장가 (Sea Ver.)': 'song_name_540',\n",
       " 'My Heart (Forest Ver.)': 'song_name_541',\n",
       " '물결위로 반짝이는 (바다소리)': 'song_name_542',\n",
       " '명상음악 (밤하늘 별을 따라) (Sea Ver.)': 'song_name_543',\n",
       " '뉴에이지 힐링의 시간, 눈덮힌 나무 (바다소리)': 'song_name_544',\n",
       " '행복 (Sea Ver.)': 'song_name_545',\n",
       " '돌아오지 않는 밤 (Night Of No Return) (Sea Ver.)': 'song_name_546',\n",
       " '바다가 보이는 풍경 (Forest Ver.)': 'song_name_547',\n",
       " '물결처럼 고요한 (Sea Ver.)': 'song_name_548',\n",
       " '그 밤을 기억하고 있을까 (Rain Ver.)': 'song_name_549',\n",
       " '겨울이 지나고 눈이 녹으면 (Sea Ver.)': 'song_name_550',\n",
       " '뉴에이지 힐링의 시간, 숲과 바람 (바다소리)': 'song_name_551',\n",
       " '깊은밤, 꿈속에서 (Sea Ver.)': 'song_name_552',\n",
       " '주저하는 연인들을 위해': 'song_name_553',\n",
       " '여행': 'song_name_554',\n",
       " '뜨거운 여름밤은 가고 남은 건 볼품없지만': 'song_name_555',\n",
       " '스토커': 'song_name_556',\n",
       " '기억을 걷는 시간': 'song_name_557',\n",
       " '폰서트': 'song_name_558',\n",
       " '우주를 줄게': 'song_name_559',\n",
       " '널 사랑하지 않아': 'song_name_560',\n",
       " 'She (Hidden Track No.V 1월 선정곡)': 'song_name_561',\n",
       " '오늘': 'song_name_562',\n",
       " '눈사람': 'song_name_563',\n",
       " \"let's go picnic\": 'song_name_564',\n",
       " '절룩거리네': 'song_name_565',\n",
       " '반복되는 모든 게 날 괴롭게 해요': 'song_name_566',\n",
       " '세상 모든 사람들이 나를 미워하기 시작했다': 'song_name_567',\n",
       " '젊은이': 'song_name_568',\n",
       " 'Flying Bobs': 'song_name_569',\n",
       " '씬이 버린 아이들': 'song_name_570',\n",
       " 'Kiddo (기도)': 'song_name_571',\n",
       " '낮잠': 'song_name_572',\n",
       " '고무': 'song_name_573',\n",
       " '밤의 질주': 'song_name_574',\n",
       " '자연사 박물관': 'song_name_575',\n",
       " '오렌지 마말레이드': 'song_name_576',\n",
       " 'Last Dance': 'song_name_577',\n",
       " 'Good Good (Album Version)': 'song_name_578',\n",
       " 'Mad Sexy Cool': 'song_name_579',\n",
       " 'Until The End': 'song_name_580',\n",
       " '공드리': 'song_name_581',\n",
       " '남극': 'song_name_582',\n",
       " '내게 사랑은 너무 써': 'song_name_583',\n",
       " 'Heart Of It all': 'song_name_584',\n",
       " 'The Scientist': 'song_name_585',\n",
       " 'FOOLS': 'song_name_586',\n",
       " 'BITE': 'song_name_587',\n",
       " 'Cannonball': 'song_name_588',\n",
       " 'Photograph': 'song_name_589',\n",
       " 'Lego House': 'song_name_590',\n",
       " '+1 (Radio Edit.)': 'song_name_591',\n",
       " 'Arsonist': 'song_name_592',\n",
       " 'Breaking the Doors': 'song_name_593',\n",
       " 'Bullit (Radio Edit)': 'song_name_594',\n",
       " 'Backlash (Martin Garrix Edit)': 'song_name_595',\n",
       " 'Bazooka (538 Turn Up the Beach 2014 Theme) [Radio Edit]': 'song_name_596',\n",
       " 'Bfam (Original Mix)': 'song_name_597',\n",
       " 'Crash (Original Mix)': 'song_name_598',\n",
       " 'Cedanie (Radio Edit)': 'song_name_599',\n",
       " 'Devotion': 'song_name_600',\n",
       " 'Darkside (Radio Edit.)': 'song_name_601',\n",
       " 'Dynamite (Feat. Taylr Renee) (Original Mix)': 'song_name_602',\n",
       " 'Ein Glucklicher Tag (Feat. Melle Kuil) (Original Mix)': 'song_name_603',\n",
       " 'Freak (And You Know It)': 'song_name_604',\n",
       " 'Flashlight (Original Mix)': 'song_name_605',\n",
       " 'FAWL (From Amsterdam With Love)': 'song_name_606',\n",
       " 'Finally (Original Mix)': 'song_name_607',\n",
       " 'Go (Extended Mix)': 'song_name_608',\n",
       " 'Get Get Down': 'song_name_609',\n",
       " 'Gravity (Radio Edit)': 'song_name_610',\n",
       " 'Hoohah (Original Mix)': 'song_name_611',\n",
       " 'Heart (Original Mix)': 'song_name_612',\n",
       " 'How We Party': 'song_name_613',\n",
       " 'Hot Skin': 'song_name_614',\n",
       " 'Ilysb (Ferdinand Weber Remix)': 'song_name_615',\n",
       " 'I Could Be Wrong': 'song_name_616',\n",
       " 'JAMMU': 'song_name_617',\n",
       " 'Just Some Loops (Original Mix)': 'song_name_618',\n",
       " 'Koala': 'song_name_619',\n",
       " 'Karate': 'song_name_620',\n",
       " 'Kangaroo (Radio Edit)': 'song_name_621',\n",
       " 'Lovestruck': 'song_name_622',\n",
       " 'Lose Control': 'song_name_623',\n",
       " 'Legend (Original Mix)': 'song_name_624',\n",
       " 'Lowdown (Original Mix)': 'song_name_625',\n",
       " 'Machi': 'song_name_626',\n",
       " 'Memories (feat. Sirah)': 'song_name_627',\n",
       " 'Mercy': 'song_name_628',\n",
       " 'My Window (Feat. Maluca) (Original Mix)': 'song_name_629',\n",
       " 'Midnight Hearts (Original Mix) (Feat. ANGI3)': 'song_name_630',\n",
       " 'Never Leave (Extended Mix)': 'song_name_631',\n",
       " 'No Heroes (feat. Luciana)': 'song_name_632',\n",
       " 'Need Someone (Original Mix)': 'song_name_633',\n",
       " 'Never Come Close (Original Mix)': 'song_name_634',\n",
       " 'On My Mind': 'song_name_635',\n",
       " 'Output (Sander van Doorn Edit)': 'song_name_636',\n",
       " 'Portland (Radio Edit)': 'song_name_637',\n",
       " 'Pikachu': 'song_name_638',\n",
       " 'Rubber': 'song_name_639',\n",
       " 'Raveheart': 'song_name_640',\n",
       " 'Rock The Party': 'song_name_641',\n",
       " 'Ramcar (Original Mix)': 'song_name_642',\n",
       " 'Someone Who Needs Me': 'song_name_643',\n",
       " 'Stars (feat. Katt Niall)': 'song_name_644',\n",
       " 'Show Me Love (Kryder & Tom Staar Remix)': 'song_name_645',\n",
       " 'Somebody To Love': 'song_name_646',\n",
       " \"Samir's Theme (Original Mix)\": 'song_name_647',\n",
       " 'Sausage Fest (Original Mix)': 'song_name_648',\n",
       " 'Twerk Anthem (Original Mix)': 'song_name_649',\n",
       " 'Tiger': 'song_name_650',\n",
       " 'Tremor (Original Mix)': 'song_name_651',\n",
       " 'Universe (feat. Emeni)': 'song_name_652',\n",
       " 'Vertigo (Feat. Ruby Prophet) (Original Mix)': 'song_name_653',\n",
       " 'White Clouds (Original Mix)': 'song_name_654',\n",
       " 'Wicked Things (Original Mix) (Feat. Audio Bullys)': 'song_name_655',\n",
       " '살았소': 'song_name_656',\n",
       " 'O Tannenbaum': 'song_name_657',\n",
       " 'Champagne': 'song_name_658',\n",
       " 'Brucia La Terra': 'song_name_659',\n",
       " 'Il Mare Calmo Della Sera': 'song_name_660',\n",
       " 'Love in Portofino': 'song_name_661',\n",
       " 'Oye Como Va': 'song_name_662',\n",
       " '가을꽃': 'song_name_663',\n",
       " '나비 (Outro)': 'song_name_664',\n",
       " 'Tiritomba': 'song_name_665',\n",
       " '그리움의 계절': 'song_name_666',\n",
       " '친구': 'song_name_667',\n",
       " '노래해요 (Duet with 최백호)': 'song_name_668',\n",
       " '주마등': 'song_name_669',\n",
       " '약속 [約束]': 'song_name_670',\n",
       " '소녀': 'song_name_671',\n",
       " '잊지 말아요': 'song_name_672',\n",
       " '벌써 12시': 'song_name_673',\n",
       " '소녀 (Inst.)': 'song_name_674',\n",
       " '벌써 12시 (Inst.)': 'song_name_675',\n",
       " '파트너': 'song_name_676',\n",
       " '라 트라비아타 - 축배의 노래': 'song_name_677',\n",
       " '잊지 말아요 (Inst.)': 'song_name_678',\n",
       " '라 트라비아타 - 축배의 노래 (Inst.)': 'song_name_679',\n",
       " '파트너 (Inst.)': 'song_name_680',\n",
       " '본능적으로': 'song_name_681',\n",
       " '첫눈처럼 너에게 가겠다': 'song_name_682',\n",
       " '본능적으로 (Inst.)': 'song_name_683',\n",
       " '깊은밤을 날아서 (MR)': 'song_name_684',\n",
       " '꽃바람 여인': 'song_name_685',\n",
       " '꽃바람 여인 (MR)': 'song_name_686',\n",
       " '나보다 더 사랑해요': 'song_name_687',\n",
       " '나보다 더 사랑해요 (Inst.)': 'song_name_688',\n",
       " '나의 사람아': 'song_name_689',\n",
       " '나의 사람아 (Chinese Ver.)': 'song_name_690',\n",
       " '나의 사람아 (English Ver.)': 'song_name_691',\n",
       " '나의 사람아 (Inst.)': 'song_name_692',\n",
       " '나의 사람아 (Japanese Ver.)': 'song_name_693',\n",
       " '나의 사람아 (MR)': 'song_name_694',\n",
       " '낭만에 대하여': 'song_name_695',\n",
       " '낭만에 대하여 (MR)': 'song_name_696',\n",
       " '내 하나의 사람은 가고': 'song_name_697',\n",
       " '내 하나의 사람은 가고 (MR)': 'song_name_698',\n",
       " '너나 나나': 'song_name_699',\n",
       " '너나 나나 (Inst.)': 'song_name_700',\n",
       " '님의 등불': 'song_name_701',\n",
       " '님의 등불 (MR)': 'song_name_702',\n",
       " '때': 'song_name_703',\n",
       " '다시 한번만': 'song_name_704',\n",
       " '다시 한번만 (MR)': 'song_name_705',\n",
       " '때 (MR)': 'song_name_706',\n",
       " '무정부르스': 'song_name_707',\n",
       " '무정부르스 (MR)': 'song_name_708',\n",
       " '바람남': 'song_name_709',\n",
       " '백세인생': 'song_name_710',\n",
       " '백세인생 (MR)': 'song_name_711',\n",
       " '사랑 밖엔 난몰라': 'song_name_712',\n",
       " '사랑 밖엔 난몰라 (MR)': 'song_name_713',\n",
       " '사랑아': 'song_name_714',\n",
       " '사랑아 (MR)': 'song_name_715',\n",
       " '사랑의 트위스트': 'song_name_716',\n",
       " '사랑했어요': 'song_name_717',\n",
       " '사랑했어요 (MR)': 'song_name_718',\n",
       " '어떤이의 꿈': 'song_name_719',\n",
       " '어떤이의 꿈 (MR)': 'song_name_720',\n",
       " '어젯밤 이야기': 'song_name_721',\n",
       " '어젯밤 이야기 (MR)': 'song_name_722',\n",
       " 'Open Door': 'song_name_723',\n",
       " 'SHOW YOU': 'song_name_724',\n",
       " 'Fkn Around (feat. Megan Thee Stallion)': 'song_name_725',\n",
       " 'Sway With Me': 'song_name_726',\n",
       " 'King Of My City': 'song_name_727',\n",
       " 'Letter to Nipsey (feat. Roddy Ricch)': 'song_name_728',\n",
       " 'Boss Bitch': 'song_name_729',\n",
       " 'Momentary Bliss (feat. slowthai and Slaves)': 'song_name_730',\n",
       " 'The Box': 'song_name_731',\n",
       " 'Count On You': 'song_name_732',\n",
       " 'Young Americans': 'song_name_733',\n",
       " 'Futsal Shuffle 2020': 'song_name_734',\n",
       " 'Camelot': 'song_name_735',\n",
       " 'Porno': 'song_name_736',\n",
       " 'Mood (feat. Taeyong)': 'song_name_737',\n",
       " 'I Wanna Be Yours': 'song_name_738',\n",
       " 'Good As Hell (feat. Ariana Grande) [Remix]': 'song_name_739',\n",
       " 'Sweet Insomnia (feat. 6LACK)': 'song_name_740',\n",
       " 'These Nights': 'song_name_741',\n",
       " 'In Control': 'song_name_742',\n",
       " 'Leave Me (feat. Marc E. Bassy)': 'song_name_743',\n",
       " \"I Don't Think You're Ready\": 'song_name_744',\n",
       " 'Start Wit Me (feat. Gunna)': 'song_name_745',\n",
       " 'Zombie (feat. NLE Choppa & DB Omerta)': 'song_name_746',\n",
       " 'Hottest in the City': 'song_name_747',\n",
       " 'Hot Girl Summer (feat. Nicki Minaj & Ty Dolla $ign)': 'song_name_748',\n",
       " '19금 The London (feat. J. Cole & Travis Scott)': 'song_name_749',\n",
       " '19금 La La Land (feat. YG)': 'song_name_750',\n",
       " \"It's You\": 'song_name_751',\n",
       " 'Crimes': 'song_name_752',\n",
       " 'fast (Remix) [feat. Offset & A Boogie Wit da Hoodie]': 'song_name_753',\n",
       " 'Baby Birkin': 'song_name_754',\n",
       " 'Flex Up': 'song_name_755',\n",
       " 'RNP (feat. Anderson .Paak)': 'song_name_756',\n",
       " '19금 Kids': 'song_name_757',\n",
       " 'The Lay Down (feat. H.E.R. & watt)': 'song_name_758',\n",
       " 'Friends & Foes (feat. Snoop Dogg)': 'song_name_759',\n",
       " 'Bitchuary': 'song_name_760',\n",
       " '19금 Ice (feat. Gunna & Lil Baby)': 'song_name_761',\n",
       " 'Fake Pods': 'song_name_762',\n",
       " 'Broke As Fuck': 'song_name_763',\n",
       " '19금 Shea Butter': 'song_name_764',\n",
       " 'Addiction (feat. Lil Wayne & Saweetie)': 'song_name_765',\n",
       " 'Facts': 'song_name_766',\n",
       " 'Care': 'song_name_767',\n",
       " 'Cash Shit (feat. DaBaby)': 'song_name_768',\n",
       " 'Going Off': 'song_name_769',\n",
       " 'Birthday (feat. Monty)': 'song_name_770',\n",
       " 'Rich (feat. D Block Europe & Offset)': 'song_name_771',\n",
       " 'On Chill (feat. Jeremih)': 'song_name_772',\n",
       " \"That's Life (feat. Mac Miller & Sia)\": 'song_name_773',\n",
       " '19금 Tempo (feat. Missy Elliott)': 'song_name_774',\n",
       " 'Prescriptions (feat. GoldLink)': 'song_name_775',\n",
       " 'Racks in the Middle (feat. Roddy Ricch and Hit-Boy)': 'song_name_776',\n",
       " 'Just in Case (feat. Yung Bleu)': 'song_name_777',\n",
       " 'Babyface Savage (feat. Tory Lanez)': 'song_name_778',\n",
       " 'The Bonds (Feat. Nanase)': 'song_name_779',\n",
       " 'Mr. Moonlight': 'song_name_780',\n",
       " 'Solitude': 'song_name_781',\n",
       " 'It All Turns Out Great (Feat. MC Newsense From ArtOfficial And Nate Vibez) (Black Chiwawa Remix)': 'song_name_782',\n",
       " '4pm Cafe': 'song_name_783',\n",
       " 'Eyes Shut': 'song_name_784',\n",
       " 'Morning Cafe': 'song_name_785',\n",
       " 'Night In The City': 'song_name_786',\n",
       " 'Infatuation': 'song_name_787',\n",
       " 'Soul Nights': 'song_name_788',\n",
       " 'Lay It All on Me (feat. Ed Sheeran)': 'song_name_789',\n",
       " 'Home Part.2 (Feat. Tunji)': 'song_name_790',\n",
       " 'Bloodstream': 'song_name_791',\n",
       " 'Omen (Feat. Sam Smith)': 'song_name_792',\n",
       " 'Stay': 'song_name_793',\n",
       " 'Katja': 'song_name_794',\n",
       " 'Dirty': 'song_name_795',\n",
       " 'Kiss (Radio Edit.)': 'song_name_796',\n",
       " 'I Can Give You Heaven': 'song_name_797',\n",
       " 'Dream': 'song_name_798',\n",
       " 'In The Night': 'song_name_799',\n",
       " 'Real Life': 'song_name_800',\n",
       " 'Better': 'song_name_801',\n",
       " \"Can't Feel My Face\": 'song_name_802',\n",
       " 'Shine A Light Pt.5 (Feat. Sam Ock)': 'song_name_803',\n",
       " 'Amsterdam': 'song_name_804',\n",
       " 'Green & Gold': 'song_name_805',\n",
       " '혹시 기분이 상하지 않도록': 'song_name_806',\n",
       " 'Liar': 'song_name_807',\n",
       " '선을 그어 주던가': 'song_name_808',\n",
       " 'Surround': 'song_name_809',\n",
       " '민들레 (single ver.)': 'song_name_810',\n",
       " '사랑이 아니라 말하지 말아요': 'song_name_811',\n",
       " '언젠가 설명이 필요한 밤': 'song_name_812',\n",
       " 'Lovable': 'song_name_813',\n",
       " '청춘': 'song_name_814',\n",
       " '소녀감성100퍼센트': 'song_name_815',\n",
       " 'Missing You': 'song_name_816',\n",
       " '내 모습 이대로': 'song_name_817',\n",
       " 'DODODO (Clean Ver.)': 'song_name_818',\n",
       " '아마도 우린': 'song_name_819',\n",
       " '미안해': 'song_name_820',\n",
       " '보내주오': 'song_name_821',\n",
       " 'Rose of Sharon': 'song_name_822',\n",
       " '평범한 사랑을 하겠지만': 'song_name_823',\n",
       " 'Bad Intentions (Feat. Migos)': 'song_name_824',\n",
       " '무지개 (Feat. 윤닭 Of 오브로젝트)': 'song_name_825',\n",
       " '청춘 (DAY)': 'song_name_826',\n",
       " '밀착': 'song_name_827',\n",
       " '바람, 어디에서 부는지': 'song_name_828',\n",
       " '접속': 'song_name_829',\n",
       " '난 별': 'song_name_830',\n",
       " 'Beauty (Inspired by Ryan McGinley)': 'song_name_831',\n",
       " '고요': 'song_name_832',\n",
       " '수고했어, 오늘도': 'song_name_833',\n",
       " 'Breathe (Feat. Neev)': 'song_name_834',\n",
       " '나의 길': 'song_name_835',\n",
       " 'Hey (Feat. AFROJACK)': 'song_name_836',\n",
       " '팔베개': 'song_name_837',\n",
       " '안아줘': 'song_name_838',\n",
       " '한 여름 밤의 꿈': 'song_name_839',\n",
       " '그래도': 'song_name_840',\n",
       " 'D (half moon) (Feat. 개코)': 'song_name_841',\n",
       " '수잔': 'song_name_842',\n",
       " 'Middle (Originally Performed By Dj Snake)': 'song_name_843',\n",
       " '네가 좋아 (Feat. 박원 Of 원모어찬스)': 'song_name_844',\n",
       " '머리맡': 'song_name_845',\n",
       " '된장 찌개를 좋아해': 'song_name_846',\n",
       " '이 별': 'song_name_847',\n",
       " '그날처럼': 'song_name_848',\n",
       " '사월의 눈': 'song_name_849',\n",
       " 'all of my life': 'song_name_850',\n",
       " '내일 할 일': 'song_name_851',\n",
       " '널 사랑한 너': 'song_name_852',\n",
       " '좋아': 'song_name_853',\n",
       " '가을 안부': 'song_name_854',\n",
       " '하기 싫은 말': 'song_name_855',\n",
       " '바보야 (With 이해리 of 다비치)': 'song_name_856',\n",
       " '눈 떠보니 이별이더라': 'song_name_857',\n",
       " 'IF': 'song_name_858',\n",
       " '행복하댔잖아': 'song_name_859',\n",
       " '헤어질 수 밖에': 'song_name_860',\n",
       " '혼자서': 'song_name_861',\n",
       " '언젠가 우리': 'song_name_862',\n",
       " '선물': 'song_name_863',\n",
       " '나랑 아니면': 'song_name_864',\n",
       " '대낮에 한 이별 (Feat. 선예 (Wonder Girls))': 'song_name_865',\n",
       " '사랑하기 싫어': 'song_name_866',\n",
       " '사랑... 어떡하나요': 'song_name_867',\n",
       " '받는 사랑이 주는 사랑에게': 'song_name_868',\n",
       " '꽃길 (Prod. By ZICO)': 'song_name_869',\n",
       " 'I Miss You': 'song_name_870',\n",
       " '행복한 척': 'song_name_871',\n",
       " '내가 너의 곁에 잠시 살았다는 걸': 'song_name_872',\n",
       " '노력': 'song_name_873',\n",
       " '끝': 'song_name_874',\n",
       " '나만 안되는 연애': 'song_name_875',\n",
       " '나쁜 버릇': 'song_name_876',\n",
       " '미안했을까': 'song_name_877',\n",
       " 'No Way': 'song_name_878',\n",
       " '흩어져': 'song_name_879',\n",
       " '괜찮아': 'song_name_880',\n",
       " '그런 일은': 'song_name_881',\n",
       " '바라지 않아 (Feat. 소정 Of 레이디스 코드)': 'song_name_882',\n",
       " '내게 말해줘': 'song_name_883',\n",
       " '두사람': 'song_name_884',\n",
       " '꿈처럼': 'song_name_885',\n",
       " '못해 (Feat. 美)': 'song_name_886',\n",
       " '내 사랑 내 곁에': 'song_name_887',\n",
       " '행복하지 말아요': 'song_name_888',\n",
       " '기억속의 먼 그대에게': 'song_name_889',\n",
       " 'You Are My Everything': 'song_name_890',\n",
       " '한숨': 'song_name_891',\n",
       " '우주를 건너': 'song_name_892',\n",
       " '그대라서': 'song_name_893',\n",
       " '오늘은 가지마': 'song_name_894',\n",
       " '겁 (Feat. 태양)': 'song_name_895',\n",
       " '별처럼': 'song_name_896',\n",
       " '꼬마 - I Cry': 'song_name_897',\n",
       " '가끔': 'song_name_898',\n",
       " '시작': 'song_name_899',\n",
       " '가슴 아파도': 'song_name_900',\n",
       " '남자 때문에': 'song_name_901',\n",
       " '뒤돌아봐': 'song_name_902',\n",
       " '남과 여 (Feat.김범수)': 'song_name_903',\n",
       " '기다리다': 'song_name_904',\n",
       " '그댄 행복에 살텐데': 'song_name_905',\n",
       " '어떻게 사랑이 그래요': 'song_name_906',\n",
       " 'Zeze': 'song_name_907',\n",
       " '내 눈물 모아': 'song_name_908',\n",
       " '1,2,3,4 (원,투,쓰리,포)': 'song_name_909',\n",
       " \"Don't Cry\": 'song_name_910',\n",
       " '사랑 사랑아': 'song_name_911',\n",
       " '사랑 Two': 'song_name_912',\n",
       " '매일 그대와': 'song_name_913',\n",
       " 'Come Back Home (Unplugged Ver.)': 'song_name_914',\n",
       " '그 남자 그 여자 (Feat. 장혜진)': 'song_name_915',\n",
       " 'I (Feat. 버벌진트)': 'song_name_916',\n",
       " 'MAMA (Feat. 구윤회, 한예슬, 신종욱, 김나영)': 'song_name_917',\n",
       " '같은 시간 속의 너': 'song_name_918',\n",
       " '무릎': 'song_name_919',\n",
       " '푸르던': 'song_name_920',\n",
       " '모르나봐': 'song_name_921',\n",
       " '미안해요': 'song_name_922',\n",
       " '어깨': 'song_name_923',\n",
       " '그립고 그립고 그립다': 'song_name_924',\n",
       " '취중고백': 'song_name_925',\n",
       " '1994년 어느 늦은 밤 (마실나온 솜사탕)': 'song_name_926',\n",
       " '새벽 가로수길 (With 송유빈)': 'song_name_927',\n",
       " '바래진 기억에': 'song_name_928',\n",
       " 'Slowly': 'song_name_929',\n",
       " '술이야': 'song_name_930',\n",
       " 'Special Love': 'song_name_931',\n",
       " '여전히 아름다운지': 'song_name_932',\n",
       " '미친거니': 'song_name_933',\n",
       " '또르르': 'song_name_934',\n",
       " '내일을 묻는다 (Album Edit)': 'song_name_935',\n",
       " '사랑한다는 흔한 말': 'song_name_936',\n",
       " '사진을 보다가': 'song_name_937',\n",
       " '잘지내니': 'song_name_938',\n",
       " '점점': 'song_name_939',\n",
       " '너 밖엔 없더라': 'song_name_940',\n",
       " '고백': 'song_name_941',\n",
       " '가까이': 'song_name_942',\n",
       " '만약에': 'song_name_943',\n",
       " '연애 (Love Song)': 'song_name_944',\n",
       " '길에서': 'song_name_945',\n",
       " '가질 수 없는 너': 'song_name_946',\n",
       " '저녁 하늘': 'song_name_947',\n",
       " '바람이 분다': 'song_name_948',\n",
       " '우리가 헤어진 진짜 이유': 'song_name_949',\n",
       " '괜찮다': 'song_name_950',\n",
       " '인연': 'song_name_951',\n",
       " '남자도 우나요': 'song_name_952',\n",
       " '술 한잔 해요': 'song_name_953',\n",
       " '내가 웃고 있어요 (가인)': 'song_name_954',\n",
       " '그리고 하나': 'song_name_955',\n",
       " '미스터리 (Feat. San E)': 'song_name_956',\n",
       " 'Heaven': 'song_name_957',\n",
       " '씨스루 (Feat. Zion.T, 개코 Of 다이나믹듀오)': 'song_name_958',\n",
       " '자니 (Feat. Dynamic Duo)': 'song_name_959',\n",
       " '입장정리 (Feat. 최자 Of 다이나믹듀오, Simon D Of 슈프림팀)': 'song_name_960',\n",
       " '너를 사랑해': 'song_name_961',\n",
       " '우산': 'song_name_962',\n",
       " '여전히 뜨겁게': 'song_name_963',\n",
       " '겁이 나서': 'song_name_964',\n",
       " '싫다': 'song_name_965',\n",
       " '되돌리다': 'song_name_966',\n",
       " '사랑은 은하수 다방에서': 'song_name_967',\n",
       " '가슴이 시린 게': 'song_name_968',\n",
       " '심장이 없어': 'song_name_969',\n",
       " '미치게 만들어': 'song_name_970',\n",
       " '내겐 너니까': 'song_name_971',\n",
       " 'DAY BY DAY': 'song_name_972',\n",
       " '내 심장을 뛰게 하는 말': 'song_name_973',\n",
       " '짝사랑 (산들 Solo)': 'song_name_974',\n",
       " 'Rose': 'song_name_975',\n",
       " '허수아비': 'song_name_976',\n",
       " 'illa illa (일라 일라)': 'song_name_977',\n",
       " 'Everlasting Sunset': 'song_name_978',\n",
       " '느린노래': 'song_name_979',\n",
       " '키다리 아저씨': 'song_name_980',\n",
       " 'LOVE DAY': 'song_name_981',\n",
       " 'Lovely Day': 'song_name_982',\n",
       " 'BUBIBU': 'song_name_983',\n",
       " '외톨이': 'song_name_984',\n",
       " '헤어지지 못하는 여자, 떠나가지 못하는 남자 (Feat. 정인)': 'song_name_985',\n",
       " 'Bye Bye Bye': 'song_name_986',\n",
       " '칵테일 사랑 (Feat. 김연우)': 'song_name_987',\n",
       " '사는게 아니야': 'song_name_988',\n",
       " '늦은 후회': 'song_name_989',\n",
       " '슬픈 인연': 'song_name_990',\n",
       " '매직 카펫 라이드': 'song_name_991',\n",
       " '괜찮아 사랑이야': 'song_name_992',\n",
       " '시간이 흐른 뒤 (As Time Goes By)': 'song_name_993',\n",
       " '8282': 'song_name_994',\n",
       " '달에 지다': 'song_name_995',\n",
       " '내 남자친구를 부탁해': 'song_name_996',\n",
       " '여자라서 하지 못한 말': 'song_name_997',\n",
       " '여자라서': 'song_name_998',\n",
       " '아름다운 날들': 'song_name_999',\n",
       " '이럴거면': 'song_name_1000',\n",
       " ...}"
      ]
     },
     "execution_count": 17,
     "metadata": {},
     "output_type": "execute_result"
    }
   ],
   "source": [
    "song_identifiers"
   ]
  },
  {
   "cell_type": "markdown",
   "metadata": {},
   "source": [
    "## 1) 매핑 딕셔너리 저장"
   ]
  },
  {
   "cell_type": "code",
   "execution_count": 15,
   "metadata": {},
   "outputs": [],
   "source": [
    "import json\n",
    "\n",
    "# JSON 파일로 저장\n",
    "with open('song_identifiers.json', 'w', encoding='utf-8') as file:\n",
    "    json.dump(song_identifiers, file, ensure_ascii=False, indent=4)"
   ]
  },
  {
   "cell_type": "markdown",
   "metadata": {
    "id": "mUmkgUiO3Ls-"
   },
   "source": [
    "# 4.토크나이저 생성, 토큰화 진행"
   ]
  },
  {
   "cell_type": "markdown",
   "metadata": {
    "id": "OfhAN3zJ3OM2"
   },
   "source": [
    "## 1) Bert : encoder_input(playlist_title), lyric"
   ]
  },
  {
   "cell_type": "code",
   "execution_count": 18,
   "metadata": {
    "id": "ZVGAlDOP3CXT"
   },
   "outputs": [
    {
     "name": "stdout",
     "output_type": "stream",
     "text": [
      "WARNING:tensorflow:From C:\\Users\\administrator\\anaconda3\\Lib\\site-packages\\keras\\src\\losses.py:2976: The name tf.losses.sparse_softmax_cross_entropy is deprecated. Please use tf.compat.v1.losses.sparse_softmax_cross_entropy instead.\n",
      "\n"
     ]
    }
   ],
   "source": [
    "# 필요한 라이브러리 임포트\n",
    "from tensorflow.keras.preprocessing.text import Tokenizer\n",
    "from tensorflow.keras.preprocessing.sequence import pad_sequences\n",
    "\n",
    "# BERT 토크나이저(encoder_playlist, decoder_lyrics) import\n",
    "from transformers import BertTokenizer"
   ]
  },
  {
   "cell_type": "code",
   "execution_count": 19,
   "metadata": {
    "id": "ToFt590P_Ws4"
   },
   "outputs": [],
   "source": [
    "# BERT_playlist 토크나이저 생성\n",
    "playlist_title_tokenizer = BertTokenizer.from_pretrained('bert-base-multilingual-cased')\n",
    "# lyric_tokenizer = BertTokenizer.from_pretrained('bert-base-multilingual-cased')"
   ]
  },
  {
   "cell_type": "markdown",
   "metadata": {
    "id": "67pHc3mWPrWH"
   },
   "source": [
    "## 2) Tokenizer_self : Concat_ Other_input"
   ]
  },
  {
   "cell_type": "code",
   "execution_count": 20,
   "metadata": {
    "id": "wyrNgAoo3Kph"
   },
   "outputs": [],
   "source": [
    "song_tokenizer = Tokenizer(filters= '', lower= False)\n",
    "artist_tokenizer = Tokenizer(filters= '', lower= False)\n",
    "album_tokenizer = Tokenizer(filters= '', lower= False)\n",
    "genre_tokenizer = Tokenizer(filters= '', lower= False)\n",
    "release_date_tokenizer = Tokenizer(filters= '', lower= False)"
   ]
  },
  {
   "cell_type": "code",
   "execution_count": 21,
   "metadata": {
    "id": "X8QXIn3_3Vl-"
   },
   "outputs": [],
   "source": [
    "# 고유 식별자를 사용하여 토크나이저 피팅\n",
    "song_tokenizer.fit_on_texts(song_identifiers.values())\n",
    "artist_tokenizer.fit_on_texts(artist_identifiers.values())\n",
    "album_tokenizer.fit_on_texts(album_identifiers.values())\n",
    "genre_tokenizer.fit_on_texts(genre_identifiers.values())\n",
    "release_date_tokenizer.fit_on_texts(release_date_identifiers.values())"
   ]
  },
  {
   "cell_type": "markdown",
   "metadata": {},
   "source": [
    "## 3) 토크나이저 저장"
   ]
  },
  {
   "cell_type": "code",
   "execution_count": 20,
   "metadata": {},
   "outputs": [],
   "source": [
    "song_tokenizer_json = song_tokenizer.to_json()\n",
    "\n",
    "# JSON 문자열을 파일로 저장\n",
    "with open('song_tokenizer_none_audio.json', 'w', encoding='utf-8') as f:\n",
    "    f.write(json.dumps(song_tokenizer_json, ensure_ascii= False))"
   ]
  },
  {
   "cell_type": "code",
   "execution_count": 22,
   "metadata": {},
   "outputs": [
    {
     "data": {
      "text/plain": [
       "261227"
      ]
     },
     "execution_count": 22,
     "metadata": {},
     "output_type": "execute_result"
    }
   ],
   "source": [
    "len(song_tokenizer.word_index)"
   ]
  },
  {
   "cell_type": "code",
   "execution_count": 23,
   "metadata": {
    "id": "UkbISFpCakQz"
   },
   "outputs": [
    {
     "data": {
      "text/plain": [
       "261226"
      ]
     },
     "execution_count": 23,
     "metadata": {},
     "output_type": "execute_result"
    }
   ],
   "source": [
    "song_tokenizer.word_index['<sos>']"
   ]
  },
  {
   "cell_type": "code",
   "execution_count": 24,
   "metadata": {},
   "outputs": [
    {
     "data": {
      "text/plain": [
       "261227"
      ]
     },
     "execution_count": 24,
     "metadata": {},
     "output_type": "execute_result"
    }
   ],
   "source": [
    "song_tokenizer.word_index['<eos>']"
   ]
  },
  {
   "cell_type": "code",
   "execution_count": 29,
   "metadata": {},
   "outputs": [
    {
     "data": {
      "text/plain": [
       "('playlist_title_tokenizer\\\\tokenizer_config.json',\n",
       " 'playlist_title_tokenizer\\\\special_tokens_map.json',\n",
       " 'playlist_title_tokenizer\\\\vocab.txt',\n",
       " 'playlist_title_tokenizer\\\\added_tokens.json')"
      ]
     },
     "execution_count": 29,
     "metadata": {},
     "output_type": "execute_result"
    }
   ],
   "source": [
    "# # 토크나이저 저장\n",
    "\n",
    "# playlist_title_tokenizer.save_pretrained('playlist_title_tokenizer')"
   ]
  },
  {
   "cell_type": "markdown",
   "metadata": {
    "id": "Bfq42uUdP1qE"
   },
   "source": [
    "## 3) Tokenizer <- 식별자 사전 적용"
   ]
  },
  {
   "cell_type": "code",
   "execution_count": 25,
   "metadata": {
    "id": "XmN_bkVuTnzO",
    "scrolled": true
   },
   "outputs": [],
   "source": [
    "# 노래 제목을 식별자로 변환\n",
    "data['song_identifier'] = data['song_name'].map(song_identifiers)\n",
    "\n",
    "# 데이터에 고유 식별자 적용\n",
    "data['artist_identifier'] = data['artist'].map(artist_identifiers)\n",
    "data['album_identifier'] = data['album'].map(album_identifiers)\n",
    "data['genre_identifier'] = data['genre'].map(genre_identifiers)\n",
    "data['release_date_identifier'] = data['release_date'].map(release_date_identifiers)"
   ]
  },
  {
   "cell_type": "code",
   "execution_count": 26,
   "metadata": {
    "colab": {
     "base_uri": "https://localhost:8080/"
    },
    "executionInfo": {
     "elapsed": 517,
     "status": "ok",
     "timestamp": 1700802428765,
     "user": {
      "displayName": "강동률",
      "userId": "17439952535664404139"
     },
     "user_tz": -540
    },
    "id": "tA_F_MmJvurR",
    "outputId": "c3653a15-59a1-4433-9615-8bbb59a3714d"
   },
   "outputs": [
    {
     "data": {
      "text/plain": [
       "64381"
      ]
     },
     "execution_count": 26,
     "metadata": {},
     "output_type": "execute_result"
    }
   ],
   "source": [
    "len(data['artist_identifier'].unique())"
   ]
  },
  {
   "cell_type": "code",
   "execution_count": 27,
   "metadata": {},
   "outputs": [
    {
     "data": {
      "text/plain": [
       "64381"
      ]
     },
     "execution_count": 27,
     "metadata": {},
     "output_type": "execute_result"
    }
   ],
   "source": [
    "len(data['artist'].unique())"
   ]
  },
  {
   "cell_type": "code",
   "execution_count": 33,
   "metadata": {},
   "outputs": [],
   "source": [
    "# max(data['artist_identifier'].unique())"
   ]
  },
  {
   "cell_type": "markdown",
   "metadata": {
    "id": "spJuJn-dfiPS"
   },
   "source": [
    "# 5.데이터 GruopBy 및 Shuffle"
   ]
  },
  {
   "cell_type": "code",
   "execution_count": 28,
   "metadata": {},
   "outputs": [
    {
     "data": {
      "text/plain": [
       "1591283"
      ]
     },
     "execution_count": 28,
     "metadata": {},
     "output_type": "execute_result"
    }
   ],
   "source": [
    "len(data)"
   ]
  },
  {
   "cell_type": "code",
   "execution_count": 29,
   "metadata": {
    "id": "A5ydBuHF_8RH"
   },
   "outputs": [],
   "source": [
    "# 데이터셋 로드\n",
    "# 플레이리스트별로 그룹화\n",
    "# shuffled_grouped  = data.groupby('playlist_name')\n",
    "shuffled_grouped  = data.groupby('playlist_name')"
   ]
  },
  {
   "cell_type": "code",
   "execution_count": 30,
   "metadata": {
    "colab": {
     "base_uri": "https://localhost:8080/"
    },
    "executionInfo": {
     "elapsed": 31110,
     "status": "ok",
     "timestamp": 1700802560974,
     "user": {
      "displayName": "강동률",
      "userId": "17439952535664404139"
     },
     "user_tz": -540
    },
    "id": "1f9M4FDz_8WF",
    "outputId": "abd27f0f-6eb5-4e7f-b47c-00e32be43872",
    "scrolled": true
   },
   "outputs": [
    {
     "data": {
      "text/html": [
       "<div>\n",
       "<style scoped>\n",
       "    .dataframe tbody tr th:only-of-type {\n",
       "        vertical-align: middle;\n",
       "    }\n",
       "\n",
       "    .dataframe tbody tr th {\n",
       "        vertical-align: top;\n",
       "    }\n",
       "\n",
       "    .dataframe thead th {\n",
       "        text-align: right;\n",
       "    }\n",
       "</style>\n",
       "<table border=\"1\" class=\"dataframe\">\n",
       "  <thead>\n",
       "    <tr style=\"text-align: right;\">\n",
       "      <th></th>\n",
       "      <th>song_name</th>\n",
       "      <th>artist</th>\n",
       "      <th>release_date</th>\n",
       "      <th>album</th>\n",
       "      <th>genre</th>\n",
       "      <th>lyric</th>\n",
       "      <th>playlist_name</th>\n",
       "      <th>song_identifier</th>\n",
       "      <th>artist_identifier</th>\n",
       "      <th>album_identifier</th>\n",
       "      <th>genre_identifier</th>\n",
       "      <th>release_date_identifier</th>\n",
       "    </tr>\n",
       "  </thead>\n",
       "  <tbody>\n",
       "    <tr>\n",
       "      <th>0</th>\n",
       "      <td>Rainy Day</td>\n",
       "      <td>에일리(Ailee)</td>\n",
       "      <td>13</td>\n",
       "      <td>A's Doll House</td>\n",
       "      <td>발라드</td>\n",
       "      <td>이렇게 또 비가 내리면 헤어지던 때가 생각나 붙잡던 날 버리고 나를 떠난 너 너는 ...</td>\n",
       "      <td>추천가요 트롯트</td>\n",
       "      <td>song_name_1</td>\n",
       "      <td>artist_1</td>\n",
       "      <td>album_1</td>\n",
       "      <td>genre_1</td>\n",
       "      <td>release_date_1</td>\n",
       "    </tr>\n",
       "    <tr>\n",
       "      <th>1</th>\n",
       "      <td>When This Rain Stops</td>\n",
       "      <td>웬디 (WENDY)</td>\n",
       "      <td>21</td>\n",
       "      <td>Like Water - The 1st Mini Album</td>\n",
       "      <td>발라드</td>\n",
       "      <td>혼자인 것만 같은 날들이 참 많기도 해 다 안다고 생각했던 것들이 낯설어지기도 하고...</td>\n",
       "      <td>추천가요 트롯트</td>\n",
       "      <td>song_name_2</td>\n",
       "      <td>artist_2</td>\n",
       "      <td>album_2</td>\n",
       "      <td>genre_1</td>\n",
       "      <td>release_date_2</td>\n",
       "    </tr>\n",
       "    <tr>\n",
       "      <th>2</th>\n",
       "      <td>밤편지</td>\n",
       "      <td>아이유</td>\n",
       "      <td>17</td>\n",
       "      <td>밤편지</td>\n",
       "      <td>발라드</td>\n",
       "      <td>이 밤 그날의 반딧불을 당신의 창 가까이 보낼게요 음 사랑한다는 말이에요 나 우리의...</td>\n",
       "      <td>추천가요 트롯트</td>\n",
       "      <td>song_name_3</td>\n",
       "      <td>artist_3</td>\n",
       "      <td>album_3</td>\n",
       "      <td>genre_1</td>\n",
       "      <td>release_date_3</td>\n",
       "    </tr>\n",
       "    <tr>\n",
       "      <th>3</th>\n",
       "      <td>우산 (Feat. 윤하)</td>\n",
       "      <td>에픽하이 (EPIK HIGH)</td>\n",
       "      <td>04</td>\n",
       "      <td>Pieces, Part One</td>\n",
       "      <td>랩/힙합</td>\n",
       "      <td>어느새 빗물이 내 발목에 고이고 참았던 눈물이 내 눈가에 고이고 I cry 텅빈 방...</td>\n",
       "      <td>추천가요 트롯트</td>\n",
       "      <td>song_name_4</td>\n",
       "      <td>artist_4</td>\n",
       "      <td>album_4</td>\n",
       "      <td>genre_2</td>\n",
       "      <td>release_date_4</td>\n",
       "    </tr>\n",
       "    <tr>\n",
       "      <th>4</th>\n",
       "      <td>장마 (Rainy Season)</td>\n",
       "      <td>마마무 (Mamamoo)</td>\n",
       "      <td>18</td>\n",
       "      <td>장마 (Rainy Season)</td>\n",
       "      <td>R&amp;B/Soul</td>\n",
       "      <td>It's a rainy day 헤어지기엔 아직은 좀 이른 듯해 Why Why Why...</td>\n",
       "      <td>추천가요 트롯트</td>\n",
       "      <td>song_name_5</td>\n",
       "      <td>artist_5</td>\n",
       "      <td>album_5</td>\n",
       "      <td>genre_3</td>\n",
       "      <td>release_date_5</td>\n",
       "    </tr>\n",
       "    <tr>\n",
       "      <th>...</th>\n",
       "      <td>...</td>\n",
       "      <td>...</td>\n",
       "      <td>...</td>\n",
       "      <td>...</td>\n",
       "      <td>...</td>\n",
       "      <td>...</td>\n",
       "      <td>...</td>\n",
       "      <td>...</td>\n",
       "      <td>...</td>\n",
       "      <td>...</td>\n",
       "      <td>...</td>\n",
       "      <td>...</td>\n",
       "    </tr>\n",
       "    <tr>\n",
       "      <th>1591235</th>\n",
       "      <td>돌아가자</td>\n",
       "      <td>늘 그대</td>\n",
       "      <td>20</td>\n",
       "      <td>돌아가자</td>\n",
       "      <td>뉴에이지</td>\n",
       "      <td>아직 가사가 등록되지 않았습니다.</td>\n",
       "      <td>일상™ 같은 Music♬</td>\n",
       "      <td>song_name_52475</td>\n",
       "      <td>artist_16652</td>\n",
       "      <td>album_38942</td>\n",
       "      <td>genre_7</td>\n",
       "      <td>release_date_8</td>\n",
       "    </tr>\n",
       "    <tr>\n",
       "      <th>1591236</th>\n",
       "      <td>인연(因緣)</td>\n",
       "      <td>휘월 (徽月)</td>\n",
       "      <td>20</td>\n",
       "      <td>인연(因緣)</td>\n",
       "      <td>뉴에이지</td>\n",
       "      <td>아직 가사가 등록되지 않았습니다.</td>\n",
       "      <td>일상™ 같은 Music♬</td>\n",
       "      <td>song_name_52505</td>\n",
       "      <td>artist_16680</td>\n",
       "      <td>album_38967</td>\n",
       "      <td>genre_7</td>\n",
       "      <td>release_date_8</td>\n",
       "    </tr>\n",
       "    <tr>\n",
       "      <th>1591237</th>\n",
       "      <td>달빛에 그대 비추다(美輝月)</td>\n",
       "      <td>월아 (月兒)</td>\n",
       "      <td>20</td>\n",
       "      <td>달빛에 그대 비추다(美輝月)</td>\n",
       "      <td>뉴에이지</td>\n",
       "      <td>아직 가사가 등록되지 않았습니다.</td>\n",
       "      <td>일상™ 같은 Music♬</td>\n",
       "      <td>song_name_52515</td>\n",
       "      <td>artist_16689</td>\n",
       "      <td>album_38975</td>\n",
       "      <td>genre_7</td>\n",
       "      <td>release_date_8</td>\n",
       "    </tr>\n",
       "    <tr>\n",
       "      <th>1591238</th>\n",
       "      <td>마음에 기대어</td>\n",
       "      <td>감성시인</td>\n",
       "      <td>20</td>\n",
       "      <td>마음 시</td>\n",
       "      <td>뉴에이지</td>\n",
       "      <td>아직 가사가 등록되지 않았습니다.</td>\n",
       "      <td>일상™ 같은 Music♬</td>\n",
       "      <td>song_name_38700</td>\n",
       "      <td>artist_12760</td>\n",
       "      <td>album_29384</td>\n",
       "      <td>genre_7</td>\n",
       "      <td>release_date_8</td>\n",
       "    </tr>\n",
       "    <tr>\n",
       "      <th>1591239</th>\n",
       "      <td>당신의 사랑이</td>\n",
       "      <td>피아노 소년</td>\n",
       "      <td>20</td>\n",
       "      <td>당신의 사랑이</td>\n",
       "      <td>뉴에이지</td>\n",
       "      <td>아직 가사가 등록되지 않았습니다.</td>\n",
       "      <td>일상™ 같은 Music♬</td>\n",
       "      <td>song_name_38701</td>\n",
       "      <td>artist_5272</td>\n",
       "      <td>album_29385</td>\n",
       "      <td>genre_7</td>\n",
       "      <td>release_date_8</td>\n",
       "    </tr>\n",
       "  </tbody>\n",
       "</table>\n",
       "<p>299851 rows × 12 columns</p>\n",
       "</div>"
      ],
      "text/plain": [
       "                    song_name            artist release_date  \\\n",
       "0                   Rainy Day        에일리(Ailee)           13   \n",
       "1        When This Rain Stops        웬디 (WENDY)           21   \n",
       "2                         밤편지               아이유           17   \n",
       "3               우산 (Feat. 윤하)  에픽하이 (EPIK HIGH)           04   \n",
       "4           장마 (Rainy Season)     마마무 (Mamamoo)           18   \n",
       "...                       ...               ...          ...   \n",
       "1591235                  돌아가자              늘 그대           20   \n",
       "1591236                인연(因緣)           휘월 (徽月)           20   \n",
       "1591237       달빛에 그대 비추다(美輝月)           월아 (月兒)           20   \n",
       "1591238               마음에 기대어              감성시인           20   \n",
       "1591239               당신의 사랑이            피아노 소년           20   \n",
       "\n",
       "                                   album     genre  \\\n",
       "0                         A's Doll House       발라드   \n",
       "1        Like Water - The 1st Mini Album       발라드   \n",
       "2                                    밤편지       발라드   \n",
       "3                       Pieces, Part One      랩/힙합   \n",
       "4                      장마 (Rainy Season)  R&B/Soul   \n",
       "...                                  ...       ...   \n",
       "1591235                             돌아가자      뉴에이지   \n",
       "1591236                           인연(因緣)      뉴에이지   \n",
       "1591237                  달빛에 그대 비추다(美輝月)      뉴에이지   \n",
       "1591238                             마음 시      뉴에이지   \n",
       "1591239                          당신의 사랑이      뉴에이지   \n",
       "\n",
       "                                                     lyric  playlist_name  \\\n",
       "0        이렇게 또 비가 내리면 헤어지던 때가 생각나 붙잡던 날 버리고 나를 떠난 너 너는 ...       추천가요 트롯트   \n",
       "1        혼자인 것만 같은 날들이 참 많기도 해 다 안다고 생각했던 것들이 낯설어지기도 하고...       추천가요 트롯트   \n",
       "2        이 밤 그날의 반딧불을 당신의 창 가까이 보낼게요 음 사랑한다는 말이에요 나 우리의...       추천가요 트롯트   \n",
       "3        어느새 빗물이 내 발목에 고이고 참았던 눈물이 내 눈가에 고이고 I cry 텅빈 방...       추천가요 트롯트   \n",
       "4        It's a rainy day 헤어지기엔 아직은 좀 이른 듯해 Why Why Why...       추천가요 트롯트   \n",
       "...                                                    ...            ...   \n",
       "1591235                                 아직 가사가 등록되지 않았습니다.  일상™ 같은 Music♬   \n",
       "1591236                                 아직 가사가 등록되지 않았습니다.  일상™ 같은 Music♬   \n",
       "1591237                                 아직 가사가 등록되지 않았습니다.  일상™ 같은 Music♬   \n",
       "1591238                                 아직 가사가 등록되지 않았습니다.  일상™ 같은 Music♬   \n",
       "1591239                                 아직 가사가 등록되지 않았습니다.  일상™ 같은 Music♬   \n",
       "\n",
       "         song_identifier artist_identifier album_identifier genre_identifier  \\\n",
       "0            song_name_1          artist_1          album_1          genre_1   \n",
       "1            song_name_2          artist_2          album_2          genre_1   \n",
       "2            song_name_3          artist_3          album_3          genre_1   \n",
       "3            song_name_4          artist_4          album_4          genre_2   \n",
       "4            song_name_5          artist_5          album_5          genre_3   \n",
       "...                  ...               ...              ...              ...   \n",
       "1591235  song_name_52475      artist_16652      album_38942          genre_7   \n",
       "1591236  song_name_52505      artist_16680      album_38967          genre_7   \n",
       "1591237  song_name_52515      artist_16689      album_38975          genre_7   \n",
       "1591238  song_name_38700      artist_12760      album_29384          genre_7   \n",
       "1591239  song_name_38701       artist_5272      album_29385          genre_7   \n",
       "\n",
       "        release_date_identifier  \n",
       "0                release_date_1  \n",
       "1                release_date_2  \n",
       "2                release_date_3  \n",
       "3                release_date_4  \n",
       "4                release_date_5  \n",
       "...                         ...  \n",
       "1591235          release_date_8  \n",
       "1591236          release_date_8  \n",
       "1591237          release_date_8  \n",
       "1591238          release_date_8  \n",
       "1591239          release_date_8  \n",
       "\n",
       "[299851 rows x 12 columns]"
      ]
     },
     "execution_count": 30,
     "metadata": {},
     "output_type": "execute_result"
    }
   ],
   "source": [
    "shuffled_grouped.head(10)"
   ]
  },
  {
   "cell_type": "code",
   "execution_count": 31,
   "metadata": {},
   "outputs": [
    {
     "name": "stdout",
     "output_type": "stream",
     "text": [
      "! 띵곡 !\n",
      "!! 가사주의 !! 가사가 가슴에 콕!\n"
     ]
    }
   ],
   "source": [
    "count = 0\n",
    "for name, _ in shuffled_grouped :\n",
    "    if count < 2 :\n",
    "        print(name)\n",
    "        \n",
    "    else :\n",
    "        break\n",
    "\n",
    "    count += 1 "
   ]
  },
  {
   "cell_type": "markdown",
   "metadata": {
    "id": "gAw1jZqoQLZN"
   },
   "source": [
    "# 6.Encoder, Decoder_input 전처리 변환"
   ]
  },
  {
   "cell_type": "code",
   "execution_count": 32,
   "metadata": {
    "colab": {
     "base_uri": "https://localhost:8080/"
    },
    "executionInfo": {
     "elapsed": 339,
     "status": "ok",
     "timestamp": 1700802735266,
     "user": {
      "displayName": "강동률",
      "userId": "17439952535664404139"
     },
     "user_tz": -540
    },
    "id": "Y3F9PP9LvhBP",
    "outputId": "0046a6a4-addf-403f-d551-52e09363998f"
   },
   "outputs": [
    {
     "data": {
      "text/plain": [
       "261226"
      ]
     },
     "execution_count": 32,
     "metadata": {},
     "output_type": "execute_result"
    }
   ],
   "source": [
    "song_tokenizer.word_index['<sos>']"
   ]
  },
  {
   "cell_type": "code",
   "execution_count": 33,
   "metadata": {},
   "outputs": [
    {
     "data": {
      "text/plain": [
       "261227"
      ]
     },
     "execution_count": 33,
     "metadata": {},
     "output_type": "execute_result"
    }
   ],
   "source": [
    "song_tokenizer.word_index['<eos>']"
   ]
  },
  {
   "cell_type": "code",
   "execution_count": 34,
   "metadata": {},
   "outputs": [
    {
     "name": "stderr",
     "output_type": "stream",
     "text": [
      "100%|██████████████████████████████████████████████████████████████████████████| 30000/30000 [00:09<00:00, 3143.79it/s]\n"
     ]
    }
   ],
   "source": [
    "# 플레이리스트별 데이터 그룹화 및 시퀀스 생성\n",
    "playlist_sequences = []\n",
    "song_sequences = []\n",
    "\n",
    "# # [SOS]와 [EOS] 토큰의 인덱스 할당\n",
    "sos_index = song_tokenizer.word_index['<sos>']\n",
    "eos_index = song_tokenizer.word_index['<eos>']\n",
    "\n",
    "playlist_sequences = []\n",
    "song_sequences = []\n",
    "\n",
    "count = 1\n",
    "for name, group in tqdm(shuffled_grouped):\n",
    "    # 플레이리스트 제목 시퀀스 생성 및 패딩\n",
    "    playlist_seq = playlist_title_tokenizer.encode(name, add_special_tokens=False)\n",
    "    playlist_seq_padded = pad_sequences([playlist_seq], maxlen=playlist_length, padding='post', truncating='post')[0]\n",
    "    \n",
    "    # 결합된 노래 제목을 하나의 시퀀스로 변환\n",
    "    combined_songs = ' '.join(group['song_identifier'].tolist())\n",
    "    song_seq = song_tokenizer.texts_to_sequences([combined_songs])[0]\n",
    "    # print(conunt, song_seq)\n",
    "    \n",
    "    # <sos> 토큰 추가\n",
    "    song_seq_with_sos = np.concatenate([[sos_index], song_seq])\n",
    "    # print(conunt, song_seq_with_sos)\n",
    "    \n",
    "    # 패딩 적용 및 <eos> 토큰 추가\n",
    "    if len(song_seq_with_sos) >= max_songs:\n",
    "        # 이미 최대 길이에 도달했으므로, <eos> 토큰 추가 없이 바로 패딩\n",
    "        song_seq_padded_sos = pad_sequences([song_seq_with_sos], maxlen=(max_songs - 1), padding='post', truncating='post')[0]\n",
    "        # print(conunt, song_seq_padded_sos)\n",
    "        \n",
    "        song_seq_padded = np.append(song_seq_padded_sos, eos_index)\n",
    "        # print(conunt, song_seq_padded)\n",
    "    \n",
    "    else:\n",
    "        # <eos> 토큰 추가 가능\n",
    "        song_seq_with_eos = np.append(song_seq_with_sos, eos_index)\n",
    "        # print(conunt, song_seq_with_eos)\n",
    "        \n",
    "        song_seq_padded = pad_sequences([song_seq_with_eos], maxlen=max_songs, padding='post', truncating='post')[0]\n",
    "        # print(conunt, song_seq_padded)\n",
    "        \n",
    "    # NumPy 배열로 변환\n",
    "    playlist_seq_np_array = np.array(playlist_seq_padded, dtype=np.int32)\n",
    "    song_seq_np_array = np.array(song_seq_padded, dtype=np.int32)\n",
    "\n",
    "    # 결과 리스트에 추가\n",
    "    playlist_sequences.append(playlist_seq_np_array)\n",
    "    song_sequences.append(song_seq_np_array)\n",
    "    # count += 1"
   ]
  },
  {
   "cell_type": "code",
   "execution_count": 35,
   "metadata": {
    "scrolled": false
   },
   "outputs": [
    {
     "data": {
      "text/plain": [
       "10"
      ]
     },
     "execution_count": 35,
     "metadata": {},
     "output_type": "execute_result"
    }
   ],
   "source": [
    "len(song_sequences[0])"
   ]
  },
  {
   "cell_type": "code",
   "execution_count": 36,
   "metadata": {},
   "outputs": [
    {
     "data": {
      "text/plain": [
       "10"
      ]
     },
     "execution_count": 36,
     "metadata": {},
     "output_type": "execute_result"
    }
   ],
   "source": [
    "len(song_sequences[1])"
   ]
  },
  {
   "cell_type": "code",
   "execution_count": 49,
   "metadata": {},
   "outputs": [
    {
     "data": {
      "text/plain": [
       "'!! 가사주의!! 가사가 가슴에 콕! [PAD] [PAD] [PAD] [PAD] [PAD] [PAD] [PAD] [PAD] [PAD] [PAD] [PAD]'"
      ]
     },
     "execution_count": 49,
     "metadata": {},
     "output_type": "execute_result"
    }
   ],
   "source": [
    "# 플레이리스트_인코더 sequence\n",
    "playlist_title_tokenizer.decode(playlist_sequences[1])"
   ]
  },
  {
   "cell_type": "code",
   "execution_count": 40,
   "metadata": {},
   "outputs": [
    {
     "data": {
      "text/plain": [
       "array([   106,    106,   8843,  12945,  37224,    106,    106,   8843,\n",
       "        49636,   8843, 119080,  10530,   9813,    106,      0,      0,\n",
       "            0,      0,      0,      0,      0,      0,      0,      0,\n",
       "            0])"
      ]
     },
     "execution_count": 40,
     "metadata": {},
     "output_type": "execute_result"
    }
   ],
   "source": [
    "playlist_sequences[1]"
   ]
  },
  {
   "cell_type": "code",
   "execution_count": 45,
   "metadata": {},
   "outputs": [
    {
     "data": {
      "text/plain": [
       "['Unknown Identifier',\n",
       " 'In The Air (With 석우)',\n",
       " 'lovememore.',\n",
       " '현미경 (feat. 기리보이)',\n",
       " 'Blurry (Feat. Dbo) (Prod. By PEEJAY)',\n",
       " '자나깨나 (Feat. 조이 of Red Velvet)',\n",
       " 'gold (Feat. Dean)',\n",
       " 'GANADARA (Feat. 아이유)',\n",
       " 'Is You Down',\n",
       " 'Unknown Identifier']"
      ]
     },
     "execution_count": 45,
     "metadata": {},
     "output_type": "execute_result"
    }
   ],
   "source": [
    "# 노래 제목_디코더 sequence\n",
    "convert_sequence_to_titles(song_sequences[1], song_identifiers)"
   ]
  },
  {
   "cell_type": "code",
   "execution_count": 48,
   "metadata": {},
   "outputs": [
    {
     "data": {
      "text/plain": [
       "array([261226, 141929,   5819,  30198,  13103,  13821,  13126,   1934,\n",
       "        30638, 261227])"
      ]
     },
     "execution_count": 48,
     "metadata": {},
     "output_type": "execute_result"
    }
   ],
   "source": [
    "song_sequences[1]"
   ]
  },
  {
   "cell_type": "code",
   "execution_count": null,
   "metadata": {},
   "outputs": [],
   "source": []
  },
  {
   "cell_type": "code",
   "execution_count": null,
   "metadata": {},
   "outputs": [],
   "source": []
  },
  {
   "cell_type": "code",
   "execution_count": 43,
   "metadata": {},
   "outputs": [],
   "source": [
    "# idetifier_ 노래이름을 토크나이저로 변환 후, 다시 노래제목으로 처리하기 위한 딕셔너리\n",
    "\n",
    "def find_key_by_value(value_to_find, dictionary):\n",
    "    for key, value in dictionary.items():\n",
    "        if value == value_to_find:\n",
    "            return key\n",
    "    return \"Unknown Identifier\"  # 값이 사전에 없는 경우\n",
    "\n",
    "# 예시 사용\n",
    "# identifier = 'song_name_1202'\n",
    "# song_title = find_key_by_value(identifier, song_identifiers)\n",
    "# print(\"노래 제목:\", song_title)\n",
    "\n",
    "def convert_sequence_to_titles(sequence, identifier_to_song):\n",
    "    song_titles = []\n",
    "    for seq in sequence:\n",
    "        \n",
    "        # 숫자 인덱스를 식별자 형태로 변환\n",
    "        identifier = f'song_name_{seq}'\n",
    "        \n",
    "        # 식별자를 노래 제목으로 변환\n",
    "        song_title = find_key_by_value(identifier, identifier_to_song)\n",
    "        song_titles.append(song_title)\n",
    "    return song_titles"
   ]
  },
  {
   "cell_type": "code",
   "execution_count": null,
   "metadata": {},
   "outputs": [],
   "source": []
  },
  {
   "cell_type": "code",
   "execution_count": null,
   "metadata": {},
   "outputs": [],
   "source": []
  },
  {
   "cell_type": "code",
   "execution_count": null,
   "metadata": {},
   "outputs": [],
   "source": []
  },
  {
   "cell_type": "code",
   "execution_count": null,
   "metadata": {},
   "outputs": [],
   "source": []
  },
  {
   "cell_type": "code",
   "execution_count": 43,
   "metadata": {},
   "outputs": [
    {
     "data": {
      "text/plain": [
       "array([261226,  10999,  11000,  11001,  11002,  11003,  11004,  11005,\n",
       "        11006, 261227])"
      ]
     },
     "execution_count": 43,
     "metadata": {},
     "output_type": "execute_result"
    }
   ],
   "source": [
    "song_sequences[2]"
   ]
  },
  {
   "cell_type": "code",
   "execution_count": 44,
   "metadata": {},
   "outputs": [
    {
     "data": {
      "text/plain": [
       "array([106, 100, 106,   0,   0,   0,   0,   0,   0,   0,   0,   0,   0,\n",
       "         0,   0,   0,   0,   0,   0,   0,   0,   0,   0,   0,   0])"
      ]
     },
     "execution_count": 44,
     "metadata": {},
     "output_type": "execute_result"
    }
   ],
   "source": [
    "playlist_sequences[0]"
   ]
  },
  {
   "cell_type": "code",
   "execution_count": 45,
   "metadata": {},
   "outputs": [
    {
     "data": {
      "text/plain": [
       "25"
      ]
     },
     "execution_count": 45,
     "metadata": {},
     "output_type": "execute_result"
    }
   ],
   "source": [
    "len(playlist_sequences[1])"
   ]
  },
  {
   "cell_type": "markdown",
   "metadata": {},
   "source": [
    "## target_targets : Teacher Forcing 데이터 생성"
   ]
  },
  {
   "cell_type": "code",
   "execution_count": 46,
   "metadata": {},
   "outputs": [],
   "source": [
    "# target_target 생성\n",
    "song_target_targets = []\n",
    "\n",
    "for seq in song_sequences:\n",
    "    # 각 시퀀스에서 첫 번째 요소 (SOS 토큰)를 제거합니다.\n",
    "    # 이미 EOS 토큰이 추가되어 있으므로, 별도로 추가할 필요가 없습니다.\n",
    "    target_target_seq = seq[1:]\n",
    "    \n",
    "    # NumPy 배열로 변환\n",
    "    target_target_np_array = np.array(target_target_seq, dtype=np.int32)\n",
    "    target_target_np_array = np.append(target_target_np_array, 0)\n",
    "    \n",
    "    # target_target 리스트에 추가\n",
    "    song_target_targets.append(target_target_np_array)\n",
    "\n",
    "# 이제 target_targets 리스트는 target_target 시퀀스를 담고 있습니다."
   ]
  },
  {
   "cell_type": "code",
   "execution_count": 47,
   "metadata": {},
   "outputs": [
    {
     "data": {
      "text/plain": [
       "array([261226,  11931,   2162,   6936,  51948,  82571,  47283,  82572,\n",
       "        64810, 261227])"
      ]
     },
     "execution_count": 47,
     "metadata": {},
     "output_type": "execute_result"
    }
   ],
   "source": [
    "song_sequences[0]"
   ]
  },
  {
   "cell_type": "code",
   "execution_count": 48,
   "metadata": {
    "scrolled": true
   },
   "outputs": [
    {
     "data": {
      "text/plain": [
       "array([ 11931,   2162,   6936,  51948,  82571,  47283,  82572,  64810,\n",
       "       261227,      0])"
      ]
     },
     "execution_count": 48,
     "metadata": {},
     "output_type": "execute_result"
    }
   ],
   "source": [
    "song_target_targets[0]"
   ]
  },
  {
   "cell_type": "code",
   "execution_count": 49,
   "metadata": {},
   "outputs": [
    {
     "data": {
      "text/plain": [
       "10"
      ]
     },
     "execution_count": 49,
     "metadata": {},
     "output_type": "execute_result"
    }
   ],
   "source": [
    "len(song_target_targets[3])"
   ]
  },
  {
   "cell_type": "markdown",
   "metadata": {
    "id": "YZoEbftNQ4dr"
   },
   "source": [
    "# 7.Concat, Other_input 전처리"
   ]
  },
  {
   "cell_type": "code",
   "execution_count": 50,
   "metadata": {},
   "outputs": [
    {
     "name": "stderr",
     "output_type": "stream",
     "text": [
      "100%|██████████████████████████████████████████████████████████████████████████| 30000/30000 [00:10<00:00, 2993.71it/s]\n"
     ]
    }
   ],
   "source": [
    "# 플레이리스트별 데이터 그룹화 및 시퀀스 생성\n",
    "artist_sequences = []\n",
    "album_sequences = []\n",
    "genre_sequences = []\n",
    "release_date_sequences = []\n",
    "\n",
    "# # [SOS]와 [EOS] 토큰의 인덱스 할당\n",
    "artist_sos_index = artist_tokenizer.word_index['<sos>']\n",
    "artist_eos_index = artist_tokenizer.word_index['<eos>']\n",
    "\n",
    "album_sos_index = album_tokenizer.word_index['<sos>']\n",
    "album_eos_index = album_tokenizer.word_index['<eos>']\n",
    "\n",
    "genre_sos_index = genre_tokenizer.word_index['<sos>']\n",
    "genre_eos_index = genre_tokenizer.word_index['<eos>']\n",
    "\n",
    "release_date_sos_index = release_date_tokenizer.word_index['<sos>']\n",
    "release_date_eos_index = release_date_tokenizer.word_index['<eos>']\n",
    "\n",
    "for name, group in tqdm(shuffled_grouped):\n",
    "    count += 1\n",
    "\n",
    "    # 각 플레이리스트의 아티스트, 앨범, 장르, 발매일을 하나의 문자열로 결합\n",
    "    combined_artist = ' '.join(group['artist_identifier'].tolist())\n",
    "    combined_album = ' '.join(group['album_identifier'].tolist())\n",
    "    combined_genre = ' '.join(group['genre_identifier'].tolist())\n",
    "    combined_release_date = ' '.join(group['release_date_identifier'].tolist())\n",
    "\n",
    "    # 결합된 정보를 하나의 시퀀스로 변환\n",
    "    artist_seq = np.array(artist_tokenizer.texts_to_sequences([combined_artist])[0], dtype=np.int32)\n",
    "    album_seq = np.array(album_tokenizer.texts_to_sequences([combined_album])[0], dtype=np.int32)\n",
    "    genre_seq = np.array(genre_tokenizer.texts_to_sequences([combined_genre])[0], dtype=np.int32)\n",
    "    release_date_seq = np.array(release_date_tokenizer.texts_to_sequences([combined_release_date])[0], dtype=np.int32)\n",
    "\n",
    "    # <sos> 토큰 추가\n",
    "    artist_seq_with_sos = np.concatenate([[artist_sos_index], artist_seq])\n",
    "    album_seq_with_sos = np.concatenate([[album_sos_index], album_seq])\n",
    "    genre_seq_with_sos = np.concatenate([[genre_sos_index], genre_seq])\n",
    "    release_date_seq_with_sos = np.concatenate([[release_date_sos_index], release_date_seq])\n",
    "\n",
    "    # 패딩 적용 및 <eos> 토큰 추가\n",
    "    for seq, eos_index in [(artist_seq_with_sos, artist_eos_index), \n",
    "                           (album_seq_with_sos, album_eos_index), \n",
    "                           (genre_seq_with_sos, genre_eos_index), \n",
    "                           (release_date_seq_with_sos, release_date_eos_index)]:\n",
    "        if len(seq) >= max_songs:\n",
    "            seq_padded = pad_sequences([seq], maxlen=(max_songs - 1), padding='post', truncating='post')[0]\n",
    "            seq_padded = np.append(seq_padded, eos_index)\n",
    "        else:\n",
    "            seq_with_eos = np.append(seq, eos_index)\n",
    "            seq_padded = pad_sequences([seq_with_eos], maxlen=max_songs, padding='post', truncating='post')[0]\n",
    "\n",
    "        # 결과 리스트에 추가\n",
    "        if seq is artist_seq_with_sos:\n",
    "            artist_sequences.append(seq_padded)\n",
    "        elif seq is album_seq_with_sos:\n",
    "            album_sequences.append(seq_padded)\n",
    "        elif seq is genre_seq_with_sos:\n",
    "            genre_sequences.append(seq_padded)\n",
    "        else:\n",
    "            release_date_sequences.append(seq_padded)"
   ]
  },
  {
   "cell_type": "code",
   "execution_count": 51,
   "metadata": {},
   "outputs": [
    {
     "data": {
      "text/plain": [
       "array([261226,  11931,   2162,   6936,  51948,  82571,  47283,  82572,\n",
       "        64810, 261227])"
      ]
     },
     "execution_count": 51,
     "metadata": {},
     "output_type": "execute_result"
    }
   ],
   "source": [
    "song_sequences[0]"
   ]
  },
  {
   "cell_type": "code",
   "execution_count": 52,
   "metadata": {},
   "outputs": [
    {
     "data": {
      "text/plain": [
       "array([64382,   795,   915,   412,  1608,  4056,  2220,   915,  1354,\n",
       "       64383])"
      ]
     },
     "execution_count": 52,
     "metadata": {},
     "output_type": "execute_result"
    }
   ],
   "source": [
    "artist_sequences[4]"
   ]
  },
  {
   "cell_type": "code",
   "execution_count": 53,
   "metadata": {},
   "outputs": [
    {
     "data": {
      "text/plain": [
       "array([56,  2,  9,  8,  5,  6,  2,  2,  2, 57])"
      ]
     },
     "execution_count": 53,
     "metadata": {},
     "output_type": "execute_result"
    }
   ],
   "source": [
    "release_date_sequences[2]"
   ]
  },
  {
   "cell_type": "code",
   "execution_count": null,
   "metadata": {},
   "outputs": [],
   "source": []
  },
  {
   "cell_type": "code",
   "execution_count": 54,
   "metadata": {},
   "outputs": [],
   "source": [
    "# target_target 생성\n",
    "artist_targets = []\n",
    "\n",
    "for seq in artist_sequences:\n",
    "    # 각 시퀀스에서 첫 번째 요소 (SOS 토큰)를 제거합니다.\n",
    "    # 이미 EOS 토큰이 추가되어 있으므로, 별도로 추가할 필요가 없습니다.\n",
    "    target_target_seq = seq[1:]\n",
    "    \n",
    "    # NumPy 배열로 변환\n",
    "    target_target_np_array = np.array(target_target_seq, dtype=np.int32)\n",
    "    target_target_np_array = np.append(target_target_np_array, 0)\n",
    "    \n",
    "    # target_target 리스트에 추가\n",
    "    artist_targets.append(target_target_np_array)\n",
    "\n",
    "# 이제 target_targets 리스트는 target_target 시퀀스를 담고 있습니다."
   ]
  },
  {
   "cell_type": "code",
   "execution_count": 55,
   "metadata": {},
   "outputs": [
    {
     "data": {
      "text/plain": [
       "array([64382,   353,   353,   353,  9783,  9783,  4769, 24091,  4769,\n",
       "       64383])"
      ]
     },
     "execution_count": 55,
     "metadata": {},
     "output_type": "execute_result"
    }
   ],
   "source": [
    "artist_sequences[0]"
   ]
  },
  {
   "cell_type": "code",
   "execution_count": 56,
   "metadata": {},
   "outputs": [
    {
     "data": {
      "text/plain": [
       "array([  353,   353,   353,  9783,  9783,  4769, 24091,  4769, 64383,\n",
       "           0])"
      ]
     },
     "execution_count": 56,
     "metadata": {},
     "output_type": "execute_result"
    }
   ],
   "source": [
    "artist_targets[0]"
   ]
  },
  {
   "cell_type": "code",
   "execution_count": 57,
   "metadata": {},
   "outputs": [],
   "source": [
    "# target_target 생성\n",
    "album_targets = []\n",
    "\n",
    "for seq in album_sequences:\n",
    "    # 각 시퀀스에서 첫 번째 요소 (SOS 토큰)를 제거합니다.\n",
    "    # 이미 EOS 토큰이 추가되어 있으므로, 별도로 추가할 필요가 없습니다.\n",
    "    target_target_seq = seq[1:]\n",
    "    \n",
    "    # NumPy 배열로 변환\n",
    "    target_target_np_array = np.array(target_target_seq, dtype=np.int32)\n",
    "    target_target_np_array = np.append(target_target_np_array, 0)\n",
    "    \n",
    "    # target_target 리스트에 추가\n",
    "    album_targets.append(target_target_np_array)\n",
    "\n",
    "# 이제 target_targets 리스트는 target_target 시퀀스를 담고 있습니다."
   ]
  },
  {
   "cell_type": "code",
   "execution_count": 58,
   "metadata": {},
   "outputs": [
    {
     "data": {
      "text/plain": [
       "array([167464,   3217,   1735,     99,  38616,  38616,  24412,  59200,\n",
       "        24408, 167465])"
      ]
     },
     "execution_count": 58,
     "metadata": {},
     "output_type": "execute_result"
    }
   ],
   "source": [
    "album_sequences[0]"
   ]
  },
  {
   "cell_type": "code",
   "execution_count": 59,
   "metadata": {},
   "outputs": [
    {
     "data": {
      "text/plain": [
       "array([  3217,   1735,     99,  38616,  38616,  24412,  59200,  24408,\n",
       "       167465,      0])"
      ]
     },
     "execution_count": 59,
     "metadata": {},
     "output_type": "execute_result"
    }
   ],
   "source": [
    "album_targets[0]"
   ]
  },
  {
   "cell_type": "code",
   "execution_count": 60,
   "metadata": {},
   "outputs": [],
   "source": [
    "# target_target 생성\n",
    "genre_targets = []\n",
    "\n",
    "for seq in genre_sequences:\n",
    "    # 각 시퀀스에서 첫 번째 요소 (SOS 토큰)를 제거합니다.\n",
    "    # 이미 EOS 토큰이 추가되어 있으므로, 별도로 추가할 필요가 없습니다.\n",
    "    target_target_seq = seq[1:]\n",
    "    \n",
    "    # NumPy 배열로 변환\n",
    "    target_target_np_array = np.array(target_target_seq, dtype=np.int32)\n",
    "    target_target_np_array = np.append(target_target_np_array, 0)\n",
    "    \n",
    "    # target_target 리스트에 추가\n",
    "    genre_targets.append(target_target_np_array)\n",
    "\n",
    "# 이제 target_targets 리스트는 target_target 시퀀스를 담고 있습니다."
   ]
  },
  {
   "cell_type": "code",
   "execution_count": 61,
   "metadata": {},
   "outputs": [
    {
     "data": {
      "text/plain": [
       "array([77,  3,  3,  3,  3,  3,  3,  1,  6, 78])"
      ]
     },
     "execution_count": 61,
     "metadata": {},
     "output_type": "execute_result"
    }
   ],
   "source": [
    "genre_sequences[0]"
   ]
  },
  {
   "cell_type": "code",
   "execution_count": 62,
   "metadata": {},
   "outputs": [
    {
     "data": {
      "text/plain": [
       "array([ 3,  3,  3,  3,  3,  3,  1,  6, 78,  0])"
      ]
     },
     "execution_count": 62,
     "metadata": {},
     "output_type": "execute_result"
    }
   ],
   "source": [
    "genre_targets[0]"
   ]
  },
  {
   "cell_type": "code",
   "execution_count": 63,
   "metadata": {},
   "outputs": [],
   "source": [
    "# target_target 생성\n",
    "release_date_targets = []\n",
    "\n",
    "for seq in release_date_sequences:\n",
    "    # 각 시퀀스에서 첫 번째 요소 (SOS 토큰)를 제거합니다.\n",
    "    # 이미 EOS 토큰이 추가되어 있으므로, 별도로 추가할 필요가 없습니다.\n",
    "    target_target_seq = seq[1:]\n",
    "    \n",
    "    # NumPy 배열로 변환\n",
    "    target_target_np_array = np.array(target_target_seq, dtype=np.int32)\n",
    "    target_target_np_array = np.append(target_target_np_array, 0)\n",
    "    \n",
    "    # target_target 리스트에 추가\n",
    "    release_date_targets.append(target_target_np_array)\n",
    "\n",
    "# 이제 target_targets 리스트는 target_target 시퀀스를 담고 있습니다."
   ]
  },
  {
   "cell_type": "code",
   "execution_count": 64,
   "metadata": {},
   "outputs": [
    {
     "data": {
      "text/plain": [
       "array([56, 22, 22, 22, 22, 22, 21, 10, 13, 57])"
      ]
     },
     "execution_count": 64,
     "metadata": {},
     "output_type": "execute_result"
    }
   ],
   "source": [
    "release_date_sequences[0]"
   ]
  },
  {
   "cell_type": "code",
   "execution_count": 65,
   "metadata": {},
   "outputs": [
    {
     "data": {
      "text/plain": [
       "array([22, 22, 22, 22, 22, 21, 10, 13, 57,  0])"
      ]
     },
     "execution_count": 65,
     "metadata": {},
     "output_type": "execute_result"
    }
   ],
   "source": [
    "release_date_targets[0]"
   ]
  },
  {
   "cell_type": "markdown",
   "metadata": {
    "id": "sfnXX6JWc5si"
   },
   "source": [
    "# 10.데이터저장하기"
   ]
  },
  {
   "cell_type": "code",
   "execution_count": 66,
   "metadata": {
    "colab": {
     "base_uri": "https://localhost:8080/"
    },
    "executionInfo": {
     "elapsed": 346,
     "status": "ok",
     "timestamp": 1700794934689,
     "user": {
      "displayName": "강동률",
      "userId": "17439952535664404139"
     },
     "user_tz": -540
    },
    "id": "dpeTo5W667-1",
    "outputId": "f5faf9bf-4a49-490a-c559-d5ce8d494741"
   },
   "outputs": [
    {
     "name": "stdout",
     "output_type": "stream",
     "text": [
      "<class 'list'>\n",
      "<class 'list'>\n",
      "<class 'list'>\n",
      "<class 'list'>\n",
      "<class 'list'>\n",
      "<class 'list'>\n",
      "<class 'list'>\n",
      "<class 'list'>\n",
      "<class 'list'>\n",
      "<class 'list'>\n"
     ]
    }
   ],
   "source": [
    "print(type(playlist_sequences))\n",
    "print(type(song_sequences))\n",
    "\n",
    "print(type(artist_sequences))\n",
    "print(type(album_sequences))\n",
    "print(type(genre_sequences))\n",
    "print(type(release_date_sequences))\n",
    "\n",
    "# print(type(lyrics_sequences))\n",
    "print(type(artist_targets))\n",
    "print(type(album_targets))\n",
    "print(type(genre_targets))\n",
    "print(type(release_date_targets))\n",
    "# print(type(audio_feature_sequences))"
   ]
  },
  {
   "cell_type": "code",
   "execution_count": 67,
   "metadata": {},
   "outputs": [
    {
     "data": {
      "text/plain": [
       "array([261226,  11931,   2162,   6936,  51948,  82571,  47283,  82572,\n",
       "        64810, 261227])"
      ]
     },
     "execution_count": 67,
     "metadata": {},
     "output_type": "execute_result"
    }
   ],
   "source": [
    "song_sequences[0]"
   ]
  },
  {
   "cell_type": "code",
   "execution_count": 68,
   "metadata": {},
   "outputs": [
    {
     "data": {
      "text/plain": [
       "array([ 11931,   2162,   6936,  51948,  82571,  47283,  82572,  64810,\n",
       "       261227,      0])"
      ]
     },
     "execution_count": 68,
     "metadata": {},
     "output_type": "execute_result"
    }
   ],
   "source": [
    "song_target_targets[0]"
   ]
  },
  {
   "cell_type": "code",
   "execution_count": 69,
   "metadata": {
    "colab": {
     "base_uri": "https://localhost:8080/"
    },
    "executionInfo": {
     "elapsed": 360,
     "status": "ok",
     "timestamp": 1700804622333,
     "user": {
      "displayName": "강동률",
      "userId": "17439952535664404139"
     },
     "user_tz": -540
    },
    "id": "SpGI2pz_2NOo",
    "outputId": "097881cf-083a-4565-a872-3c0092724b13"
   },
   "outputs": [],
   "source": [
    "playlist_sequences_np = np.array(playlist_sequences)\n",
    "\n",
    "song_sequences_np = np.array(song_sequences)\n",
    "artist_sequences_np = np.array(artist_sequences)\n",
    "album_sequences_np = np.array(album_sequences)\n",
    "genre_sequences_np = np.array(genre_sequences)\n",
    "release_date_sequences_np = np.array(release_date_sequences)\n",
    "\n",
    "song_targets_np = np.array(song_target_targets)\n",
    "artist_targets_np = np.array(artist_targets)\n",
    "album_targets_np = np.array(album_targets)\n",
    "genre_targets_np = np.array(genre_targets)\n",
    "release_date_targets_np = np.array(release_date_targets)\n",
    "\n",
    "# lyrics_sequences_np = np.array(lyrics_sequences)\n",
    "# audio_feature_sequences_np = np.array(audio_feature_sequences)"
   ]
  },
  {
   "cell_type": "code",
   "execution_count": 70,
   "metadata": {},
   "outputs": [
    {
     "name": "stdout",
     "output_type": "stream",
     "text": [
      "(30000, 25)\n",
      "(30000, 10)\n",
      "(30000, 10)\n",
      "(30000, 10)\n",
      "(30000, 10)\n",
      "(30000, 10)\n",
      "(30000, 10)\n",
      "(30000, 10)\n",
      "(30000, 10)\n",
      "(30000, 10)\n",
      "(30000, 10)\n"
     ]
    }
   ],
   "source": [
    "print((playlist_sequences_np.shape))\n",
    "\n",
    "print((song_sequences_np.shape))\n",
    "print((artist_sequences_np.shape))\n",
    "print((album_sequences_np.shape))\n",
    "print((genre_sequences_np.shape))\n",
    "print((release_date_sequences_np.shape))\n",
    "\n",
    "print((song_targets_np.shape))\n",
    "print((artist_targets_np.shape))\n",
    "print((album_targets_np.shape))\n",
    "print((genre_targets_np.shape))\n",
    "print((release_date_targets_np.shape))"
   ]
  },
  {
   "cell_type": "code",
   "execution_count": 71,
   "metadata": {},
   "outputs": [],
   "source": [
    "import numpy as np\n",
    "\n",
    "# playlist_sequences 저장\n",
    "np.save('playlist_title_input_9.npy', playlist_sequences_np)\n",
    "\n",
    "# song_sequences 저장\n",
    "np.save('song_inputs_9.npy', song_sequences_np)\n",
    "# artist_sequences 저장\n",
    "np.save('artist_input_9.npy', artist_sequences_np)\n",
    "# album_sequences 저장\n",
    "np.save('album_input_9.npy', album_sequences_np)\n",
    "# genre_sequences 저장\n",
    "np.save('genre_input_9.npy', genre_sequences_np)\n",
    "# release_date_sequences 저장\n",
    "np.save('release_date_input_9.npy', release_date_sequences_np)\n",
    "\n",
    "# target_targets 저장\n",
    "np.save('song_targets_9.npy', song_targets_np)\n",
    "np.save('artist_targets_9.npy', artist_targets_np)\n",
    "np.save('album_targets_9.npy', album_targets_np)\n",
    "np.save('genre_targets_9.npy', genre_targets_np)\n",
    "np.save('release_date_targets_9.npy', release_date_targets_np)\n",
    "\n",
    "# lyrics_sequences 저장\n",
    "# np.save('lyrics_input_9.npy', lyrics_sequences_np)\n",
    "# # audio_feature_sequences 저장\n",
    "# np.save('audio_features_input.npy', audio_feature_sequences_np)"
   ]
  },
  {
   "cell_type": "markdown",
   "metadata": {
    "id": "CQqCAYl_cxfk"
   },
   "source": [
    "# 11.하이퍼파라미터 설정"
   ]
  },
  {
   "cell_type": "code",
   "execution_count": 72,
   "metadata": {},
   "outputs": [
    {
     "name": "stdout",
     "output_type": "stream",
     "text": [
      "song_tokenizer : 261227\n",
      "artist_tokenizer : 64383\n",
      "album_tokenizer : 167465\n",
      "genre_tokenizer : 78\n",
      "release_date_tokenizer : 57\n"
     ]
    }
   ],
   "source": [
    "# 고유 식별자를 사용하여 토크나이저 피팅\n",
    "print('song_tokenizer :',len(song_tokenizer.word_index))\n",
    "print('artist_tokenizer :' , len(artist_tokenizer.word_index))\n",
    "print('album_tokenizer :' , len(album_tokenizer.word_index))\n",
    "print('genre_tokenizer :' , len(genre_tokenizer.word_index))\n",
    "print('release_date_tokenizer :' , len(release_date_tokenizer.word_index))"
   ]
  },
  {
   "cell_type": "code",
   "execution_count": 73,
   "metadata": {
    "id": "1s_nhppCV2UR"
   },
   "outputs": [],
   "source": [
    "playlist_vocab = playlist_title_tokenizer.vocab_size + 1\n",
    "# lyric_vocab = int(lyrics_max_token_value) + 1\n",
    "\n",
    "song_vocab = len(song_tokenizer.word_index) + 1\n",
    "artist_vocab = len(artist_tokenizer.word_index) + 1\n",
    "album_vocab = len(album_tokenizer.word_index) + 1\n",
    "genre_vocab = len(genre_tokenizer.word_index) + 1\n",
    "release_date_vocab = len(release_date_tokenizer.word_index) + 1"
   ]
  },
  {
   "cell_type": "code",
   "execution_count": 74,
   "metadata": {
    "colab": {
     "base_uri": "https://localhost:8080/"
    },
    "executionInfo": {
     "elapsed": 416,
     "status": "ok",
     "timestamp": 1700804148738,
     "user": {
      "displayName": "강동률",
      "userId": "17439952535664404139"
     },
     "user_tz": -540
    },
    "id": "Kv1pUI-gblTq",
    "outputId": "324b83c0-26bb-42e1-e747-0579987bca4c",
    "scrolled": false
   },
   "outputs": [
    {
     "name": "stdout",
     "output_type": "stream",
     "text": [
      "playlist_vocab : 119548\n",
      "\n",
      "\n",
      "song_vocab : 261228\n",
      "artist_vocab : 64384\n",
      "album_vocab : 167466\n",
      "genre_vocab : 79\n",
      "release_date_vocab : 58\n"
     ]
    }
   ],
   "source": [
    "print('playlist_vocab :', playlist_vocab)\n",
    "print(\"\\n\")\n",
    "print('song_vocab :', song_vocab)\n",
    "print('artist_vocab :', artist_vocab)\n",
    "print('album_vocab :', album_vocab)\n",
    "print('genre_vocab :', genre_vocab)\n",
    "print('release_date_vocab :', release_date_vocab)"
   ]
  },
  {
   "cell_type": "code",
   "execution_count": null,
   "metadata": {},
   "outputs": [],
   "source": []
  }
 ],
 "metadata": {
  "colab": {
   "authorship_tag": "ABX9TyOLqDwQflzLuqsJ15xW0HAe",
   "provenance": []
  },
  "kernelspec": {
   "display_name": "Python 3 (ipykernel)",
   "language": "python",
   "name": "python3"
  },
  "language_info": {
   "codemirror_mode": {
    "name": "ipython",
    "version": 3
   },
   "file_extension": ".py",
   "mimetype": "text/x-python",
   "name": "python",
   "nbconvert_exporter": "python",
   "pygments_lexer": "ipython3",
   "version": "3.11.5"
  }
 },
 "nbformat": 4,
 "nbformat_minor": 1
}
