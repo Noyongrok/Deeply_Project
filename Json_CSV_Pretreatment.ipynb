{
 "cells": [
  {
   "cell_type": "markdown",
   "id": "9054932e",
   "metadata": {},
   "source": [
    "## JSON 파일 로드 "
   ]
  },
  {
   "cell_type": "code",
   "execution_count": null,
   "id": "2933cf4b",
   "metadata": {},
   "outputs": [],
   "source": [
    "import os\n",
    "import json\n",
    "import re\n",
    "\n",
    "# 파일들을 합치는 함수\n",
    "def combine_and_save_json_files(directory, file_pattern, output_directory):\n",
    "    combined_data = {}  # 최종적으로 모든 데이터를 합칠 딕셔너리를 초기화합니다.\n",
    "    files = os.listdir(directory)  # 지정된 디렉토리 내의 파일 목록을 가져옵니다.\n",
    "    \n",
    "    # 파일 이름에서 숫자를 추출하여 정수로 변환하고 파일 목록을 정렬합니다.\n",
    "    files.sort(key=lambda f: int(re.search(r'(\\d+)', f).group(1)))\n",
    "    \n",
    "    # 정렬된 파일 목록을 순회하면서 각 파일을 처리합니다.\n",
    "    for filename in files:\n",
    "        if re.match(file_pattern, filename):\n",
    "            print(f\"Processing file: {filename}\")  # 현재 처리 중인 파일 이름을 출력합니다.\n",
    "            unique_identifier = re.search(r'(\\d+)', filename).group(1)  # 파일명에서 고유 식별 번호를 추출합니다.\n",
    "            file_path = os.path.join(directory, filename)  # 파일의 전체 경로를 구성합니다.\n",
    "            with open(file_path, 'r', encoding='utf-8') as file:  # 파일을 열고 JSON 데이터를 로드합니다.\n",
    "                playlist_data = json.load(file)\n",
    "            playlist_name = playlist_data['playlist_name']  # 플레이리스트 이름을 가져옵니다.\n",
    "            unique_playlist_name = f\"{playlist_name}_{unique_identifier}\"  # 고유한 플레이리스트 이름을 생성합니다.\n",
    "            combined_data[unique_playlist_name] = playlist_data  # 데이터를 딕셔너리에 추가합니다.\n",
    "\n",
    "    # 합쳐진 데이터를 JSON 파일로 저장합니다.\n",
    "    if not os.path.exists(output_directory):\n",
    "        os.makedirs(output_directory)  # 출력 디렉토리가 존재하지 않으면 생성합니다.\n",
    "    output_file = os.path.join(output_directory, 'combined_playlists.json')  # 출력 파일 경로를 설정합니다.\n",
    "    with open(output_file, 'w', encoding='utf-8') as file:  # 합쳐진 데이터를 파일에 씁니다.\n",
    "        json.dump(combined_data, file, ensure_ascii=False, indent=2)\n",
    "\n",
    "    return output_file  # 저장된 파일의 경로를 반환합니다.\n",
    "\n",
    "# 파일 패턴과 출력 파일 디렉토리를 정의합니다.\n",
    "source_directory = 'C:/Users/ngjok/Gwangju_Ai_school/Silgun_project/music_data/unge90000'\n",
    "file_pattern = r'playlist(\\d+).json'  # 처리할 파일의 패턴입니다.\n",
    "output_directory = 'C:/Users/ngjok/Gwangju_Ai_school/Silgun_project/music_data/sum'\n",
    "\n",
    "# 함수를 호출하여 파일들을 합치고 저장합니다.\n",
    "saved_file_path = combine_and_save_json_files(source_directory, file_pattern, output_directory)\n",
    "\n",
    "# 저장된 파일 경로를 출력합니다.\n",
    "print(f\"Combined playlists saved to {saved_file_path}\")\n",
    "\n",
    "\n"
   ]
  },
  {
   "cell_type": "markdown",
   "id": "39cf7ae0",
   "metadata": {},
   "source": [
    "## JSON 파일을 데이터 프레임으로 변환하는 함수\n",
    "- 이 함수는 JSON 파일의 경로를 입력 받아, 해당 파일을 pandas 데이터 프레임으로 로드합니다. `pd.read_json` 함수는 JSON 형식의 데이터를 읽어서 데이터 프레임으로 변환하는 데 사용됩니다. `orient='index'` 매개변수는 JSON 객체의 키를 데이터 프레임의 인덱스로 사용하도록 지정합니다."
   ]
  },
  {
   "cell_type": "code",
   "execution_count": 1,
   "id": "22b712d9",
   "metadata": {},
   "outputs": [],
   "source": [
    "def json_to_dataframe(json_file_path):\n",
    "    # JSON 파일을 데이터 프레임으로 로드합니다.\n",
    "    df = pd.read_json(json_file_path, orient='index')\n",
    "    return df"
   ]
  },
  {
   "cell_type": "markdown",
   "id": "25ee1b1c",
   "metadata": {},
   "source": [
    "## 데이터프레임을 CSV파일로 저장하는 함수 \n",
    "- 이 함수는 pandas 데이터 프레임 객체와 CSV 파일의 경로를 입력 받아, 데이터 프레임을 CSV 파일로 저장합니다. df.to_csv 함수는 데이터 프레임을 CSV 형식으로 변환하여 파일로 저장하는 데 사용됩니다. index=False 매개변수는 데이터 프레임의 인덱스를 파일에 포함하지 않도록 지정합니다."
   ]
  },
  {
   "cell_type": "code",
   "execution_count": 2,
   "id": "3e90edf2",
   "metadata": {},
   "outputs": [],
   "source": [
    "def dataframe_to_csv(df, csv_file_path):\n",
    "    # 데이터 프레임을 CSV 파일로 저장합니다.\n",
    "    df.to_csv(csv_file_path, index=False)"
   ]
  },
  {
   "cell_type": "markdown",
   "id": "dee4f599",
   "metadata": {},
   "source": [
    "## 메인 프로세스 \n",
    "- 아래의 코드는 전체 프로세스를 실행하는 부분입니다. 먼저 JSON 파일을 데이터 프레임으로 변환한 다음, 변환된 데이터 프레임을 CSV 파일로 저장합니다. 마지막으로 저장된 파일의 경로를 출력합니다."
   ]
  },
  {
   "cell_type": "code",
   "execution_count": 5,
   "id": "513df4dc",
   "metadata": {},
   "outputs": [
    {
     "name": "stdout",
     "output_type": "stream",
     "text": [
      "Dataframe saved as CSV to C:/Users/ngjok/Gwangju_Ai_school/Silgun_project/music_data/sum/FINAL/combined_playlists_90000.csv\n"
     ]
    }
   ],
   "source": [
    "import pandas as pd\n",
    "\n",
    "# JSON 파일의 경로\n",
    "json_file_path = 'C:/Users/ngjok/Gwangju_Ai_school/Silgun_project/music_data/sum/combined_playlists_90000.json'\n",
    "\n",
    "# CSV 파일의 저장 경로\n",
    "csv_file_path = 'C:/Users/ngjok/Gwangju_Ai_school/Silgun_project/music_data/sum/FINAL/combined_playlists_90000.csv'\n",
    "\n",
    "# JSON을 데이터 프레임으로 변환\n",
    "df = json_to_dataframe(json_file_path)\n",
    "\n",
    "# 데이터 프레임을 CSV로 저장\n",
    "dataframe_to_csv(df, csv_file_path)\n",
    "\n",
    "# 저장이 완료되면 경로를 출력합니다.\n",
    "print(f\"Dataframe saved as CSV to {csv_file_path}\")\n"
   ]
  },
  {
   "cell_type": "markdown",
   "id": "a56ed36e",
   "metadata": {},
   "source": [
    "### 저장한 CSV파일 불러와서 확인 "
   ]
  },
  {
   "cell_type": "code",
   "execution_count": 12,
   "id": "0fcfbfb9",
   "metadata": {},
   "outputs": [],
   "source": []
  },
  {
   "cell_type": "code",
   "execution_count": 3,
   "id": "2f221bb5",
   "metadata": {
    "scrolled": true
   },
   "outputs": [
    {
     "name": "stdout",
     "output_type": "stream",
     "text": [
      "                           playlist_name  \\\n",
      "0                   내 손을 꼭 쥐고 들려주는 인디 노래   \n",
      "1             RM 솔로 앨범 INDIGO 와 함께하는 뮤지션   \n",
      "2  [Mbti] 모두 나에게 주목! 텐션 높은 ENFP를 위한 KPOP   \n",
      "3                               추천가요 트롯트   \n",
      "4                          사랑을 머금은 감성발라드   \n",
      "\n",
      "                                           song_info  \n",
      "0  {'song_name': ['사랑이 너무 헤퍼', '가을밤에 든 생각', 'Some...  \n",
      "1  {'song_name': ['Window Seat', 'On & On', 'Gree...  \n",
      "2  {'song_name': ['비밀번호 486', '낭만고양이', '퀸카 (Queen...  \n",
      "3  {'song_name': ['머나먼 고향', '연상의 여인', '원점', '차표한장...  \n",
      "4  {'song_name': ['너의 번호를 누르고 (Prod. 영화처럼)', '밤하늘...  \n",
      "                  playlist_name  \\\n",
      "94603        따스한 햇살 아래 여유를 즐겨요!   \n",
      "94604         초여름을 특별하게 만들어줄 국힙   \n",
      "94605  사랑하는 연인과 함께 듣는다면 더 좋을 노래   \n",
      "94606       가을에 어울리는 센치한 감성의 노래   \n",
      "94607      내 손을 꼭 쥐고 들려주는 인디 노래   \n",
      "\n",
      "                                               song_info  \n",
      "94603  {'song_name': ['Symmetrical', 'Never Goes Away...  \n",
      "94604  {'song_name': ['Oscar', 'SUMMERIDE', 'Candy (F...  \n",
      "94605  {'song_name': ['이 밤, 꿈꾸는 듯한', '함께하자, 우리 (Feat....  \n",
      "94606  {'song_name': ['다시 사랑한다면 (니글니글 버터플라이)', '비밀의 화...  \n",
      "94607  {'song_name': ['사랑이 너무 헤퍼', '가을밤에 든 생각', 'Some...  \n"
     ]
    }
   ],
   "source": [
    "import pandas as pd\n",
    "\n",
    "# CSV 파일 경로\n",
    "csv_file_path = 'C:/Users/ngjok/Gwangju_Ai_school/Silgun_project/music_data/sum/FINAL/combined_playlists_90000.csv'\n",
    "\n",
    "# CSV 파일 로드\n",
    "df = pd.read_csv(csv_file_path)\n",
    "\n",
    "# 처음과 마지막 몇 줄을 출력하여 데이터 구조 확인\n",
    "print(df.head())  # 처음 5줄\n",
    "print(df.tail())  # 마지막 5줄\n"
   ]
  },
  {
   "cell_type": "code",
   "execution_count": 8,
   "id": "51b6a55c",
   "metadata": {},
   "outputs": [
    {
     "data": {
      "text/html": [
       "<div>\n",
       "<style scoped>\n",
       "    .dataframe tbody tr th:only-of-type {\n",
       "        vertical-align: middle;\n",
       "    }\n",
       "\n",
       "    .dataframe tbody tr th {\n",
       "        vertical-align: top;\n",
       "    }\n",
       "\n",
       "    .dataframe thead th {\n",
       "        text-align: right;\n",
       "    }\n",
       "</style>\n",
       "<table border=\"1\" class=\"dataframe\">\n",
       "  <thead>\n",
       "    <tr style=\"text-align: right;\">\n",
       "      <th></th>\n",
       "      <th>playlist_name</th>\n",
       "      <th>song_info</th>\n",
       "    </tr>\n",
       "  </thead>\n",
       "  <tbody>\n",
       "    <tr>\n",
       "      <th>0</th>\n",
       "      <td>내 손을 꼭 쥐고 들려주는 인디 노래</td>\n",
       "      <td>{'song_name': ['사랑이 너무 헤퍼', '가을밤에 든 생각', 'Some...</td>\n",
       "    </tr>\n",
       "    <tr>\n",
       "      <th>1</th>\n",
       "      <td>RM 솔로 앨범 INDIGO 와 함께하는 뮤지션</td>\n",
       "      <td>{'song_name': ['Window Seat', 'On &amp; On', 'Gree...</td>\n",
       "    </tr>\n",
       "    <tr>\n",
       "      <th>2</th>\n",
       "      <td>[Mbti] 모두 나에게 주목! 텐션 높은 ENFP를 위한 KPOP</td>\n",
       "      <td>{'song_name': ['비밀번호 486', '낭만고양이', '퀸카 (Queen...</td>\n",
       "    </tr>\n",
       "    <tr>\n",
       "      <th>3</th>\n",
       "      <td>추천가요 트롯트</td>\n",
       "      <td>{'song_name': ['머나먼 고향', '연상의 여인', '원점', '차표한장...</td>\n",
       "    </tr>\n",
       "    <tr>\n",
       "      <th>4</th>\n",
       "      <td>사랑을 머금은 감성발라드</td>\n",
       "      <td>{'song_name': ['너의 번호를 누르고 (Prod. 영화처럼)', '밤하늘...</td>\n",
       "    </tr>\n",
       "    <tr>\n",
       "      <th>...</th>\n",
       "      <td>...</td>\n",
       "      <td>...</td>\n",
       "    </tr>\n",
       "    <tr>\n",
       "      <th>94603</th>\n",
       "      <td>따스한 햇살 아래 여유를 즐겨요!</td>\n",
       "      <td>{'song_name': ['Symmetrical', 'Never Goes Away...</td>\n",
       "    </tr>\n",
       "    <tr>\n",
       "      <th>94604</th>\n",
       "      <td>초여름을 특별하게 만들어줄 국힙</td>\n",
       "      <td>{'song_name': ['Oscar', 'SUMMERIDE', 'Candy (F...</td>\n",
       "    </tr>\n",
       "    <tr>\n",
       "      <th>94605</th>\n",
       "      <td>사랑하는 연인과 함께 듣는다면 더 좋을 노래</td>\n",
       "      <td>{'song_name': ['이 밤, 꿈꾸는 듯한', '함께하자, 우리 (Feat....</td>\n",
       "    </tr>\n",
       "    <tr>\n",
       "      <th>94606</th>\n",
       "      <td>가을에 어울리는 센치한 감성의 노래</td>\n",
       "      <td>{'song_name': ['다시 사랑한다면 (니글니글 버터플라이)', '비밀의 화...</td>\n",
       "    </tr>\n",
       "    <tr>\n",
       "      <th>94607</th>\n",
       "      <td>내 손을 꼭 쥐고 들려주는 인디 노래</td>\n",
       "      <td>{'song_name': ['사랑이 너무 헤퍼', '가을밤에 든 생각', 'Some...</td>\n",
       "    </tr>\n",
       "  </tbody>\n",
       "</table>\n",
       "<p>94608 rows × 2 columns</p>\n",
       "</div>"
      ],
      "text/plain": [
       "                               playlist_name  \\\n",
       "0                       내 손을 꼭 쥐고 들려주는 인디 노래   \n",
       "1                 RM 솔로 앨범 INDIGO 와 함께하는 뮤지션   \n",
       "2      [Mbti] 모두 나에게 주목! 텐션 높은 ENFP를 위한 KPOP   \n",
       "3                                   추천가요 트롯트   \n",
       "4                              사랑을 머금은 감성발라드   \n",
       "...                                      ...   \n",
       "94603                     따스한 햇살 아래 여유를 즐겨요!   \n",
       "94604                      초여름을 특별하게 만들어줄 국힙   \n",
       "94605               사랑하는 연인과 함께 듣는다면 더 좋을 노래   \n",
       "94606                    가을에 어울리는 센치한 감성의 노래   \n",
       "94607                   내 손을 꼭 쥐고 들려주는 인디 노래   \n",
       "\n",
       "                                               song_info  \n",
       "0      {'song_name': ['사랑이 너무 헤퍼', '가을밤에 든 생각', 'Some...  \n",
       "1      {'song_name': ['Window Seat', 'On & On', 'Gree...  \n",
       "2      {'song_name': ['비밀번호 486', '낭만고양이', '퀸카 (Queen...  \n",
       "3      {'song_name': ['머나먼 고향', '연상의 여인', '원점', '차표한장...  \n",
       "4      {'song_name': ['너의 번호를 누르고 (Prod. 영화처럼)', '밤하늘...  \n",
       "...                                                  ...  \n",
       "94603  {'song_name': ['Symmetrical', 'Never Goes Away...  \n",
       "94604  {'song_name': ['Oscar', 'SUMMERIDE', 'Candy (F...  \n",
       "94605  {'song_name': ['이 밤, 꿈꾸는 듯한', '함께하자, 우리 (Feat....  \n",
       "94606  {'song_name': ['다시 사랑한다면 (니글니글 버터플라이)', '비밀의 화...  \n",
       "94607  {'song_name': ['사랑이 너무 헤퍼', '가을밤에 든 생각', 'Some...  \n",
       "\n",
       "[94608 rows x 2 columns]"
      ]
     },
     "execution_count": 8,
     "metadata": {},
     "output_type": "execute_result"
    }
   ],
   "source": [
    "df"
   ]
  },
  {
   "cell_type": "markdown",
   "id": "9efde830",
   "metadata": {},
   "source": [
    "#### 합친 CSV 파일 깔끔하게 정리(음원특성 데이터 들어올 것 생각해서)"
   ]
  },
  {
   "cell_type": "code",
   "execution_count": 11,
   "id": "256ff0d6",
   "metadata": {},
   "outputs": [
    {
     "name": "stdout",
     "output_type": "stream",
     "text": [
      "Processed chunk 0, saved to expanded_playlist_0_531926.csv\n",
      "Processed chunk 1, saved to expanded_playlist_10000_546747.csv\n",
      "Processed chunk 2, saved to expanded_playlist_20000_558588.csv\n",
      "Processed chunk 3, saved to expanded_playlist_30000_543460.csv\n",
      "Processed chunk 4, saved to expanded_playlist_40000_568198.csv\n",
      "Processed chunk 5, saved to expanded_playlist_50000_580326.csv\n",
      "Processed chunk 6, saved to expanded_playlist_60000_576247.csv\n",
      "Processed chunk 7, saved to expanded_playlist_70000_594191.csv\n",
      "Processed chunk 8, saved to expanded_playlist_80000_609443.csv\n",
      "Processed chunk 9, saved to expanded_playlist_90000_335940.csv\n"
     ]
    }
   ],
   "source": [
    "import pandas as pd\n",
    "from ast import literal_eval\n",
    "\n",
    "# CSV 파일 경로\n",
    "csv_file_path = 'C:/Users/ngjok/Gwangju_Ai_school/Silgun_project/music_data/sum/FINAL/combined_playlists_90000.csv'\n",
    "\n",
    "# CSV 파일 로드\n",
    "df = pd.read_csv(csv_file_path)\n",
    "\n",
    "# 분할 처리를 위한 청크 사이즈\n",
    "chunk_size = 10000  # 메모리 용량에 맞게 조정하세요\n",
    "\n",
    "# 청크 단위로 파일을 읽으며 각 청크를 처리\n",
    "for chunk_number, chunk in enumerate(pd.read_csv(csv_file_path, chunksize=chunk_size)):\n",
    "    # 'song_info' 컬럼의 문자열을 파이썬 객체로 변환\n",
    "    chunk['song_info'] = chunk['song_info'].apply(literal_eval)\n",
    "    \n",
    "    # 각 청크에서 'song_info'를 풀어낸 데이터프레임을 저장할 리스트\n",
    "    expanded_rows = []\n",
    "    \n",
    "    # 각 플레이리스트 항목에 대한 'song_info'를 풀어내서 리스트에 추가\n",
    "    for info in chunk['song_info']:\n",
    "         \n",
    "        expanded_rows.append(pd.DataFrame(info))\n",
    "    \n",
    "    # 펼쳐진 데이터프레임을 하나로 병합\n",
    "    expanded_df = pd.concat(expanded_rows, ignore_index=True)\n",
    "    \n",
    "    # 플레이리스트 이름을 추가\n",
    "    expanded_df['playlist_name'] = chunk['playlist_name'].repeat(expanded_df.shape[0] // chunk.shape[0]).reset_index(drop=True)\n",
    "    \n",
    "    # 결과 데이터프레임을 CSV 파일로 저장\n",
    "    file_name = f'expanded_playlist_{chunk_number * chunk_size}_{chunk_number * chunk_size + len(expanded_df)}.csv'\n",
    "    expanded_df.to_csv(file_name, index=False)\n",
    "    \n",
    "    print(f'Processed chunk {chunk_number}, saved to {file_name}')\n"
   ]
  },
  {
   "cell_type": "code",
   "execution_count": 12,
   "id": "4b7338c5",
   "metadata": {},
   "outputs": [
    {
     "name": "stderr",
     "output_type": "stream",
     "text": [
      "C:\\Users\\ngjok\\AppData\\Local\\Temp\\ipykernel_16900\\3932653310.py:11: DtypeWarning: Columns (6) have mixed types. Specify dtype option on import or set low_memory=False.\n",
      "  dataframes = [pd.read_csv(os.path.join(directory_path, file)) for file in csv_files]\n",
      "C:\\Users\\ngjok\\AppData\\Local\\Temp\\ipykernel_16900\\3932653310.py:11: DtypeWarning: Columns (6) have mixed types. Specify dtype option on import or set low_memory=False.\n",
      "  dataframes = [pd.read_csv(os.path.join(directory_path, file)) for file in csv_files]\n"
     ]
    },
    {
     "name": "stdout",
     "output_type": "stream",
     "text": [
      "Merged dataframe saved to C:/Users/ngjok/Gwangju_Ai_school/Silgun_project/code/Playlist\\merged_playlists.csv\n"
     ]
    }
   ],
   "source": [
    "import pandas as pd\n",
    "import os\n",
    "\n",
    "# 파일이 저장된 디렉토리 경로\n",
    "directory_path = 'C:/Users/ngjok/Gwangju_Ai_school/Silgun_project/code/Playlist'\n",
    "\n",
    "# 모든 CSV 파일을 리스트로 저장\n",
    "csv_files = [file for file in os.listdir(directory_path) if file.startswith('expanded_playlist_') and file.endswith('.csv')]\n",
    "\n",
    "# 각 CSV 파일을 데이터프레임으로 읽어들여 리스트에 저장\n",
    "dataframes = [pd.read_csv(os.path.join(directory_path, file)) for file in csv_files]\n",
    "\n",
    "# 모든 데이터프레임을 하나로 병합\n",
    "merged_dataframe = pd.concat(dataframes, ignore_index=True)\n",
    "\n",
    "# 병합된 데이터프레임을 CSV 파일로 저장\n",
    "merged_csv_path = os.path.join(directory_path, 'merged_playlists.csv')\n",
    "merged_dataframe.to_csv(merged_csv_path, index=False)\n",
    "\n",
    "print(f'Merged dataframe saved to {merged_csv_path}')\n"
   ]
  },
  {
   "cell_type": "code",
   "execution_count": 13,
   "id": "f88e2e68",
   "metadata": {},
   "outputs": [
    {
     "name": "stdout",
     "output_type": "stream",
     "text": [
      "Original dataframe shape: (4995066, 7)\n",
      "Dataframe shape after removing duplicates: (4971461, 7)\n"
     ]
    }
   ],
   "source": [
    "import pandas as pd\n",
    "\n",
    "# 병합된 CSV 파일 경로\n",
    "merged_csv_path = 'C:/Users/ngjok/Gwangju_Ai_school/Silgun_project/code/Playlist/merged_playlists.csv'\n",
    "\n",
    "# 병합된 CSV 파일 로드\n",
    "merged_df = pd.read_csv(merged_csv_path)\n",
    "\n",
    "# 중복된 행을 제거하기 전에 데이터프레임의 크기를 확인합니다.\n",
    "print(f'Original dataframe shape: {merged_df.shape}')\n",
    "\n",
    "# 모든 컬럼에 대해 중복된 행 제거\n",
    "merged_df.drop_duplicates(inplace=True)\n",
    "\n",
    "# 또는 특정 컬럼에 대해서만 중복 확인\n",
    "# merged_df.drop_duplicates(subset=['playlist_name', 'song_name', ...], inplace=True)\n",
    "\n",
    "# 중복 제거 후 데이터프레임의 크기를 확인합니다.\n",
    "print(f'Dataframe shape after removing duplicates: {merged_df.shape}')\n",
    "\n",
    "# 필요하다면, 중복을 제거한 데이터프레임을 다시 CSV 파일로 저장할 수 있습니다.\n",
    "merged_df.to_csv(merged_csv_path, index=False)\n"
   ]
  },
  {
   "cell_type": "code",
   "execution_count": 17,
   "id": "6ec427da",
   "metadata": {},
   "outputs": [
    {
     "data": {
      "text/html": [
       "<div>\n",
       "<style scoped>\n",
       "    .dataframe tbody tr th:only-of-type {\n",
       "        vertical-align: middle;\n",
       "    }\n",
       "\n",
       "    .dataframe tbody tr th {\n",
       "        vertical-align: top;\n",
       "    }\n",
       "\n",
       "    .dataframe thead th {\n",
       "        text-align: right;\n",
       "    }\n",
       "</style>\n",
       "<table border=\"1\" class=\"dataframe\">\n",
       "  <thead>\n",
       "    <tr style=\"text-align: right;\">\n",
       "      <th></th>\n",
       "      <th>song_name</th>\n",
       "      <th>artist</th>\n",
       "      <th>release_date</th>\n",
       "      <th>album</th>\n",
       "      <th>genre</th>\n",
       "      <th>lyric</th>\n",
       "      <th>playlist_name</th>\n",
       "    </tr>\n",
       "  </thead>\n",
       "  <tbody>\n",
       "    <tr>\n",
       "      <th>0</th>\n",
       "      <td>사랑이 너무 헤퍼</td>\n",
       "      <td>이강승</td>\n",
       "      <td>21.03.11</td>\n",
       "      <td>Korean Dream</td>\n",
       "      <td>인디음악</td>\n",
       "      <td>사랑이 너무 헤퍼서 그 말을 못 했네 말라붙은 입에 잘못은 아니고 스쳐진 옷깃에 우...</td>\n",
       "      <td>내 손을 꼭 쥐고 들려주는 인디 노래</td>\n",
       "    </tr>\n",
       "    <tr>\n",
       "      <th>1</th>\n",
       "      <td>가을밤에 든 생각</td>\n",
       "      <td>잔나비</td>\n",
       "      <td>20.11.06</td>\n",
       "      <td>잔나비 소곡집 l</td>\n",
       "      <td>록/메탈</td>\n",
       "      <td>머나먼 별빛 저 별에서도 노랠 부르는 사랑 살겠지 밤이면 오손도손 그리운 것들 모아...</td>\n",
       "      <td>내 손을 꼭 쥐고 들려주는 인디 노래</td>\n",
       "    </tr>\n",
       "    <tr>\n",
       "      <th>2</th>\n",
       "      <td>Something To Love</td>\n",
       "      <td>전기장판</td>\n",
       "      <td>19.09.09</td>\n",
       "      <td>Something To Love</td>\n",
       "      <td>인디음악</td>\n",
       "      <td>Something to love Something to love 모난 모서리가 아프...</td>\n",
       "      <td>내 손을 꼭 쥐고 들려주는 인디 노래</td>\n",
       "    </tr>\n",
       "    <tr>\n",
       "      <th>3</th>\n",
       "      <td>아침</td>\n",
       "      <td>이예린</td>\n",
       "      <td>21.01.19</td>\n",
       "      <td>먼 마음 2/2</td>\n",
       "      <td>포크/블루스</td>\n",
       "      <td>솔직하게 말할게요 자신이 없어요 잘하고 싶어도 잘 안됐어요 좋게 생각하려 해도 금세...</td>\n",
       "      <td>내 손을 꼭 쥐고 들려주는 인디 노래</td>\n",
       "    </tr>\n",
       "    <tr>\n",
       "      <th>4</th>\n",
       "      <td>아마도 우린</td>\n",
       "      <td>우효</td>\n",
       "      <td>15.10.07</td>\n",
       "      <td>어드벤처</td>\n",
       "      <td>일렉트로니카</td>\n",
       "      <td>아마도 우린 아마도 여기까진가 봐 아무리 아닌 척 해봐도 이렇게 우린 서로에게 아픈...</td>\n",
       "      <td>내 손을 꼭 쥐고 들려주는 인디 노래</td>\n",
       "    </tr>\n",
       "    <tr>\n",
       "      <th>...</th>\n",
       "      <td>...</td>\n",
       "      <td>...</td>\n",
       "      <td>...</td>\n",
       "      <td>...</td>\n",
       "      <td>...</td>\n",
       "      <td>...</td>\n",
       "      <td>...</td>\n",
       "    </tr>\n",
       "    <tr>\n",
       "      <th>4995058</th>\n",
       "      <td>서울 날씨</td>\n",
       "      <td>주윤하</td>\n",
       "      <td>19.06.26</td>\n",
       "      <td>서울 날씨</td>\n",
       "      <td>인디음악</td>\n",
       "      <td>서울 날씨는 어때 아직도 내 방안엔 너의 사진과 네가 준 선물들이 가득해 요즘 기분...</td>\n",
       "      <td>NaN</td>\n",
       "    </tr>\n",
       "    <tr>\n",
       "      <th>4995059</th>\n",
       "      <td>Blue Spring</td>\n",
       "      <td>짙은</td>\n",
       "      <td>21.04.19</td>\n",
       "      <td>Blue Spring</td>\n",
       "      <td>인디음악</td>\n",
       "      <td>푸름 화내보지도 못했고 부끄러워 숨어서 어디론가 사라지지도 못했어 봄 화려하지도 않...</td>\n",
       "      <td>NaN</td>\n",
       "    </tr>\n",
       "    <tr>\n",
       "      <th>4995060</th>\n",
       "      <td>우린 같은 곳에 앉아</td>\n",
       "      <td>이예린</td>\n",
       "      <td>21.01.19</td>\n",
       "      <td>먼 마음 2/2</td>\n",
       "      <td>포크/블루스</td>\n",
       "      <td>우린 같은 곳에 앉아 툭하면 웃었지 너의 근심 바람 함께 나눴지 좋은 것들을 더 보...</td>\n",
       "      <td>NaN</td>\n",
       "    </tr>\n",
       "    <tr>\n",
       "      <th>4995061</th>\n",
       "      <td>가을 핑계</td>\n",
       "      <td>안희수</td>\n",
       "      <td>20.10.19</td>\n",
       "      <td>가을 핑계</td>\n",
       "      <td>인디음악</td>\n",
       "      <td>무더운 여름 지나 다시 찾아온 가을 우리 추억을 담은 이 가을바람이 그렇게 밉지는 ...</td>\n",
       "      <td>NaN</td>\n",
       "    </tr>\n",
       "    <tr>\n",
       "      <th>4995064</th>\n",
       "      <td>0000.00.00</td>\n",
       "      <td>전기장판</td>\n",
       "      <td>18.11.29</td>\n",
       "      <td>화합</td>\n",
       "      <td>포크/블루스</td>\n",
       "      <td>서로에게 사랑이 되었다가 외로움이 되었다가 조금은 어설프게 그리고 또 아프게 그래서...</td>\n",
       "      <td>NaN</td>\n",
       "    </tr>\n",
       "  </tbody>\n",
       "</table>\n",
       "<p>4971461 rows × 7 columns</p>\n",
       "</div>"
      ],
      "text/plain": [
       "                 song_name artist release_date              album   genre  \\\n",
       "0                사랑이 너무 헤퍼    이강승     21.03.11       Korean Dream    인디음악   \n",
       "1                가을밤에 든 생각    잔나비     20.11.06          잔나비 소곡집 l    록/메탈   \n",
       "2        Something To Love   전기장판     19.09.09  Something To Love    인디음악   \n",
       "3                       아침    이예린     21.01.19           먼 마음 2/2  포크/블루스   \n",
       "4                   아마도 우린     우효     15.10.07               어드벤처  일렉트로니카   \n",
       "...                    ...    ...          ...                ...     ...   \n",
       "4995058              서울 날씨    주윤하     19.06.26              서울 날씨    인디음악   \n",
       "4995059        Blue Spring     짙은     21.04.19        Blue Spring    인디음악   \n",
       "4995060        우린 같은 곳에 앉아    이예린     21.01.19           먼 마음 2/2  포크/블루스   \n",
       "4995061              가을 핑계    안희수     20.10.19              가을 핑계    인디음악   \n",
       "4995064         0000.00.00   전기장판     18.11.29                 화합  포크/블루스   \n",
       "\n",
       "                                                     lyric  \\\n",
       "0        사랑이 너무 헤퍼서 그 말을 못 했네 말라붙은 입에 잘못은 아니고 스쳐진 옷깃에 우...   \n",
       "1        머나먼 별빛 저 별에서도 노랠 부르는 사랑 살겠지 밤이면 오손도손 그리운 것들 모아...   \n",
       "2        Something to love Something to love 모난 모서리가 아프...   \n",
       "3        솔직하게 말할게요 자신이 없어요 잘하고 싶어도 잘 안됐어요 좋게 생각하려 해도 금세...   \n",
       "4        아마도 우린 아마도 여기까진가 봐 아무리 아닌 척 해봐도 이렇게 우린 서로에게 아픈...   \n",
       "...                                                    ...   \n",
       "4995058  서울 날씨는 어때 아직도 내 방안엔 너의 사진과 네가 준 선물들이 가득해 요즘 기분...   \n",
       "4995059  푸름 화내보지도 못했고 부끄러워 숨어서 어디론가 사라지지도 못했어 봄 화려하지도 않...   \n",
       "4995060  우린 같은 곳에 앉아 툭하면 웃었지 너의 근심 바람 함께 나눴지 좋은 것들을 더 보...   \n",
       "4995061  무더운 여름 지나 다시 찾아온 가을 우리 추억을 담은 이 가을바람이 그렇게 밉지는 ...   \n",
       "4995064  서로에게 사랑이 되었다가 외로움이 되었다가 조금은 어설프게 그리고 또 아프게 그래서...   \n",
       "\n",
       "                playlist_name  \n",
       "0        내 손을 꼭 쥐고 들려주는 인디 노래  \n",
       "1        내 손을 꼭 쥐고 들려주는 인디 노래  \n",
       "2        내 손을 꼭 쥐고 들려주는 인디 노래  \n",
       "3        내 손을 꼭 쥐고 들려주는 인디 노래  \n",
       "4        내 손을 꼭 쥐고 들려주는 인디 노래  \n",
       "...                       ...  \n",
       "4995058                   NaN  \n",
       "4995059                   NaN  \n",
       "4995060                   NaN  \n",
       "4995061                   NaN  \n",
       "4995064                   NaN  \n",
       "\n",
       "[4971461 rows x 7 columns]"
      ]
     },
     "execution_count": 17,
     "metadata": {},
     "output_type": "execute_result"
    }
   ],
   "source": [
    "merged_df"
   ]
  },
  {
   "cell_type": "code",
   "execution_count": 16,
   "id": "2ce3098c",
   "metadata": {},
   "outputs": [
    {
     "data": {
      "text/plain": [
       "song_name        456277\n",
       "artist           102914\n",
       "release_date      12706\n",
       "album            269242\n",
       "genre                77\n",
       "lyric            322607\n",
       "playlist_name     93111\n",
       "dtype: int64"
      ]
     },
     "execution_count": 16,
     "metadata": {},
     "output_type": "execute_result"
    }
   ],
   "source": [
    "# 각 컬럼에서 유니크한 값들의 개수 계산\n",
    "unique_values = merged_df.nunique()\n",
    "\n",
    "# 각 컬럼의 유니크한 값들의 개수 출력\n",
    "unique_values\n"
   ]
  },
  {
   "cell_type": "code",
   "execution_count": 18,
   "id": "fe72c893",
   "metadata": {},
   "outputs": [
    {
     "name": "stdout",
     "output_type": "stream",
     "text": [
      "song_name           35\n",
      "artist               0\n",
      "release_date         0\n",
      "album               68\n",
      "genre                0\n",
      "lyric                0\n",
      "playlist_name    34251\n",
      "dtype: int64\n"
     ]
    }
   ],
   "source": [
    "# 각 컬럼별 결측치 개수 계산\n",
    "missing_values = merged_df.isnull().sum()\n",
    "\n",
    "# 각 컬럼별 결측치 개수 출력\n",
    "print(missing_values)\n"
   ]
  },
  {
   "cell_type": "code",
   "execution_count": 21,
   "id": "4268e4da",
   "metadata": {},
   "outputs": [
    {
     "name": "stdout",
     "output_type": "stream",
     "text": [
      "<class 'pandas.core.frame.DataFrame'>\n",
      "Int64Index: 4937210 entries, 0 to 4993349\n",
      "Data columns (total 7 columns):\n",
      " #   Column         Dtype \n",
      "---  ------         ----- \n",
      " 0   song_name      object\n",
      " 1   artist         object\n",
      " 2   release_date   object\n",
      " 3   album          object\n",
      " 4   genre          object\n",
      " 5   lyric          object\n",
      " 6   playlist_name  object\n",
      "dtypes: object(7)\n",
      "memory usage: 301.3+ MB\n",
      "None\n"
     ]
    }
   ],
   "source": [
    "# 'playlist_name' 컬럼에서 NaN 값을 가진 행을 삭제\n",
    "merged_df = merged_df.dropna(subset=['playlist_name'])\n",
    "\n",
    "# 결측치 제거 후 데이터프레임의 정보 출력\n",
    "print(merged_df.info())\n",
    "\n"
   ]
  },
  {
   "cell_type": "code",
   "execution_count": 22,
   "id": "05765b73",
   "metadata": {},
   "outputs": [
    {
     "data": {
      "text/plain": [
       "song_name        454127\n",
       "artist           102439\n",
       "release_date      12700\n",
       "album            267933\n",
       "genre                77\n",
       "lyric            321585\n",
       "playlist_name     93111\n",
       "dtype: int64"
      ]
     },
     "execution_count": 22,
     "metadata": {},
     "output_type": "execute_result"
    }
   ],
   "source": [
    "# 각 컬럼에서 유니크한 값들의 개수 계산\n",
    "unique_values = merged_df.nunique()\n",
    "\n",
    "# 각 컬럼의 유니크한 값들의 개수 출력\n",
    "unique_values\n"
   ]
  },
  {
   "cell_type": "code",
   "execution_count": 23,
   "id": "75b0ed9b",
   "metadata": {},
   "outputs": [
    {
     "name": "stdout",
     "output_type": "stream",
     "text": [
      "song_name        34\n",
      "artist            0\n",
      "release_date      0\n",
      "album            67\n",
      "genre             0\n",
      "lyric             0\n",
      "playlist_name     0\n",
      "dtype: int64\n"
     ]
    }
   ],
   "source": [
    "# 각 컬럼별 결측치 개수 계산\n",
    "missing_values = merged_df.isnull().sum()\n",
    "\n",
    "# 각 컬럼별 결측치 개수 출력\n",
    "print(missing_values)\n"
   ]
  },
  {
   "cell_type": "code",
   "execution_count": 24,
   "id": "66098467",
   "metadata": {},
   "outputs": [],
   "source": [
    "# 필요하다면, 변경 사항을 새로운 CSV 파일로 저장할 수 있습니다.\n",
    "merged_df.to_csv(merged_csv_path, index=False)"
   ]
  },
  {
   "cell_type": "code",
   "execution_count": 25,
   "id": "35c754fe",
   "metadata": {},
   "outputs": [
    {
     "name": "stdout",
     "output_type": "stream",
     "text": [
      "<class 'pandas.core.frame.DataFrame'>\n",
      "Int64Index: 4937142 entries, 0 to 4993349\n",
      "Data columns (total 7 columns):\n",
      " #   Column         Dtype \n",
      "---  ------         ----- \n",
      " 0   song_name      object\n",
      " 1   artist         object\n",
      " 2   release_date   object\n",
      " 3   album          object\n",
      " 4   genre          object\n",
      " 5   lyric          object\n",
      " 6   playlist_name  object\n",
      "dtypes: object(7)\n",
      "memory usage: 301.3+ MB\n",
      "None\n"
     ]
    }
   ],
   "source": [
    "# 'song_name'과 'album' 컬럼에서 결측치를 가진 행을 삭제\n",
    "merged_df = merged_df.dropna(subset=['song_name', 'album'])\n",
    "\n",
    "# 결측치 제거 후 데이터프레임의 정보 출력\n",
    "print(merged_df.info())\n",
    "\n",
    "# 변경 사항을 CSV 파일로 저장 (필요한 경우)\n",
    "merged_df.to_csv(merged_csv_path, index=False)\n"
   ]
  },
  {
   "cell_type": "code",
   "execution_count": 26,
   "id": "90df356e",
   "metadata": {},
   "outputs": [
    {
     "name": "stdout",
     "output_type": "stream",
     "text": [
      "song_name        0\n",
      "artist           0\n",
      "release_date     0\n",
      "album            0\n",
      "genre            0\n",
      "lyric            0\n",
      "playlist_name    0\n",
      "dtype: int64\n"
     ]
    }
   ],
   "source": [
    "# 각 컬럼별 결측치 개수 계산\n",
    "missing_values = merged_df.isnull().sum()\n",
    "\n",
    "# 각 컬럼별 결측치 개수 출력\n",
    "print(missing_values)\n"
   ]
  },
  {
   "cell_type": "code",
   "execution_count": null,
   "id": "a1f5035e",
   "metadata": {},
   "outputs": [],
   "source": []
  }
 ],
 "metadata": {
  "kernelspec": {
   "display_name": "Python 3 (ipykernel)",
   "language": "python",
   "name": "python3"
  },
  "language_info": {
   "codemirror_mode": {
    "name": "ipython",
    "version": 3
   },
   "file_extension": ".py",
   "mimetype": "text/x-python",
   "name": "python",
   "nbconvert_exporter": "python",
   "pygments_lexer": "ipython3",
   "version": "3.10.9"
  }
 },
 "nbformat": 4,
 "nbformat_minor": 5
}
