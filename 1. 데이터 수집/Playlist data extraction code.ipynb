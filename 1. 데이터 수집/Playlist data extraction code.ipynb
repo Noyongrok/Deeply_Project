{
 "cells": [
  {
   "cell_type": "code",
   "execution_count": 1,
   "id": "3e0db9c0",
   "metadata": {},
   "outputs": [],
   "source": [
    "from selenium import webdriver\n",
    "from selenium.webdriver.common.by import By\n",
    "from selenium.webdriver.support.ui import WebDriverWait\n",
    "from webdriver_manager.chrome import ChromeDriverManager\n",
    "from selenium.webdriver.support import expected_conditions as EC\n",
    "from selenium.webdriver.chrome.service import Service\n",
    "from bs4 import BeautifulSoup\n",
    "from selenium.common.exceptions import TimeoutException, NoSuchElementException, StaleElementReferenceException\n",
    "from selenium.webdriver.chrome.options import Options\n",
    "from selenium.webdriver.common.desired_capabilities import DesiredCapabilities\n",
    "import re\n",
    "import pandas as pd\n",
    "from pytube import Search\n",
    "import os\n",
    "from tqdm import tqdm\n",
    "import time\n",
    "import traceback\n",
    "import json\n",
    "from lxml import html\n",
    "import requests\n",
    "from bs4 import BeautifulSoup\n",
    "from urllib.parse import quote\n",
    "from concurrent.futures import ThreadPoolExecutor, as_completed\n",
    "from selenium.webdriver.common.proxy import Proxy, ProxyType\n",
    "from fake_useragent import UserAgent\n",
    "import random\n",
    "from selenium.webdriver.common.desired_capabilities import DesiredCapabilities\n",
    "from selenium.webdriver.chrome.options import Options\n",
    "from selenium.webdriver import ChromeOptions\n",
    "import pickle"
   ]
  },
  {
   "cell_type": "code",
   "execution_count": 2,
   "id": "e8c10649",
   "metadata": {},
   "outputs": [],
   "source": [
    "def url_append_song(seq, max_page, proxy=None):\n",
    "    div_list_song = []\n",
    "    max_elements = 50\n",
    "    headers = {\n",
    "        'User-Agent': 'Mozilla/5.0 (Windows NT 10.0; Win64; x64) AppleWebKit/537.36 (KHTML, like Gecko) Chrome/58.0.3029.110 Safari/537.36'\n",
    "    }\n",
    "\n",
    "    for page_number in range(1, max_page + 1):\n",
    "        start_index = (page_number - 1) * max_elements + 1\n",
    "        ajax_url = f\"https://www.melon.com/dj/playlist/djplaylist_listsong.htm?startIndex={start_index}&pageSize=50&plylstSeq={seq}\"\n",
    "        try:\n",
    "            response = requests.get(ajax_url, headers=headers, proxies=proxy)\n",
    "            if response.status_code == 200:\n",
    "                soup = BeautifulSoup(response.content, 'html.parser')\n",
    "                for i in range(1, max_elements + 1):\n",
    "                    selector = f'tr:nth-child({i}) > td:nth-child(4) > div > a'\n",
    "                    element = soup.select_one(selector)\n",
    "                    if element and element.has_attr('href'):\n",
    "                        js_code = element['href']\n",
    "                        match = re.search(r'(\\d+)\\D*$', js_code)\n",
    "                        if match:\n",
    "                            div_list_song.append(match.group(1))\n",
    "                    else:\n",
    "                        break\n",
    "            else:\n",
    "                print(f\"Failed to fetch AJAX URL: HTTP {response.status_code}\")\n",
    "                break  # 중요: HTTP 상태 코드가 200이 아닐 경우 루프를 중단합니다.\n",
    "\n",
    "        except Exception as e:\n",
    "            print(f\"Error during requests.get: {e} - URL: {ajax_url}\")\n",
    "            break  # 예외 발생 시 루프를 중단합니다.\n",
    "\n",
    "    return div_list_song\n",
    "\n",
    "\n",
    "\n",
    "\n",
    "def save_dictionary_to_json(data, file_path):\n",
    "    with open(file_path, 'w', encoding='utf-8') as file:\n",
    "        json.dump(data, file, ensure_ascii=False, indent=4)\n",
    "def red_text(text):\n",
    "    return f\"\\033[91m{text}\\033[0m\""
   ]
  },
  {
   "cell_type": "code",
   "execution_count": 3,
   "id": "13c15305",
   "metadata": {},
   "outputs": [],
   "source": [
    "\n",
    "\n",
    "def extract_lyric(soup):\n",
    "    lyrics_div = soup.find('div', {'id': 'd_video_summary'})\n",
    "    if lyrics_div:\n",
    "        lyrics = lyrics_div.get_text(separator='\\n').strip()\n",
    "        lyrics = lyrics.replace('\\n', ' ').strip()  # 줄바꿈을 공백으로 치환\n",
    "        lyrics = re.sub(r'\\s+', ' ', lyrics)        # 연속된 공백을 하나의 공백으로 치환\n",
    "        return lyrics\n",
    "    else:\n",
    "        return \"아직 가사가 등록되지 않았습니다.\"\n",
    "\n",
    "\n",
    "\n",
    "import re\n",
    "\n",
    "def extract_song_name(soup):\n",
    "    try:\n",
    "        song_name_element = soup.select_one('div.entry > div.info > div.song_name')\n",
    "        if song_name_element:\n",
    "            song_name = song_name_element.get_text()\n",
    "            # 줄바꿈과 탭을 공백으로 치환\n",
    "            song_name = song_name.replace('\\n', ' ').replace('\\t', ' ')\n",
    "            # 연속된 공백을 한 개의 공백으로 치환\n",
    "            clean_song_name = re.sub(r'\\s+', ' ', song_name).strip()\n",
    "            clean_song_name = clean_song_name[3:]\n",
    "            return clean_song_name\n",
    "        else:\n",
    "            return \"Unknown\"\n",
    "    except Exception as e:\n",
    "        print(f\"Error extracting song name: {e}\")\n",
    "        return \"Unknown\"\n",
    "\n",
    "\n",
    "\n",
    "def extract_other_data(soup):\n",
    "    extracted_data = {}\n",
    "\n",
    "    # 아티스트 추출\n",
    "    artist_element = soup.select_one(\"div.info > div.artist > a > span:nth-child(1)\")\n",
    "    extracted_data['artist'] = artist_element.get_text().strip() if artist_element else \"Unknown\"\n",
    "\n",
    "    # 발매일 추출\n",
    "    release_date_element = soup.select_one(\"div.meta > dl > dd:nth-child(4)\")\n",
    "    extracted_data['release_date'] = release_date_element.get_text().strip() if release_date_element else \"Unknown\"\n",
    "\n",
    "    # 앨범 추출\n",
    "    album_element = soup.select_one(\"div.meta > dl > dd:nth-child(2) > a\")\n",
    "    extracted_data['album'] = album_element.get_text().strip() if album_element else \"Unknown\"\n",
    "\n",
    "    # 장르 추출\n",
    "    genre_element = soup.select_one(\"div.meta > dl > dd:nth-child(6)\")\n",
    "    extracted_data['genre'] = genre_element.get_text().strip() if genre_element else \"Unknown\"\n",
    "\n",
    "    return extracted_data\n",
    "\n",
    "\n",
    "def extract_texts(url, proxy=None):\n",
    "    data_dict = {\n",
    "        'song_name': \"Unknown\",\n",
    "        'artist': \"Unknown\",\n",
    "        'release_date': \"Unknown\",\n",
    "        'album': \"Unknown\",\n",
    "        'lyric': \"아직 가사가 등록되지 않았습니다.\",\n",
    "        'genre': \"Unknown\"\n",
    "    }\n",
    "\n",
    "    headers = {\n",
    "        'User-Agent': 'Mozilla/5.0 (Windows NT 10.0; Win64; x64) AppleWebKit/537.36 (KHTML, like Gecko) Chrome/58.0.3029.110 Safari/537.36'\n",
    "    }\n",
    "\n",
    "    try:\n",
    "        response = requests.get(url, headers=headers, proxies=proxy)\n",
    "        if response.status_code == 200:\n",
    "            soup = BeautifulSoup(response.content, 'html.parser')\n",
    "\n",
    "            # 곡 제목 추출\n",
    "            data_dict['song_name'] = extract_song_name(soup)\n",
    "\n",
    "            # 기타 데이터 (아티스트, 발매일, 앨범, 장르) 추출\n",
    "            other_data = extract_other_data(soup)\n",
    "            data_dict.update(other_data)\n",
    "\n",
    "            # 가사 추출\n",
    "            data_dict['lyric'] = extract_lyric(soup)\n",
    "        else:\n",
    "            print(f\"Failed to retrieve webpage: HTTP {response.status_code}\")\n",
    "\n",
    "    except Exception as e:\n",
    "        print(f\"An error occurred in extract_texts for URL: {url} - {e}\")\n",
    "\n",
    "    return data_dict\n",
    "\n",
    "\n"
   ]
  },
  {
   "cell_type": "code",
   "execution_count": 4,
   "id": "ce19c561",
   "metadata": {},
   "outputs": [],
   "source": [
    "selectors = {\n",
    "    'artist': \"div.info > div.artist > a > span:nth-child(1)\",\n",
    "    'release_date': \"div.meta > dl > dd:nth-child(4)\",\n",
    "    'album': \"div.meta > dl > dd:nth-child(2) > a\",\n",
    "    'genre': \"div.meta > dl > dd:nth-child(6)\"  # 장르에 대한 선택자를 추가\n",
    "}\n",
    "def get_song_info(div_list, proxy):\n",
    "    combined_dict = {\n",
    "        'song_name': [],\n",
    "        'artist': [],\n",
    "        'release_date': [],\n",
    "        'album': [],\n",
    "        'genre': [],\n",
    "        'lyric': []\n",
    "    }\n",
    "\n",
    "    for div in div_list:\n",
    "        song_info = extract_texts(url=f'https://www.melon.com/song/detail.htm?songId={div}', proxy = proxy)\n",
    "\n",
    "        for key in combined_dict:\n",
    "            combined_dict[key].append(song_info[key])\n",
    "\n",
    "    return combined_dict"
   ]
  },
  {
   "cell_type": "code",
   "execution_count": 5,
   "id": "5a001df2",
   "metadata": {},
   "outputs": [],
   "source": [
    "def create_playlist_dictionary(playlist_seq, proxy=None):\n",
    "    playlist_url = f'https://www.melon.com/mymusic/dj/mymusicdjplaylistview_inform.htm?plylstSeq={playlist_seq}'\n",
    "    print(f'Extracting on {playlist_seq}' )\n",
    "    headers = {\n",
    "        'User-Agent': 'Mozilla/5.0 (Windows NT 10.0; Win64; x64) AppleWebKit/537.36 (KHTML, like Gecko) Chrome/84.0.4147.105 Safari/537.36',\n",
    "        'Accept': 'text/html,application/xhtml+xml,application/xml;q=0.9,image/webp,image/apng,*/*;q=0.8,application/signed-exchange;v=b3;q=0.9',\n",
    "        'Accept-Language': 'en-US,en;q=0.9',\n",
    "        'Accept-Encoding': 'gzip, deflate, br',\n",
    "    }\n",
    "    try:\n",
    "        response = requests.get(playlist_url, headers=headers, proxies=proxy, timeout=10)\n",
    "        if response.status_code == 200:\n",
    "            soup = BeautifulSoup(response.content, 'html.parser')\n",
    "            playlist_name_element = soup.select_one('#conts > div.section_info.d_djcol_list > div > div.entry > div.info > div.ellipsis.song_name')\n",
    "            playlist_name = playlist_name_element.text if playlist_name_element else 'Unknown'\n",
    "            playlist_name = playlist_name.replace('\\n', '').replace('\\t', '').strip()\n",
    "            \n",
    "            total_elements_element = soup.select_one('#conts > div.section_contin > div.page_header > h5 > span.sum')\n",
    "            total_elements_text = total_elements_element.text if total_elements_element else '0'\n",
    "            total_elements = int(re.search(r'\\((\\d+)\\)', total_elements_text).group(1)) if '(' in total_elements_text else 0\n",
    "            max_page = (total_elements + 49) // 50\n",
    "            \n",
    "            song_info = get_song_info(url_append_song(playlist_seq, max_page, proxy), proxy)\n",
    "            if song_info is None or not song_info:  # song_info가 None이거나 비어있는 경우\n",
    "                print(f\"Failed to get songs for playlist {playlist_seq}\")\n",
    "                return {'playlist_name': 'Unknown', 'song_info': []}\n",
    "            return {\n",
    "                'playlist_name': playlist_name,\n",
    "                'song_info': song_info\n",
    "            }\n",
    "        else:\n",
    "            print(f\"Failed to retrieve webpage: HTTP {response.status_code}\")\n",
    "            return {'playlist_name': 'Unknown', 'song_info': []}\n",
    "    except Exception as e:\n",
    "        print(f\"An error occurred in create_playlist_dictionary: {e}\")\n",
    "        return {'playlist_name': 'Unknown', 'song_info': []}\n",
    "\n"
   ]
  },
  {
   "cell_type": "code",
   "execution_count": null,
   "id": "85a40e3a",
   "metadata": {},
   "outputs": [],
   "source": []
  },
  {
   "cell_type": "code",
   "execution_count": 6,
   "id": "5f55bb43",
   "metadata": {},
   "outputs": [],
   "source": [
    "def parse_proxy_string(proxy_string):\n",
    "    proxy_list = []\n",
    "    for line in proxy_string.splitlines():\n",
    "        if line.strip():\n",
    "            ip, port = line.split(':')\n",
    "            proxy_list.append(f\"http://{ip}:{port}\")\n",
    "    return proxy_list"
   ]
  },
  {
   "cell_type": "code",
   "execution_count": 7,
   "id": "9b29a259",
   "metadata": {},
   "outputs": [],
   "source": [
    "\n",
    "def process_playlist(div, index, path_to_save, proxy):\n",
    "    playlist_dict = create_playlist_dictionary(div)\n",
    "    json_filename = f'playlist{index}.json'\n",
    "    json_filepath = os.path.join(path_to_save, json_filename)\n",
    "    save_dictionary_to_json(playlist_dict, json_filepath)\n",
    "\n",
    "\n",
    "# 저장할 경로 설정\n",
    "path_to_save = 'C:\\\\Temp\\\\unge'\n",
    "\n",
    "# 각 스레드에서 실행될 함수\n",
    "def process_with_proxy(proxy, href, index, path_to_save):\n",
    "    try:\n",
    "        process_playlist(href, index, path_to_save, proxy)\n",
    "    except Exception as e:\n",
    "        print(f\"An error occurred in process_with_proxy: {e}\")\n",
    "\n",
    "\n",
    "def process_playlist_safe(href, index, path_to_save):\n",
    "    try:\n",
    "        proxy_index = index % len(combined_proxy_list)\n",
    "        proxy = combined_proxy_list[proxy_index]\n",
    "        proxy_config = {'http': proxy, 'https': proxy}\n",
    "        process_with_proxy(proxy_config, href, index, path_to_save)\n",
    "    except Exception as e:\n",
    "        print(f\"An error occurred in process_playlist_safe: {e}\")\n"
   ]
  },
  {
   "cell_type": "code",
   "execution_count": null,
   "id": "ce5a5872",
   "metadata": {
    "scrolled": true
   },
   "outputs": [
    {
     "name": "stdout",
     "output_type": "stream",
     "text": [
      "165438\n",
      "Extracting on 496712391\n",
      "Extracting on 481919862\n",
      "Extracting on 423155202\n",
      "Extracting on 101640392\n",
      "Extracting on 489878864\n",
      "Extracting on 473724566\n",
      "Extracting on 400725248\n",
      "Extracting on 437468365\n"
     ]
    },
    {
     "name": "stderr",
     "output_type": "stream",
     "text": [
      "Processing playlists:   0%|                                                     | 1/165438 [00:07<325:50:49,  7.09s/it]"
     ]
    },
    {
     "name": "stdout",
     "output_type": "stream",
     "text": [
      "Extracting on 101617392\n"
     ]
    },
    {
     "name": "stderr",
     "output_type": "stream",
     "text": [
      "\r",
      "Processing playlists:   0%|                                                     | 2/165438 [00:12<289:40:04,  6.30s/it]"
     ]
    },
    {
     "name": "stdout",
     "output_type": "stream",
     "text": [
      "Extracting on 437356973\n"
     ]
    },
    {
     "name": "stderr",
     "output_type": "stream",
     "text": [
      "\r",
      "Processing playlists:   0%|                                                     | 3/165438 [00:20<321:14:02,  6.99s/it]"
     ]
    },
    {
     "name": "stdout",
     "output_type": "stream",
     "text": [
      "Extracting on 407314240\n"
     ]
    },
    {
     "name": "stderr",
     "output_type": "stream",
     "text": [
      "\r",
      "Processing playlists:   0%|                                                     | 4/165438 [00:26<302:02:27,  6.57s/it]"
     ]
    },
    {
     "name": "stdout",
     "output_type": "stream",
     "text": [
      "Extracting on 403942447\n"
     ]
    },
    {
     "name": "stderr",
     "output_type": "stream",
     "text": [
      "\r",
      "Processing playlists:   0%|                                                     | 5/165438 [00:28<229:41:09,  5.00s/it]"
     ]
    },
    {
     "name": "stdout",
     "output_type": "stream",
     "text": [
      "Extracting on 408851622\n"
     ]
    },
    {
     "name": "stderr",
     "output_type": "stream",
     "text": [
      "\r",
      "Processing playlists:   0%|                                                     | 6/165438 [00:38<297:37:58,  6.48s/it]"
     ]
    },
    {
     "name": "stdout",
     "output_type": "stream",
     "text": [
      "Extracting on 528379679\n"
     ]
    },
    {
     "name": "stderr",
     "output_type": "stream",
     "text": [
      "\r",
      "Processing playlists:   0%|                                                     | 7/165438 [00:42<260:10:44,  5.66s/it]"
     ]
    },
    {
     "name": "stdout",
     "output_type": "stream",
     "text": [
      "Extracting on 477556837\n"
     ]
    },
    {
     "name": "stderr",
     "output_type": "stream",
     "text": [
      "\r",
      "Processing playlists:   0%|                                                     | 8/165438 [00:47<254:05:48,  5.53s/it]"
     ]
    },
    {
     "name": "stdout",
     "output_type": "stream",
     "text": [
      "Extracting on 442590860\n"
     ]
    },
    {
     "name": "stderr",
     "output_type": "stream",
     "text": [
      "\r",
      "Processing playlists:   0%|                                                     | 9/165438 [00:49<198:20:27,  4.32s/it]"
     ]
    },
    {
     "name": "stdout",
     "output_type": "stream",
     "text": [
      "Extracting on 466580421\n"
     ]
    },
    {
     "name": "stderr",
     "output_type": "stream",
     "text": [
      "\r",
      "Processing playlists:   0%|                                                    | 10/165438 [00:55<224:47:08,  4.89s/it]"
     ]
    },
    {
     "name": "stdout",
     "output_type": "stream",
     "text": [
      "Extracting on 485581388\n"
     ]
    },
    {
     "name": "stderr",
     "output_type": "stream",
     "text": [
      "\r",
      "Processing playlists:   0%|                                                    | 11/165438 [00:55<165:19:45,  3.60s/it]"
     ]
    },
    {
     "name": "stdout",
     "output_type": "stream",
     "text": [
      "Extracting on 441687608\n"
     ]
    },
    {
     "name": "stderr",
     "output_type": "stream",
     "text": [
      "\r",
      "Processing playlists:   0%|                                                    | 12/165438 [01:04<236:57:28,  5.16s/it]"
     ]
    },
    {
     "name": "stdout",
     "output_type": "stream",
     "text": [
      "Extracting on 101565978\n"
     ]
    },
    {
     "name": "stderr",
     "output_type": "stream",
     "text": [
      "\r",
      "Processing playlists:   0%|                                                    | 13/165438 [01:17<348:50:18,  7.59s/it]"
     ]
    },
    {
     "name": "stdout",
     "output_type": "stream",
     "text": [
      "Extracting on 514450511\n"
     ]
    },
    {
     "name": "stderr",
     "output_type": "stream",
     "text": [
      "\r",
      "Processing playlists:   0%|                                                    | 14/165438 [01:20<283:55:29,  6.18s/it]"
     ]
    },
    {
     "name": "stdout",
     "output_type": "stream",
     "text": [
      "Extracting on 523676548\n"
     ]
    },
    {
     "name": "stderr",
     "output_type": "stream",
     "text": [
      "\r",
      "Processing playlists:   0%|                                                    | 15/165438 [01:24<254:03:40,  5.53s/it]"
     ]
    },
    {
     "name": "stdout",
     "output_type": "stream",
     "text": [
      "Extracting on 478320922\n"
     ]
    },
    {
     "name": "stderr",
     "output_type": "stream",
     "text": [
      "\r",
      "Processing playlists:   0%|                                                    | 16/165438 [01:37<351:04:09,  7.64s/it]"
     ]
    },
    {
     "name": "stdout",
     "output_type": "stream",
     "text": [
      "Extracting on 527539787\n"
     ]
    },
    {
     "name": "stderr",
     "output_type": "stream",
     "text": [
      "\r",
      "Processing playlists:   0%|                                                    | 17/165438 [01:37<251:11:43,  5.47s/it]"
     ]
    },
    {
     "name": "stdout",
     "output_type": "stream",
     "text": [
      "Extracting on 480480119\n"
     ]
    },
    {
     "name": "stderr",
     "output_type": "stream",
     "text": [
      "\r",
      "Processing playlists:   0%|                                                    | 18/165438 [01:38<192:46:08,  4.20s/it]"
     ]
    },
    {
     "name": "stdout",
     "output_type": "stream",
     "text": [
      "Extracting on 494896790\n"
     ]
    },
    {
     "name": "stderr",
     "output_type": "stream",
     "text": [
      "\r",
      "Processing playlists:   0%|                                                    | 19/165438 [01:42<188:47:20,  4.11s/it]"
     ]
    },
    {
     "name": "stdout",
     "output_type": "stream",
     "text": [
      "Extracting on 524572752\n"
     ]
    },
    {
     "name": "stderr",
     "output_type": "stream",
     "text": [
      "\r",
      "Processing playlists:   0%|                                                    | 20/165438 [02:07<472:45:41, 10.29s/it]"
     ]
    },
    {
     "name": "stdout",
     "output_type": "stream",
     "text": [
      "Extracting on 421541621\n"
     ]
    },
    {
     "name": "stderr",
     "output_type": "stream",
     "text": [
      "\r",
      "Processing playlists:   0%|                                                    | 21/165438 [02:10<374:06:53,  8.14s/it]"
     ]
    },
    {
     "name": "stdout",
     "output_type": "stream",
     "text": [
      "Extracting on 469001044\n"
     ]
    },
    {
     "name": "stderr",
     "output_type": "stream",
     "text": [
      "\r",
      "Processing playlists:   0%|                                                    | 22/165438 [02:11<275:10:22,  5.99s/it]"
     ]
    },
    {
     "name": "stdout",
     "output_type": "stream",
     "text": [
      "Extracting on 505856648\n"
     ]
    },
    {
     "name": "stderr",
     "output_type": "stream",
     "text": [
      "\r",
      "Processing playlists:   0%|                                                    | 23/165438 [02:12<203:12:11,  4.42s/it]"
     ]
    },
    {
     "name": "stdout",
     "output_type": "stream",
     "text": [
      "Extracting on 415481770\n"
     ]
    },
    {
     "name": "stderr",
     "output_type": "stream",
     "text": [
      "\r",
      "Processing playlists:   0%|                                                    | 24/165438 [02:25<326:22:28,  7.10s/it]"
     ]
    },
    {
     "name": "stdout",
     "output_type": "stream",
     "text": [
      "Extracting on 522269245\n"
     ]
    },
    {
     "name": "stderr",
     "output_type": "stream",
     "text": [
      "\r",
      "Processing playlists:   0%|                                                    | 25/165438 [02:27<252:10:45,  5.49s/it]"
     ]
    },
    {
     "name": "stdout",
     "output_type": "stream",
     "text": [
      "Extracting on 521109571\n"
     ]
    },
    {
     "name": "stderr",
     "output_type": "stream",
     "text": [
      "\r",
      "Processing playlists:   0%|                                                    | 26/165438 [02:33<253:18:33,  5.51s/it]"
     ]
    },
    {
     "name": "stdout",
     "output_type": "stream",
     "text": [
      "Extracting on 485528321\n",
      "Extracting on 100076388\n"
     ]
    },
    {
     "name": "stderr",
     "output_type": "stream",
     "text": [
      "\r",
      "Processing playlists:   0%|                                                    | 28/165438 [02:34<152:55:28,  3.33s/it]"
     ]
    },
    {
     "name": "stdout",
     "output_type": "stream",
     "text": [
      "Extracting on 460610894\n"
     ]
    },
    {
     "name": "stderr",
     "output_type": "stream",
     "text": [
      "\r",
      "Processing playlists:   0%|                                                    | 29/165438 [02:54<337:56:57,  7.36s/it]"
     ]
    },
    {
     "name": "stdout",
     "output_type": "stream",
     "text": [
      "Extracting on 521038085\n"
     ]
    },
    {
     "name": "stderr",
     "output_type": "stream",
     "text": [
      "\r",
      "Processing playlists:   0%|                                                    | 30/165438 [02:57<286:38:14,  6.24s/it]"
     ]
    },
    {
     "name": "stdout",
     "output_type": "stream",
     "text": [
      "Extracting on 409248442\n"
     ]
    },
    {
     "name": "stderr",
     "output_type": "stream",
     "text": [
      "\r",
      "Processing playlists:   0%|                                                    | 31/165438 [03:03<283:20:04,  6.17s/it]"
     ]
    },
    {
     "name": "stdout",
     "output_type": "stream",
     "text": [
      "Extracting on 420033547\n"
     ]
    },
    {
     "name": "stderr",
     "output_type": "stream",
     "text": [
      "\r",
      "Processing playlists:   0%|                                                    | 32/165438 [03:06<243:24:35,  5.30s/it]"
     ]
    },
    {
     "name": "stdout",
     "output_type": "stream",
     "text": [
      "Extracting on 455015016\n"
     ]
    },
    {
     "name": "stderr",
     "output_type": "stream",
     "text": [
      "\r",
      "Processing playlists:   0%|                                                    | 33/165438 [03:09<215:34:34,  4.69s/it]"
     ]
    },
    {
     "name": "stdout",
     "output_type": "stream",
     "text": [
      "Extracting on 436509753\n"
     ]
    },
    {
     "name": "stderr",
     "output_type": "stream",
     "text": [
      "\r",
      "Processing playlists:   0%|                                                    | 34/165438 [03:11<184:00:06,  4.00s/it]"
     ]
    },
    {
     "name": "stdout",
     "output_type": "stream",
     "text": [
      "Extracting on 507632186\n"
     ]
    },
    {
     "name": "stderr",
     "output_type": "stream",
     "text": [
      "\r",
      "Processing playlists:   0%|                                                    | 35/165438 [03:14<172:05:43,  3.75s/it]"
     ]
    },
    {
     "name": "stdout",
     "output_type": "stream",
     "text": [
      "Extracting on 509822357\n"
     ]
    },
    {
     "name": "stderr",
     "output_type": "stream",
     "text": [
      "\r",
      "Processing playlists:   0%|                                                    | 36/165438 [03:16<145:24:44,  3.16s/it]"
     ]
    },
    {
     "name": "stdout",
     "output_type": "stream",
     "text": [
      "Extracting on 438697118\n"
     ]
    },
    {
     "name": "stderr",
     "output_type": "stream",
     "text": [
      "\r",
      "Processing playlists:   0%|                                                    | 37/165438 [03:21<162:59:39,  3.55s/it]"
     ]
    },
    {
     "name": "stdout",
     "output_type": "stream",
     "text": [
      "Extracting on 420552168\n"
     ]
    },
    {
     "name": "stderr",
     "output_type": "stream",
     "text": [
      "\r",
      "Processing playlists:   0%|                                                    | 38/165438 [03:24<166:11:41,  3.62s/it]"
     ]
    },
    {
     "name": "stdout",
     "output_type": "stream",
     "text": [
      "Extracting on 498284024\n"
     ]
    },
    {
     "name": "stderr",
     "output_type": "stream",
     "text": [
      "\r",
      "Processing playlists:   0%|                                                    | 39/165438 [03:34<242:16:40,  5.27s/it]"
     ]
    },
    {
     "name": "stdout",
     "output_type": "stream",
     "text": [
      "Extracting on 443404056\n"
     ]
    },
    {
     "name": "stderr",
     "output_type": "stream",
     "text": [
      "\r",
      "Processing playlists:   0%|                                                    | 40/165438 [03:43<300:50:38,  6.55s/it]"
     ]
    },
    {
     "name": "stdout",
     "output_type": "stream",
     "text": [
      "Extracting on 422840170\n"
     ]
    },
    {
     "name": "stderr",
     "output_type": "stream",
     "text": [
      "\r",
      "Processing playlists:   0%|                                                    | 41/165438 [03:55<369:55:28,  8.05s/it]"
     ]
    },
    {
     "name": "stdout",
     "output_type": "stream",
     "text": [
      "Extracting on 518329861\n"
     ]
    },
    {
     "name": "stderr",
     "output_type": "stream",
     "text": [
      "\r",
      "Processing playlists:   0%|                                                    | 42/165438 [03:58<303:31:31,  6.61s/it]"
     ]
    },
    {
     "name": "stdout",
     "output_type": "stream",
     "text": [
      "Extracting on 435085497\n"
     ]
    },
    {
     "name": "stderr",
     "output_type": "stream",
     "text": [
      "\r",
      "Processing playlists:   0%|                                                    | 43/165438 [04:05<307:16:54,  6.69s/it]"
     ]
    },
    {
     "name": "stdout",
     "output_type": "stream",
     "text": [
      "Extracting on 438017851\n"
     ]
    },
    {
     "name": "stderr",
     "output_type": "stream",
     "text": [
      "\r",
      "Processing playlists:   0%|                                                    | 44/165438 [04:15<351:07:59,  7.64s/it]"
     ]
    },
    {
     "name": "stdout",
     "output_type": "stream",
     "text": [
      "Extracting on 449148761\n"
     ]
    },
    {
     "name": "stderr",
     "output_type": "stream",
     "text": [
      "\r",
      "Processing playlists:   0%|                                                    | 45/165438 [04:22<347:45:16,  7.57s/it]"
     ]
    },
    {
     "name": "stdout",
     "output_type": "stream",
     "text": [
      "Extracting on 404033142\n"
     ]
    },
    {
     "name": "stderr",
     "output_type": "stream",
     "text": [
      "\r",
      "Processing playlists:   0%|                                                    | 46/165438 [04:33<391:26:46,  8.52s/it]"
     ]
    },
    {
     "name": "stdout",
     "output_type": "stream",
     "text": [
      "Extracting on 517537857\n"
     ]
    },
    {
     "name": "stderr",
     "output_type": "stream",
     "text": [
      "\r",
      "Processing playlists:   0%|                                                    | 47/165438 [04:56<587:48:21, 12.79s/it]"
     ]
    },
    {
     "name": "stdout",
     "output_type": "stream",
     "text": [
      "Extracting on 100120970\n"
     ]
    },
    {
     "name": "stderr",
     "output_type": "stream",
     "text": [
      "\r",
      "Processing playlists:   0%|                                                    | 48/165438 [05:12<643:31:46, 14.01s/it]"
     ]
    },
    {
     "name": "stdout",
     "output_type": "stream",
     "text": [
      "Extracting on 526850401\n"
     ]
    }
   ],
   "source": [
    "from concurrent.futures import ThreadPoolExecutor, as_completed\n",
    "from tqdm import tqdm\n",
    "err = []\n",
    "file_path = 'C:\\\\Temp\\\\unge\\\\proxy.txt'\n",
    "with open(file_path, 'r', encoding='utf-8') as file:\n",
    "    proxy_string =  file.read()\n",
    "\n",
    "combined_proxy_list = parse_proxy_string(proxy_string)\n",
    "path_to_save = 'C:\\\\Temp\\\\unge'\n",
    "\n",
    "# 프록시 리스트와 hrefs 리스트를 사용합니다.\n",
    "# 예를 들어, proxy_list = [<프록시 목록>] 와 같이 정의되어 있어야 합니다.\n",
    "\n",
    "file_path = 'C:\\\\Temp\\\\unge\\\\real_list.pickle'\n",
    "\n",
    "# 파일에서 리스트 불러오기\n",
    "with open(file_path, 'rb') as file:\n",
    "    hrefs = pickle.load(file)\n",
    "\n",
    "print(len(hrefs))\n",
    "# ThreadPoolExecutor를 사용하여 작업을 병렬로 처리\n",
    "with ThreadPoolExecutor(max_workers=8) as executor:\n",
    "    tasks = []\n",
    "    for i, href in enumerate(hrefs):\n",
    "        # 올바른 인자 순서로 함수 호출\n",
    "        tasks.append(executor.submit(process_playlist_safe, href, i, path_to_save))\n",
    "\n",
    "    for task in tqdm(as_completed(tasks), total=len(tasks), desc=\"Processing playlists\"):\n",
    "        task.result()\n",
    "\n"
   ]
  },
  {
   "cell_type": "markdown",
   "id": "e8a6d71b",
   "metadata": {},
   "source": [
    "#### "
   ]
  },
  {
   "cell_type": "code",
   "execution_count": null,
   "id": "cf366fbf",
   "metadata": {},
   "outputs": [],
   "source": []
  },
  {
   "cell_type": "code",
   "execution_count": 5,
   "id": "489b5058",
   "metadata": {},
   "outputs": [
    {
     "data": {
      "text/plain": [
       "['496712391',\n",
       " '481919862',\n",
       " '423155202',\n",
       " '101640392',\n",
       " '489878864',\n",
       " '473724566',\n",
       " '400725248',\n",
       " '437468365',\n",
       " '101617392',\n",
       " '437356973',\n",
       " '407314240',\n",
       " '403942447',\n",
       " '408851622',\n",
       " '528379679',\n",
       " '477556837',\n",
       " '442590860',\n",
       " '466580421',\n",
       " '485581388',\n",
       " '441687608',\n",
       " '101565978',\n",
       " '514450511',\n",
       " '523676548',\n",
       " '478320922',\n",
       " '527539787',\n",
       " '480480119',\n",
       " '494896790',\n",
       " '524572752',\n",
       " '421541621',\n",
       " '469001044',\n",
       " '505856648',\n",
       " '415481770',\n",
       " '522269245',\n",
       " '521109571',\n",
       " '485528321',\n",
       " '100076388',\n",
       " '460610894',\n",
       " '521038085',\n",
       " '409248442',\n",
       " '420033547',\n",
       " '455015016',\n",
       " '436509753',\n",
       " '507632186',\n",
       " '509822357',\n",
       " '438697118',\n",
       " '420552168',\n",
       " '498284024',\n",
       " '443404056',\n",
       " '422840170',\n",
       " '518329861',\n",
       " '435085497',\n",
       " '438017851',\n",
       " '449148761',\n",
       " '404033142',\n",
       " '517537857',\n",
       " '100120970',\n",
       " '526850401',\n",
       " '101609117',\n",
       " '408416817',\n",
       " '527755979',\n",
       " '512348419',\n",
       " '469708720',\n",
       " '517702595',\n",
       " '481910089',\n",
       " '101656894',\n",
       " '100124891',\n",
       " '528883946',\n",
       " '441029211',\n",
       " '452777878',\n",
       " '474230156',\n",
       " '478186317',\n",
       " '520370419',\n",
       " '452992540',\n",
       " '101653834',\n",
       " '529759168',\n",
       " '483367244',\n",
       " '530701259',\n",
       " '482961716',\n",
       " '405166426',\n",
       " '514333715',\n",
       " '416414850',\n",
       " '489453859',\n",
       " '520287047',\n",
       " '433561365',\n",
       " '420064929',\n",
       " '501389301',\n",
       " '417590005',\n",
       " '434646733',\n",
       " '520513404',\n",
       " '402935298',\n",
       " '429320928',\n",
       " '518091305',\n",
       " '477818824',\n",
       " '100103241',\n",
       " '434372603',\n",
       " '464388644',\n",
       " '467804769',\n",
       " '429294144',\n",
       " '431666409',\n",
       " '415789042',\n",
       " '501932481',\n",
       " '410678047',\n",
       " '425768362',\n",
       " '434499471',\n",
       " '430166813',\n",
       " '518710408',\n",
       " '470898590',\n",
       " '445964513',\n",
       " '519562447',\n",
       " '412465263',\n",
       " '529957725',\n",
       " '400926661',\n",
       " '527656932',\n",
       " '526272525',\n",
       " '525185757',\n",
       " '481989793',\n",
       " '400713517',\n",
       " '518794596',\n",
       " '478898221',\n",
       " '437729565',\n",
       " '429738736',\n",
       " '428712907',\n",
       " '488280796',\n",
       " '445191966',\n",
       " '100034534',\n",
       " '525096370',\n",
       " '456530991',\n",
       " '100148424',\n",
       " '453244205',\n",
       " '101654278',\n",
       " '510001174',\n",
       " '101600247',\n",
       " '428974249',\n",
       " '407884124',\n",
       " '420330523',\n",
       " '100123790',\n",
       " '427535570',\n",
       " '465344960',\n",
       " '410499751',\n",
       " '100112156',\n",
       " '526887728',\n",
       " '525727038',\n",
       " '101640737',\n",
       " '519520856',\n",
       " '417420640',\n",
       " '405053950',\n",
       " '407612740',\n",
       " '519940640',\n",
       " '100108662',\n",
       " '516605954',\n",
       " '447605391',\n",
       " '479890183',\n",
       " '426988272',\n",
       " '461086119',\n",
       " '502616891',\n",
       " '512903773',\n",
       " '100106305',\n",
       " '513643764',\n",
       " '433195784',\n",
       " '457825077',\n",
       " '527391864',\n",
       " '101610882',\n",
       " '411812463',\n",
       " '462602353',\n",
       " '435398247',\n",
       " '407562746',\n",
       " '443947290',\n",
       " '100021454',\n",
       " '416368152',\n",
       " '408962457',\n",
       " '512835636',\n",
       " '485579903',\n",
       " '100065203',\n",
       " '487635230',\n",
       " '531498438',\n",
       " '405186492',\n",
       " '519842290',\n",
       " '412421033',\n",
       " '462342701',\n",
       " '408751829',\n",
       " '473807448',\n",
       " '522911860',\n",
       " '518479177',\n",
       " '400432811',\n",
       " '409704721',\n",
       " '472412071',\n",
       " '401556983',\n",
       " '503678493',\n",
       " '529130133',\n",
       " '100116527',\n",
       " '515450704',\n",
       " '502603419',\n",
       " '427292873',\n",
       " '425766800',\n",
       " '425186851',\n",
       " '434462935',\n",
       " '419174771',\n",
       " '521272014',\n",
       " '426920798',\n",
       " '466107671',\n",
       " '509450538',\n",
       " '529311855',\n",
       " '469638666',\n",
       " '458136084',\n",
       " '469019122',\n",
       " '511036188',\n",
       " '406142597',\n",
       " '100092115',\n",
       " '484297365',\n",
       " '417953787',\n",
       " '468336342',\n",
       " '507979273',\n",
       " '486523617',\n",
       " '442719728',\n",
       " '507762532',\n",
       " '101444974',\n",
       " '429880147',\n",
       " '517722467',\n",
       " '504491654',\n",
       " '529661502',\n",
       " '531478257',\n",
       " '402963298',\n",
       " '531390754',\n",
       " '401641029',\n",
       " '445992796',\n",
       " '526902435',\n",
       " '432819795',\n",
       " '501295323',\n",
       " '527611501',\n",
       " '488782031',\n",
       " '415592176',\n",
       " '438655294',\n",
       " '471763789',\n",
       " '455836487',\n",
       " '495804280',\n",
       " '417285327',\n",
       " '101601002',\n",
       " '479874775',\n",
       " '452854225',\n",
       " '526735388',\n",
       " '517603197',\n",
       " '458489453',\n",
       " '452047235',\n",
       " '458794650',\n",
       " '400773779',\n",
       " '432679193',\n",
       " '464052197',\n",
       " '440985077',\n",
       " '519246448',\n",
       " '414400194',\n",
       " '519247810',\n",
       " '473685231',\n",
       " '412828357',\n",
       " '463622658',\n",
       " '506250671',\n",
       " '458239071',\n",
       " '518362643',\n",
       " '531446083',\n",
       " '431739582',\n",
       " '100001528',\n",
       " '468086533',\n",
       " '427836118',\n",
       " '430208115',\n",
       " '419386320',\n",
       " '516614719',\n",
       " '528131369',\n",
       " '423317904',\n",
       " '100010337',\n",
       " '516548502',\n",
       " '487022694',\n",
       " '505263647',\n",
       " '529541555',\n",
       " '505453811',\n",
       " '527959971',\n",
       " '500523740',\n",
       " '509801723',\n",
       " '524410585',\n",
       " '403961932',\n",
       " '476829341',\n",
       " '441261922',\n",
       " '514530714',\n",
       " '413709557',\n",
       " '506190107',\n",
       " '467967926',\n",
       " '101419560',\n",
       " '474754960',\n",
       " '426842728',\n",
       " '518705813',\n",
       " '429552933',\n",
       " '409765985',\n",
       " '452641480',\n",
       " '100028900',\n",
       " '423066120',\n",
       " '101586101',\n",
       " '426563564',\n",
       " '476229869',\n",
       " '518892234',\n",
       " '516599235',\n",
       " '508243039',\n",
       " '527049237',\n",
       " '521099884',\n",
       " '429953161',\n",
       " '429260762',\n",
       " '404777581',\n",
       " '494709293',\n",
       " '477571599',\n",
       " '401960396',\n",
       " '527252478',\n",
       " '486566553',\n",
       " '417949444',\n",
       " '486253385',\n",
       " '510185058',\n",
       " '422536883',\n",
       " '446951960',\n",
       " '414071742',\n",
       " '487238336',\n",
       " '531490843',\n",
       " '404216252',\n",
       " '528433957',\n",
       " '497206815',\n",
       " '466809793',\n",
       " '523090433',\n",
       " '443829680',\n",
       " '101578992',\n",
       " '520019125',\n",
       " '101617205',\n",
       " '444902548',\n",
       " '410839597',\n",
       " '418400063',\n",
       " '402589158',\n",
       " '423448660',\n",
       " '527575136',\n",
       " '510424812',\n",
       " '527973552',\n",
       " '530417903',\n",
       " '521223339',\n",
       " '409239832',\n",
       " '450151729',\n",
       " '462155764',\n",
       " '519231725',\n",
       " '101649553',\n",
       " '474894504',\n",
       " '432009531',\n",
       " '470565351',\n",
       " '407499092',\n",
       " '422502559',\n",
       " '401682794',\n",
       " '515643374',\n",
       " '522798293',\n",
       " '520662682',\n",
       " '458459549',\n",
       " '429463479',\n",
       " '528808891',\n",
       " '517428823',\n",
       " '527231072',\n",
       " '477768404',\n",
       " '428409124',\n",
       " '530282625',\n",
       " '465902516',\n",
       " '440898682',\n",
       " '531035594',\n",
       " '527951100',\n",
       " '402259350',\n",
       " '493413242',\n",
       " '402524586',\n",
       " '526920931',\n",
       " '101599225',\n",
       " '460069087',\n",
       " '430826442',\n",
       " '431882209',\n",
       " '458037629',\n",
       " '401824830',\n",
       " '531357367',\n",
       " '489573956',\n",
       " '519108322',\n",
       " '482845368',\n",
       " '406651352',\n",
       " '459444444',\n",
       " '509600788',\n",
       " '479353161',\n",
       " '435011608',\n",
       " '526841349',\n",
       " '100123920',\n",
       " '514762712',\n",
       " '530444664',\n",
       " '527967444',\n",
       " '458041873',\n",
       " '487743332',\n",
       " '530588943',\n",
       " '503715367',\n",
       " '469283940',\n",
       " '423861778',\n",
       " '416113167',\n",
       " '466802737',\n",
       " '466930441',\n",
       " '474333963',\n",
       " '440238231',\n",
       " '488252315',\n",
       " '410469473',\n",
       " '530502707',\n",
       " '498288056',\n",
       " '426315846',\n",
       " '101416264',\n",
       " '451750525',\n",
       " '445270195',\n",
       " '447093390',\n",
       " '530601732',\n",
       " '412472046',\n",
       " '488123345',\n",
       " '453213509',\n",
       " '443068784',\n",
       " '493854165',\n",
       " '445422452',\n",
       " '474407014',\n",
       " '421706569',\n",
       " '454526440',\n",
       " '476268132',\n",
       " '431334791',\n",
       " '531484016',\n",
       " '463467251',\n",
       " '406857468',\n",
       " '504127518',\n",
       " '437291159',\n",
       " '483370275',\n",
       " '517963506',\n",
       " '100004452',\n",
       " '442577643',\n",
       " '450923324',\n",
       " '101576611',\n",
       " '450636052',\n",
       " '464776575',\n",
       " '494358389',\n",
       " '508894792',\n",
       " '425768393',\n",
       " '493576761',\n",
       " '440436976',\n",
       " '418123960',\n",
       " '509072118',\n",
       " '502004813',\n",
       " '403216136',\n",
       " '520995046',\n",
       " '473320576',\n",
       " '523234120',\n",
       " '464773031',\n",
       " '530846607',\n",
       " '509246894',\n",
       " '463392776',\n",
       " '100100188',\n",
       " '470441899',\n",
       " '528962601',\n",
       " '401333028',\n",
       " '529869209',\n",
       " '462105404',\n",
       " '519612411',\n",
       " '404115444',\n",
       " '426075431',\n",
       " '498209093',\n",
       " '522510984',\n",
       " '474662458',\n",
       " '100010732',\n",
       " '530325774',\n",
       " '459634407',\n",
       " '421369120',\n",
       " '530860338',\n",
       " '404524043',\n",
       " '468330276',\n",
       " '461087779',\n",
       " '100024526',\n",
       " '522117040',\n",
       " '435410592',\n",
       " '513300125',\n",
       " '510660247',\n",
       " '415799128',\n",
       " '510023415',\n",
       " '436804470',\n",
       " '520446228',\n",
       " '515935696',\n",
       " '412594233',\n",
       " '473792070',\n",
       " '463338905',\n",
       " '457958719',\n",
       " '487358853',\n",
       " '521031926',\n",
       " '101640372',\n",
       " '430046607',\n",
       " '481429800',\n",
       " '432646054',\n",
       " '470192094',\n",
       " '460325498',\n",
       " '417927340',\n",
       " '524846221',\n",
       " '403269745',\n",
       " '515684044',\n",
       " '484327291',\n",
       " '527254495',\n",
       " '465952732',\n",
       " '520675375',\n",
       " '411843064',\n",
       " '511808884',\n",
       " '526993476',\n",
       " '101562711',\n",
       " '431797594',\n",
       " '527524121',\n",
       " '458632743',\n",
       " '407778312',\n",
       " '455148060',\n",
       " '529291645',\n",
       " '468242124',\n",
       " '528934402',\n",
       " '519401830',\n",
       " '432429367',\n",
       " '519455879',\n",
       " '459938641',\n",
       " '464663944',\n",
       " '531118181',\n",
       " '530049080',\n",
       " '469712507',\n",
       " '514232113',\n",
       " '100151769',\n",
       " '400186582',\n",
       " '475836857',\n",
       " '522711632',\n",
       " '518077808',\n",
       " '513112395',\n",
       " '422947338',\n",
       " '466833893',\n",
       " '436360063',\n",
       " '481814169',\n",
       " '522234172',\n",
       " '414035643',\n",
       " '450750686',\n",
       " '477691663',\n",
       " '403195087',\n",
       " '417590779',\n",
       " '516926461',\n",
       " '522331968',\n",
       " '524157668',\n",
       " '101573975',\n",
       " '461508175',\n",
       " '403172579',\n",
       " '492885463',\n",
       " '519627228',\n",
       " '524258610',\n",
       " '522153830',\n",
       " '449287806',\n",
       " '422798605',\n",
       " '438035556',\n",
       " '100106506',\n",
       " '100107557',\n",
       " '525062041',\n",
       " '409611195',\n",
       " '436393944',\n",
       " '418922877',\n",
       " '489381059',\n",
       " '415434478',\n",
       " '412542874',\n",
       " '101568051',\n",
       " '518111207',\n",
       " '421196685',\n",
       " '530322863',\n",
       " '470856391',\n",
       " '434586012',\n",
       " '504569269',\n",
       " '514906145',\n",
       " '461300971',\n",
       " '530609881',\n",
       " '414156052',\n",
       " '485388270',\n",
       " '413006411',\n",
       " '509626484',\n",
       " '437272884',\n",
       " '426291921',\n",
       " '100030255',\n",
       " '466192743',\n",
       " '434569799',\n",
       " '413825317',\n",
       " '406005313',\n",
       " '526758570',\n",
       " '455485940',\n",
       " '101624657',\n",
       " '418004800',\n",
       " '412449759',\n",
       " '491688961',\n",
       " '481559490',\n",
       " '101576334',\n",
       " '513488914',\n",
       " '101612997',\n",
       " '461120552',\n",
       " '529446645',\n",
       " '464774864',\n",
       " '505566975',\n",
       " '432519074',\n",
       " '100097974',\n",
       " '457604799',\n",
       " '505596435',\n",
       " '526133144',\n",
       " '429773001',\n",
       " '421955362',\n",
       " '522043485',\n",
       " '501331511',\n",
       " '417937767',\n",
       " '440414133',\n",
       " '450586782',\n",
       " '417414021',\n",
       " '474447254',\n",
       " '402492650',\n",
       " '503091016',\n",
       " '474680589',\n",
       " '495659065',\n",
       " '488332916',\n",
       " '100146568',\n",
       " '442737980',\n",
       " '514413077',\n",
       " '496186304',\n",
       " '422127422',\n",
       " '461497607',\n",
       " '492669608',\n",
       " '100033492',\n",
       " '472617617',\n",
       " '101612338',\n",
       " '467095255',\n",
       " '427276575',\n",
       " '424568018',\n",
       " '485949731',\n",
       " '516750802',\n",
       " '526893382',\n",
       " '408086675',\n",
       " '429925192',\n",
       " '411469524',\n",
       " '471406011',\n",
       " '524506403',\n",
       " '401135024',\n",
       " '431771096',\n",
       " '517392727',\n",
       " '406253864',\n",
       " '453063534',\n",
       " '505167200',\n",
       " '524801523',\n",
       " '484897638',\n",
       " '521056886',\n",
       " '416472493',\n",
       " '426374298',\n",
       " '517753760',\n",
       " '428761528',\n",
       " '429458475',\n",
       " '406205368',\n",
       " '422208300',\n",
       " '419441270',\n",
       " '455961511',\n",
       " '418238332',\n",
       " '409847628',\n",
       " '101576515',\n",
       " '526497024',\n",
       " '420654237',\n",
       " '510769695',\n",
       " '408873878',\n",
       " '458410038',\n",
       " '514103310',\n",
       " '418635868',\n",
       " '101613858',\n",
       " '476653285',\n",
       " '422732414',\n",
       " '100128685',\n",
       " '440682544',\n",
       " '528596889',\n",
       " '498824398',\n",
       " '479880939',\n",
       " '526993447',\n",
       " '426190791',\n",
       " '431950944',\n",
       " '483037068',\n",
       " '529851604',\n",
       " '524996016',\n",
       " '484342327',\n",
       " '460644032',\n",
       " '405730707',\n",
       " '419202228',\n",
       " '454354687',\n",
       " '526481407',\n",
       " '428745846',\n",
       " '481329882',\n",
       " '508580729',\n",
       " '516390557',\n",
       " '485369789',\n",
       " '530497587',\n",
       " '427230513',\n",
       " '445869607',\n",
       " '430973432',\n",
       " '100029941',\n",
       " '458966442',\n",
       " '485119375',\n",
       " '406477543',\n",
       " '400737673',\n",
       " '495124748',\n",
       " '415829623',\n",
       " '101529550',\n",
       " '525286970',\n",
       " '530542572',\n",
       " '100027917',\n",
       " '453134844',\n",
       " '402993448',\n",
       " '506073581',\n",
       " '530821125',\n",
       " '494557899',\n",
       " '505392999',\n",
       " '472780914',\n",
       " '444421990',\n",
       " '502269931',\n",
       " '520594713',\n",
       " '487030421',\n",
       " '100105446',\n",
       " '464912898',\n",
       " '476782353',\n",
       " '101609633',\n",
       " '522233178',\n",
       " '432950567',\n",
       " '425414366',\n",
       " '415850043',\n",
       " '437376909',\n",
       " '428077274',\n",
       " '101610704',\n",
       " '445508308',\n",
       " '411774871',\n",
       " '420762247',\n",
       " '530954666',\n",
       " '528871638',\n",
       " '522941975',\n",
       " '508336078',\n",
       " '526569148',\n",
       " '423875439',\n",
       " '423417302',\n",
       " '425933021',\n",
       " '523460030',\n",
       " '458961396',\n",
       " '496698915',\n",
       " '515682701',\n",
       " '508636414',\n",
       " '101365494',\n",
       " '100015315',\n",
       " '450054183',\n",
       " '421522264',\n",
       " '464073213',\n",
       " '492016793',\n",
       " '100133940',\n",
       " '518225695',\n",
       " '449577617',\n",
       " '413888872',\n",
       " '526600380',\n",
       " '509746737',\n",
       " '523866398',\n",
       " '466263862',\n",
       " '415862990',\n",
       " '100088645',\n",
       " '432054545',\n",
       " '422194776',\n",
       " '527407810',\n",
       " '503878033',\n",
       " '497207154',\n",
       " '427536795',\n",
       " '426414334',\n",
       " '510386288',\n",
       " '442671775',\n",
       " '511044254',\n",
       " '505963890',\n",
       " '403123975',\n",
       " '497027316',\n",
       " '465263897',\n",
       " '529033574',\n",
       " '405678378',\n",
       " '422783159',\n",
       " '464342733',\n",
       " '406590394',\n",
       " '462877946',\n",
       " '497954628',\n",
       " '472229811',\n",
       " '402568473',\n",
       " '433831131',\n",
       " '520552649',\n",
       " '432790875',\n",
       " '435102192',\n",
       " '100146409',\n",
       " '527805530',\n",
       " '407143467',\n",
       " '456070417',\n",
       " '526763083',\n",
       " '433562802',\n",
       " '519543534',\n",
       " '424305889',\n",
       " '100010579',\n",
       " '409688816',\n",
       " '495193551',\n",
       " '439219593',\n",
       " '404160380',\n",
       " '412750744',\n",
       " '512976816',\n",
       " '475805840',\n",
       " '100078122',\n",
       " '435092578',\n",
       " '484621658',\n",
       " '101455443',\n",
       " '480908574',\n",
       " '519964878',\n",
       " '428848278',\n",
       " '454852305',\n",
       " '493034479',\n",
       " '498339446',\n",
       " '485111114',\n",
       " '415211790',\n",
       " '497802879',\n",
       " '101602977',\n",
       " '468664770',\n",
       " '453263275',\n",
       " '469973587',\n",
       " '417670588',\n",
       " '448742940',\n",
       " '501942099',\n",
       " '483540567',\n",
       " '416288897',\n",
       " '432627789',\n",
       " '514973758',\n",
       " '405609092',\n",
       " '444396831',\n",
       " '502081294',\n",
       " '101580682',\n",
       " '526312413',\n",
       " '486205023',\n",
       " '491008247',\n",
       " '501282828',\n",
       " '530146768',\n",
       " '526650453',\n",
       " '404747619',\n",
       " '529102794',\n",
       " '402994445',\n",
       " '458959993',\n",
       " '512927281',\n",
       " '402268930',\n",
       " '467184903',\n",
       " '421585059',\n",
       " '433543275',\n",
       " '424855542',\n",
       " '517477035',\n",
       " '499065817',\n",
       " '469640892',\n",
       " '529922879',\n",
       " '514138248',\n",
       " '526254087',\n",
       " '412056223',\n",
       " '523528891',\n",
       " '438730052',\n",
       " '458133329',\n",
       " '414707094',\n",
       " '513926526',\n",
       " '520532288',\n",
       " '402178824',\n",
       " '403117333',\n",
       " '525498029',\n",
       " '433231359',\n",
       " '473218248',\n",
       " '411914943',\n",
       " '466410411',\n",
       " '489364799',\n",
       " '499177296',\n",
       " '479228629',\n",
       " '412154592',\n",
       " '418432413',\n",
       " '412392739',\n",
       " '431058702',\n",
       " '523807137',\n",
       " '437512713',\n",
       " '424616959',\n",
       " '427619124',\n",
       " '515388866',\n",
       " '522688265',\n",
       " '100023488',\n",
       " '499138151',\n",
       " '460278624',\n",
       " '473930001',\n",
       " '487031893',\n",
       " '505503257',\n",
       " '458104557',\n",
       " '463057250',\n",
       " '410893348',\n",
       " '458634651',\n",
       " '435815509',\n",
       " '422248968',\n",
       " '406655261',\n",
       " '475583956',\n",
       " '100020759',\n",
       " '524360987',\n",
       " '101594394',\n",
       " '527951460',\n",
       " '491389553',\n",
       " '531685812',\n",
       " '522607441',\n",
       " '100121242',\n",
       " '478053390',\n",
       " '461153343',\n",
       " '521196969',\n",
       " '496613938',\n",
       " '402789542',\n",
       " '100034810',\n",
       " '425823913',\n",
       " '530654119',\n",
       " '100008945',\n",
       " '427754888',\n",
       " '489559256',\n",
       " '470894517',\n",
       " '481941605',\n",
       " '520532895',\n",
       " '505145597',\n",
       " '411539914',\n",
       " '490399734',\n",
       " '405577319',\n",
       " '525220509',\n",
       " '530088358',\n",
       " '449500378',\n",
       " '425572675',\n",
       " '415944329',\n",
       " '433100395',\n",
       " '434642101',\n",
       " '101617938',\n",
       " '101612288',\n",
       " '478187974',\n",
       " '475786598',\n",
       " '529043024',\n",
       " '441575736',\n",
       " '430957410',\n",
       " '471330518',\n",
       " '436635915',\n",
       " '501488386',\n",
       " '522651800',\n",
       " '528634740',\n",
       " '459792602',\n",
       " '429778061',\n",
       " '413829434',\n",
       " '426891724',\n",
       " '459746518',\n",
       " '101647612',\n",
       " '486201384',\n",
       " '423636805',\n",
       " '468547447',\n",
       " '505305713',\n",
       " '403842947',\n",
       " '436846246',\n",
       " '469985952',\n",
       " '530527995',\n",
       " '484146780',\n",
       " '454656978',\n",
       " '473332150',\n",
       " '456988433',\n",
       " '520144388',\n",
       " '432351689',\n",
       " '508439001',\n",
       " '512535929',\n",
       " '464647637',\n",
       " '429517059',\n",
       " '508588573',\n",
       " '100020195',\n",
       " '510682711',\n",
       " '422061629',\n",
       " '526160072',\n",
       " '527414299',\n",
       " '498327212',\n",
       " '476662984',\n",
       " '525555605',\n",
       " '490891764',\n",
       " '520521937',\n",
       " '496048317',\n",
       " '100101595',\n",
       " '401021382',\n",
       " '404531226',\n",
       " '510556084',\n",
       " '412811730',\n",
       " '415709649',\n",
       " '470072528',\n",
       " '427900844',\n",
       " '460370886',\n",
       " '521112430',\n",
       " '442578455',\n",
       " '526653871',\n",
       " '502936728',\n",
       " '408183405',\n",
       " '528880340',\n",
       " '429425377',\n",
       " '479282249',\n",
       " '424758095',\n",
       " '482220036',\n",
       " '401648630',\n",
       " '410501917',\n",
       " '401526843',\n",
       " '429497130',\n",
       " '524139175',\n",
       " '408857327',\n",
       " '527055884',\n",
       " '481955917',\n",
       " '419959799',\n",
       " '422611737',\n",
       " '497914900',\n",
       " '474043268',\n",
       " '521051901',\n",
       " '508710658',\n",
       " ...]"
      ]
     },
     "execution_count": 5,
     "metadata": {},
     "output_type": "execute_result"
    }
   ],
   "source": []
  },
  {
   "cell_type": "code",
   "execution_count": 6,
   "id": "b52c4820",
   "metadata": {
    "scrolled": true
   },
   "outputs": [],
   "source": []
  },
  {
   "cell_type": "code",
   "execution_count": null,
   "id": "6333f0a3",
   "metadata": {},
   "outputs": [],
   "source": [
    "import requests\n",
    "\n",
    "\n",
    "def check_proxy(proxy):\n",
    "    try:\n",
    "        proxies = {\n",
    "            \"http\": f\"http://{proxy['ip']}:{proxy['port']}\",\n",
    "            \"https\": f\"http://{proxy['ip']}:{proxy['port']}\"\n",
    "        }\n",
    "        response = requests.get(\"http://httpbin.org/ip\", proxies=proxies, timeout=5)\n",
    "        response.raise_for_status()\n",
    "        return True\n",
    "    except:\n",
    "        return False\n",
    "\n",
    "for proxy in combined_proxy_list:\n",
    "    if check_proxy(proxy):\n",
    "        print(f\"Proxy {proxy['ip']}:{proxy['port']} works!\")\n",
    "    else:\n",
    "        print(f\"Proxy {proxy['ip']}:{proxy['port']} failed!\")\n"
   ]
  },
  {
   "cell_type": "code",
   "execution_count": null,
   "id": "2b99eeb4",
   "metadata": {},
   "outputs": [],
   "source": []
  }
 ],
 "metadata": {
  "kernelspec": {
   "display_name": "Python 3 (ipykernel)",
   "language": "python",
   "name": "python3"
  },
  "language_info": {
   "codemirror_mode": {
    "name": "ipython",
    "version": 3
   },
   "file_extension": ".py",
   "mimetype": "text/x-python",
   "name": "python",
   "nbconvert_exporter": "python",
   "pygments_lexer": "ipython3",
   "version": "3.11.5"
  }
 },
 "nbformat": 4,
 "nbformat_minor": 5
}
