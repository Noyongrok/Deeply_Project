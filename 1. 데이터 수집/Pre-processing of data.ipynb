{
 "cells": [
  {
   "cell_type": "markdown",
   "id": "a53be889",
   "metadata": {},
   "source": [
    "### song_name, artist 중복제거 데이터프레임 생성 코드"
   ]
  },
  {
   "cell_type": "code",
   "execution_count": 1,
   "id": "b50859cd",
   "metadata": {
    "scrolled": true
   },
   "outputs": [
    {
     "name": "stdout",
     "output_type": "stream",
     "text": [
      "Error reading playlist17.json: [Errno 2] No such file or directory: 'D:\\\\data\\\\json\\\\2180_re_1\\\\playlist17.json'\n",
      "Error reading playlist430.json: [Errno 2] No such file or directory: 'D:\\\\data\\\\json\\\\2180_re_1\\\\playlist430.json'\n",
      "Error reading playlist1177.json: [Errno 2] No such file or directory: 'D:\\\\data\\\\json\\\\2180_re_1\\\\playlist1177.json'\n",
      "Error reading playlist1270.json: [Errno 2] No such file or directory: 'D:\\\\data\\\\json\\\\2180_re_1\\\\playlist1270.json'\n",
      "Error reading playlist1334.json: [Errno 2] No such file or directory: 'D:\\\\data\\\\json\\\\2180_re_1\\\\playlist1334.json'\n",
      "Error reading playlist1373.json: [Errno 2] No such file or directory: 'D:\\\\data\\\\json\\\\2180_re_1\\\\playlist1373.json'\n",
      "Error reading playlist1935.json: [Errno 2] No such file or directory: 'D:\\\\data\\\\json\\\\2180_re_1\\\\playlist1935.json'\n",
      "Error reading playlist2163.json: [Errno 2] No such file or directory: 'D:\\\\data\\\\json\\\\2180_re_1\\\\playlist2163.json'\n",
      "                            song_name             artist\n",
      "0         Summer Go Loco (Feat. GRAY)                 로꼬\n",
      "1              한 여름의 크리스마스 (With You)  Red Velvet (레드벨벳)\n",
      "2                              summer              keshi\n",
      "3                        Keep It Gold           Surfaces\n",
      "4                        Cruel Summer       Taylor Swift\n",
      "...                               ...                ...\n",
      "65831                        Sexed Up    Robbie Williams\n",
      "65832  The Road To Mandalay (대한항공 CF)    Robbie Williams\n",
      "65833              Love Calling Earth    Robbie Williams\n",
      "65834                   Misunderstood    Robbie Williams\n",
      "65835                        Eternity    Robbie Williams\n",
      "\n",
      "[65836 rows x 2 columns]\n"
     ]
    }
   ],
   "source": [
    "import json\n",
    "import os\n",
    "import pandas as pd\n",
    "\n",
    "def read_json_from_directory(directory, file_name):\n",
    "    # 파일 전체 경로 생성\n",
    "    file_path = os.path.join(directory, file_name)\n",
    "\n",
    "    try:\n",
    "        # JSON 파일 읽기\n",
    "        with open(file_path, 'r', encoding='utf-8') as file:\n",
    "            data = json.load(file)\n",
    "        song_names = data['song_info']['song_name']\n",
    "        artists = data['song_info']['artist']\n",
    "\n",
    "        # 데이터프레임 생성\n",
    "        df = pd.DataFrame({'song_name': song_names, 'artist': artists})\n",
    "\n",
    "        return df  # 데이터프레임 반환\n",
    "    except Exception as e:\n",
    "        print(f\"Error reading {file_name}: {e}\")\n",
    "        return None  # 오류 발생 시 None 반환\n",
    "\n",
    "def count_files_in_directory(directory):\n",
    "    # 지정된 디렉토리의 모든 파일과 폴더 목록을 가져옴\n",
    "    items = os.listdir(directory)\n",
    "\n",
    "    # 파일만 세기 위해 디렉토리가 아닌 항목의 수를 센다\n",
    "    file_count = sum(1 for item in items if os.path.isfile(os.path.join(directory, item)))\n",
    "\n",
    "    return file_count\n",
    "\n",
    "# 빈 데이터프레임 생성\n",
    "result_df = pd.DataFrame(columns=['song_name', 'artist'])\n",
    "\n",
    "# 함수 사용 예시\n",
    "directory = r\"D:\\data\\json\\2180_re_1\"\n",
    "\n",
    "for i in range(count_files_in_directory(directory)):\n",
    "    df = read_json_from_directory(directory, f'playlist{i}.json')\n",
    "    if df is not None:\n",
    "        result_df = pd.concat([result_df, df])\n",
    "result_df = result_df.drop_duplicates().reset_index(drop=True)\n",
    "# 중복이 제거된 데이터프레임 출력\n",
    "print(result_df)"
   ]
  },
  {
   "cell_type": "code",
   "execution_count": 2,
   "id": "608638ed",
   "metadata": {
    "scrolled": true
   },
   "outputs": [],
   "source": [
    "result_df.to_csv(r'D:\\data\\csv\\result_data.csv', index=False)\n"
   ]
  },
  {
   "cell_type": "markdown",
   "id": "18ed7046",
   "metadata": {},
   "source": [
    "### 전처리 코드(장르 일원화, 연도 정규화, 외국어 가사 처리)"
   ]
  },
  {
   "cell_type": "code",
   "execution_count": 105,
   "id": "c8013c08",
   "metadata": {},
   "outputs": [],
   "source": [
    "import re\n",
    "korean = re.compile('[\\u3131-\\u3163\\uac00-\\ud7a3]+')\n",
    "directory = \"C:\\\\Users\\\\gimge\\\\OneDrive\\\\문서\\\\dic_json\\\\unge2180\"\n",
    "def Pretreatmen(read_directory, save_directory):\n",
    "    for i in range(count_files_in_directory(read_directory)):\n",
    "        try:\n",
    "            if os.path.getsize(file_path) == 0:\n",
    "                print(f\"Skipping empty file: {file_path}\")\n",
    "                continue\n",
    "            with open(read_directory + f'\\\\playlist{i}.json', 'r', encoding='utf-8') as file:\n",
    "                data = json.load(file)\n",
    "            for index, g in enumerate(data['song_info']['genre']):\n",
    "                if g == 'J-POP':\n",
    "                    data['song_info']['lyric'][index] = re.sub(korean, '', data['song_info']['lyric'][index])\n",
    "            data['song_info']['genre'] = [item.split(', ')[-1] for item in data['song_info']['genre']]\n",
    "            data['song_info']['release_date'] = [f\"{int(date.split('.')[0]) - 2000}.{date.split('.')[1]}.{date.split('.')[2]}\" if date != '-' and len(date.split('.')) == 3 else date for date in data['song_info']['release_date']]\n",
    "            with open(save_directory + f'\\\\playlist{i}.json', 'w', encoding='utf-8') as file:\n",
    "                json.dump(data, file, ensure_ascii=False, indent=4)\n",
    "        except Exception as e:\n",
    "            print(f\"Error processing file {i}: {e}. Skipping file.\")\n",
    "            continue      "
   ]
  },
  {
   "cell_type": "code",
   "execution_count": 106,
   "id": "957272e9",
   "metadata": {
    "scrolled": true
   },
   "outputs": [
    {
     "name": "stdout",
     "output_type": "stream",
     "text": [
      "Error processing file 17: list indices must be integers or slices, not str. Skipping file.\n",
      "Error processing file 430: list indices must be integers or slices, not str. Skipping file.\n",
      "Error processing file 1177: list indices must be integers or slices, not str. Skipping file.\n",
      "Error processing file 1270: list indices must be integers or slices, not str. Skipping file.\n",
      "Error processing file 1334: list indices must be integers or slices, not str. Skipping file.\n",
      "Error processing file 1373: list indices must be integers or slices, not str. Skipping file.\n",
      "Error processing file 1935: list indices must be integers or slices, not str. Skipping file.\n",
      "Error processing file 2163: list indices must be integers or slices, not str. Skipping file.\n"
     ]
    }
   ],
   "source": [
    "Pretreatmen(directory, 'C:\\\\Users\\\\gimge\\\\OneDrive\\\\문서\\\\dic_json\\\\unge_re')"
   ]
  },
  {
   "cell_type": "code",
   "execution_count": 116,
   "id": "4dfb0ab1",
   "metadata": {
    "scrolled": true
   },
   "outputs": [
    {
     "name": "stdout",
     "output_type": "stream",
     "text": [
      "Japanese found in file: a11111111.json\n",
      "Japanese found in file: playlist1004.json\n",
      "Japanese found in file: playlist1010.json\n",
      "Japanese found in file: playlist1018.json\n",
      "Japanese found in file: playlist1020.json\n",
      "Japanese found in file: playlist1038.json\n",
      "Japanese found in file: playlist1055.json\n",
      "Japanese found in file: playlist1067.json\n",
      "Japanese found in file: playlist1083.json\n",
      "Japanese found in file: playlist1099.json\n",
      "Japanese found in file: playlist111.json\n",
      "Japanese found in file: playlist1118.json\n",
      "Japanese found in file: playlist1122.json\n",
      "Japanese found in file: playlist1129.json\n",
      "Japanese found in file: playlist1138.json\n",
      "Japanese found in file: playlist1153.json\n",
      "Japanese found in file: playlist1154.json\n",
      "Japanese found in file: playlist1157.json\n",
      "Japanese found in file: playlist1163.json\n",
      "Japanese found in file: playlist1173.json\n",
      "Japanese found in file: playlist1176.json\n"
     ]
    },
    {
     "ename": "TypeError",
     "evalue": "list indices must be integers or slices, not str",
     "output_type": "error",
     "traceback": [
      "\u001b[1;31m---------------------------------------------------------------------------\u001b[0m",
      "\u001b[1;31mTypeError\u001b[0m                                 Traceback (most recent call last)",
      "Cell \u001b[1;32mIn[116], line 25\u001b[0m\n\u001b[0;32m     22\u001b[0m                     \u001b[38;5;28mprint\u001b[39m(\u001b[38;5;124mf\u001b[39m\u001b[38;5;124m\"\u001b[39m\u001b[38;5;124mError reading JSON from file: \u001b[39m\u001b[38;5;132;01m{\u001b[39;00mfilename\u001b[38;5;132;01m}\u001b[39;00m\u001b[38;5;124m\"\u001b[39m)\n\u001b[0;32m     24\u001b[0m \u001b[38;5;66;03m# 사용 예\u001b[39;00m\n\u001b[1;32m---> 25\u001b[0m find_japanese_in_lyrics(directory)\n",
      "Cell \u001b[1;32mIn[116], line 17\u001b[0m, in \u001b[0;36mfind_japanese_in_lyrics\u001b[1;34m(directory)\u001b[0m\n\u001b[0;32m     15\u001b[0m data \u001b[38;5;241m=\u001b[39m json\u001b[38;5;241m.\u001b[39mload(file)\n\u001b[0;32m     16\u001b[0m \u001b[38;5;66;03m# 'lyric' 리스트의 각 원소를 검사\u001b[39;00m\n\u001b[1;32m---> 17\u001b[0m \u001b[38;5;28;01mfor\u001b[39;00m lyric \u001b[38;5;129;01min\u001b[39;00m data[\u001b[38;5;124m'\u001b[39m\u001b[38;5;124msong_info\u001b[39m\u001b[38;5;124m'\u001b[39m][\u001b[38;5;124m'\u001b[39m\u001b[38;5;124mlyric\u001b[39m\u001b[38;5;124m'\u001b[39m]:\n\u001b[0;32m     18\u001b[0m     \u001b[38;5;28;01mif\u001b[39;00m japanese\u001b[38;5;241m.\u001b[39msearch(lyric):\n\u001b[0;32m     19\u001b[0m         \u001b[38;5;28mprint\u001b[39m(\u001b[38;5;124mf\u001b[39m\u001b[38;5;124m\"\u001b[39m\u001b[38;5;124mJapanese found in file: \u001b[39m\u001b[38;5;132;01m{\u001b[39;00mfilename\u001b[38;5;132;01m}\u001b[39;00m\u001b[38;5;124m\"\u001b[39m)\n",
      "\u001b[1;31mTypeError\u001b[0m: list indices must be integers or slices, not str"
     ]
    }
   ],
   "source": []
  },
  {
   "cell_type": "code",
   "execution_count": null,
   "id": "b3b1c31e",
   "metadata": {},
   "outputs": [],
   "source": []
  }
 ],
 "metadata": {
  "kernelspec": {
   "display_name": "Python 3 (ipykernel)",
   "language": "python",
   "name": "python3"
  },
  "language_info": {
   "codemirror_mode": {
    "name": "ipython",
    "version": 3
   },
   "file_extension": ".py",
   "mimetype": "text/x-python",
   "name": "python",
   "nbconvert_exporter": "python",
   "pygments_lexer": "ipython3",
   "version": "3.11.4"
  }
 },
 "nbformat": 4,
 "nbformat_minor": 5
}
